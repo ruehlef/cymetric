{
 "cells": [
  {
   "cell_type": "markdown",
   "metadata": {},
   "source": [
    "# Exploring the TensorFlow models\n",
    "\n",
    "In this notebook we will utilise some simple dense neural networks in finding Ricci-flat Calabi-Yau metrics. \n",
    "In particular we will make use of the following three tensorflow models.\n",
    "\n",
    "1. *MultFSModel*: uses the following Ansatz for the CY metric: $g_{pred} = g_{FS} ( 1 + g_{NN})$.\n",
    "2. *PhiFSModel*: uses the following Ansatz for the CY metric: $g_{pred} = g_{FS} + \\partial \\bar{\\partial} \\phi_{NN}$.\n",
    "2. *ToricPhiFSModel*: is the same as *PhiFSModel*, but for toric CYs.\n",
    "\n",
    "This notebook assumes that [1.PointGenerator](1.PointGenerator.ipynb) has generated datasets for the Fermat quintic."
   ]
  },
  {
   "cell_type": "code",
   "execution_count": 1,
   "metadata": {},
   "outputs": [],
   "source": [
    "import numpy as np\n",
    "import os as os\n",
    "import tensorflow as tf\n",
    "tfk = tf.keras"
   ]
  },
  {
   "cell_type": "markdown",
   "metadata": {},
   "source": [
    "## MultFSModel \n",
    "\n",
    "The *MultFSModel* works for any CICY.\n",
    "\n",
    "### Data preprocessing\n",
    "\n",
    "We load the dataset and also the generated basis from *PointGenerator*"
   ]
  },
  {
   "cell_type": "code",
   "execution_count": 6,
   "metadata": {},
   "outputs": [],
   "source": [
    "dirname = 'fermat_pg'"
   ]
  },
  {
   "cell_type": "code",
   "execution_count": 7,
   "metadata": {},
   "outputs": [],
   "source": [
    "data = np.load(os.path.join(dirname, 'dataset.npz'))\n",
    "BASIS = np.load(os.path.join(dirname, 'basis.pickle'), allow_pickle=True)"
   ]
  },
  {
   "cell_type": "markdown",
   "metadata": {},
   "source": [
    "tensorflow can only compute derivatives w.r.t. tensor objects. Thus we transform the *BASIS* using"
   ]
  },
  {
   "cell_type": "code",
   "execution_count": 8,
   "metadata": {},
   "outputs": [],
   "source": [
    "from cymetric.models.helper import prepare_basis, train_model"
   ]
  },
  {
   "cell_type": "code",
   "execution_count": 9,
   "metadata": {},
   "outputs": [],
   "source": [
    "BASIS = prepare_basis(BASIS)"
   ]
  },
  {
   "cell_type": "markdown",
   "metadata": {},
   "source": [
    "Our integration weights set the overall volume of the CY. This parameter is usually denoted with $\\kappa$ and contributes directly in the MA equation."
   ]
  },
  {
   "cell_type": "code",
   "execution_count": 10,
   "metadata": {},
   "outputs": [
    {
     "data": {
      "text/plain": [
       "np.float64(0.01758977139384217)"
      ]
     },
     "execution_count": 10,
     "metadata": {},
     "output_type": "execute_result"
    }
   ],
   "source": [
    "kappa = np.real(BASIS['KAPPA'])\n",
    "kappa"
   ]
  },
  {
   "cell_type": "markdown",
   "metadata": {},
   "source": [
    "### NN set up\n",
    "\n",
    "The *cymetric*-TensorFlow models are custom models and come with custom needs. We have written several callbacks and metrics to track the training progress."
   ]
  },
  {
   "cell_type": "code",
   "execution_count": 11,
   "metadata": {},
   "outputs": [],
   "source": [
    "from cymetric.models.callbacks import RicciCallback, SigmaCallback, VolkCallback, KaehlerCallback, TransitionCallback\n",
    "from cymetric.models.models import MultFSModel"
   ]
  },
  {
   "cell_type": "markdown",
   "metadata": {},
   "source": [
    "We define some callbacks to evaluate the performance of our models on the\n",
    "\n",
    "1. Ricci-measure\n",
    "2. Sigma-measure\n",
    "3. Volume"
   ]
  },
  {
   "cell_type": "code",
   "execution_count": 12,
   "metadata": {},
   "outputs": [],
   "source": [
    "rcb = RicciCallback((data['X_val'], data['y_val']), data['val_pullbacks'])\n",
    "scb = SigmaCallback((data['X_val'], data['y_val']))\n",
    "volkcb = VolkCallback((data['X_val'], data['y_val']))\n",
    "kcb = KaehlerCallback((data['X_val'], data['y_val']))\n",
    "tcb = TransitionCallback((data['X_val'], data['y_val']))\n",
    "cb_list = [rcb, scb, kcb, tcb, volkcb]"
   ]
  },
  {
   "cell_type": "markdown",
   "metadata": {},
   "source": [
    "set some hyperparameters for the NN"
   ]
  },
  {
   "cell_type": "code",
   "execution_count": 13,
   "metadata": {},
   "outputs": [],
   "source": [
    "nlayer = 3\n",
    "nHidden = 64\n",
    "act = 'gelu'\n",
    "nEpochs = 5\n",
    "bSizes = [64, 50000]\n",
    "alpha = [1., 1., 1., 1., 1.]\n",
    "nfold = 3\n",
    "n_in = 2*5\n",
    "n_out = nfold**2"
   ]
  },
  {
   "cell_type": "markdown",
   "metadata": {},
   "source": [
    "and finally set up the neural net"
   ]
  },
  {
   "cell_type": "code",
   "execution_count": 12,
   "metadata": {},
   "outputs": [],
   "source": [
    "nn = tf.keras.Sequential()\n",
    "nn.add(tfk.Input(shape=(n_in,)))\n",
    "for i in range(nlayer):\n",
    "    nn.add(tfk.layers.Dense(nHidden, activation=act))\n",
    "nn.add(tfk.layers.Dense(n_out, use_bias=False))"
   ]
  },
  {
   "cell_type": "markdown",
   "metadata": {},
   "source": [
    "the *MultFSModel* requires as arguments \n",
    "\n",
    "1. the nn, which we have defined above, \n",
    "2. the *PointGenerator*-*BASIS* which contains all relevant information of the underlying Calabi-Yau.\n",
    "\n",
    "It has optional arguments for\n",
    "\n",
    "1. The overall volume of the CY. We give kappa to stay at the same volume as the integration weights.\n",
    "2. alpha, which weights the different loss contributions (1-MA loss, 2-Kähler loss, 3-transition loss, 4-Ricci loss (by default disabled), 5-volk loss)."
   ]
  },
  {
   "cell_type": "code",
   "execution_count": 14,
   "metadata": {},
   "outputs": [],
   "source": [
    "fmodel = MultFSModel(nn, BASIS, alpha=alpha)"
   ]
  },
  {
   "cell_type": "markdown",
   "metadata": {},
   "source": [
    "we use the optimizer"
   ]
  },
  {
   "cell_type": "code",
   "execution_count": 15,
   "metadata": {},
   "outputs": [],
   "source": [
    "opt = tfk.optimizers.Adam()"
   ]
  },
  {
   "cell_type": "markdown",
   "metadata": {},
   "source": [
    "compile and train the model"
   ]
  },
  {
   "cell_type": "code",
   "execution_count": 16,
   "metadata": {
    "collapsed": true,
    "jupyter": {
     "outputs_hidden": true
    }
   },
   "outputs": [
    {
     "name": "stdout",
     "output_type": "stream",
     "text": [
      "\n",
      "Epoch  1/5\n",
      "\u001b[1m1407/1407\u001b[0m \u001b[32m━━━━━━━━━━━━━━━━━━━━\u001b[0m\u001b[37m\u001b[0m \u001b[1m11s\u001b[0m 4ms/step - kaehler_loss: 0.0055 - loss: 0.1819 - ricci_loss: 0.0000e+00 - sigma_loss: 0.1657 - transition_loss: 0.0107 - volk_loss: 0.0000e+00\n",
      "\u001b[1m2/2\u001b[0m \u001b[32m━━━━━━━━━━━━━━━━━━━━\u001b[0m\u001b[37m\u001b[0m \u001b[1m0s\u001b[0m 760ms/step - kaehler_loss: 0.0071 - loss: 0.1141 - ricci_loss: 0.0000e+00 - sigma_loss: 0.0978 - transition_loss: 0.0092 - volk_loss: 0.0000e+00"
     ]
    },
    {
     "name": "stderr",
     "output_type": "stream",
     "text": [
      "2025-07-17 19:24:26.991278: I tensorflow/core/framework/local_rendezvous.cc:407] Local rendezvous is aborting with status: OUT_OF_RANGE: End of sequence\n"
     ]
    },
    {
     "name": "stdout",
     "output_type": "stream",
     "text": [
      " - Ricci measure val:      1.2170\n",
      " - Sigma measure val:      0.1016\n"
     ]
    },
    {
     "name": "stderr",
     "output_type": "stream",
     "text": [
      "2025-07-17 19:24:27.816541: I tensorflow/core/framework/local_rendezvous.cc:407] Local rendezvous is aborting with status: OUT_OF_RANGE: End of sequence\n"
     ]
    },
    {
     "name": "stdout",
     "output_type": "stream",
     "text": [
      " - Kaehler measure val:    0.0071\n",
      " - Transition measure val: 0.0092\n",
      " - Volk val:               4.8890\n",
      "\u001b[1m2/2\u001b[0m \u001b[32m━━━━━━━━━━━━━━━━━━━━\u001b[0m\u001b[37m\u001b[0m \u001b[1m5s\u001b[0m 4s/step - kaehler_loss: 0.0071 - loss: 0.1144 - ricci_loss: 0.0000e+00 - sigma_loss: 0.0981 - transition_loss: 0.0092 - volk_loss: 0.0000e+00 - ricci_val: 1.2170 - sigma_val: 0.1016 - kaehler_val: 0.0071 - transition_val: 0.0092 - volk_val: 4.8890\n",
      "\n",
      "Epoch  2/5\n",
      "\u001b[1m1407/1407\u001b[0m \u001b[32m━━━━━━━━━━━━━━━━━━━━\u001b[0m\u001b[37m\u001b[0m \u001b[1m6s\u001b[0m 5ms/step - kaehler_loss: 0.0063 - loss: 0.1079 - ricci_loss: 0.0000e+00 - sigma_loss: 0.0945 - transition_loss: 0.0071 - volk_loss: 0.0000e+00\n",
      "\u001b[1m2/2\u001b[0m \u001b[32m━━━━━━━━━━━━━━━━━━━━\u001b[0m\u001b[37m\u001b[0m \u001b[1m0s\u001b[0m 770ms/step - kaehler_loss: 0.0057 - loss: 0.1030 - ricci_loss: 0.0000e+00 - sigma_loss: 0.0919 - transition_loss: 0.0054 - volk_loss: 0.0000e+00 - Ricci measure val:      1.0993\n",
      " - Sigma measure val:      0.0946\n",
      " - Kaehler measure val:    0.0057\n",
      " - Transition measure val: 0.0053\n",
      " - Volk val:               5.0301\n",
      "\u001b[1m2/2\u001b[0m \u001b[32m━━━━━━━━━━━━━━━━━━━━\u001b[0m\u001b[37m\u001b[0m \u001b[1m2s\u001b[0m 1s/step - kaehler_loss: 0.0057 - loss: 0.1029 - ricci_loss: 0.0000e+00 - sigma_loss: 0.0918 - transition_loss: 0.0054 - volk_loss: 0.0000e+00 - ricci_val: 1.0993 - sigma_val: 0.0946 - kaehler_val: 0.0057 - transition_val: 0.0053 - volk_val: 5.0301\n",
      "\n",
      "Epoch  3/5\n",
      "\u001b[1m  20/1407\u001b[0m \u001b[37m━━━━━━━━━━━━━━━━━━━━\u001b[0m \u001b[1m7s\u001b[0m 6ms/step - kaehler_loss: 0.0059 - loss: 0.1071 - ricci_loss: 0.0000e+00 - sigma_loss: 0.0958 - transition_loss: 0.0054 - volk_loss: 0.0000e+00"
     ]
    },
    {
     "name": "stderr",
     "output_type": "stream",
     "text": [
      "2025-07-17 19:24:36.901192: I tensorflow/core/framework/local_rendezvous.cc:407] Local rendezvous is aborting with status: OUT_OF_RANGE: End of sequence\n"
     ]
    },
    {
     "name": "stdout",
     "output_type": "stream",
     "text": [
      "\u001b[1m1407/1407\u001b[0m \u001b[32m━━━━━━━━━━━━━━━━━━━━\u001b[0m\u001b[37m\u001b[0m \u001b[1m7s\u001b[0m 5ms/step - kaehler_loss: 0.0054 - loss: 0.0989 - ricci_loss: 0.0000e+00 - sigma_loss: 0.0893 - transition_loss: 0.0042 - volk_loss: 0.0000e+00\n",
      "\u001b[1m2/2\u001b[0m \u001b[32m━━━━━━━━━━━━━━━━━━━━\u001b[0m\u001b[37m\u001b[0m \u001b[1m0s\u001b[0m 773ms/step - kaehler_loss: 0.0047 - loss: 0.1054 - ricci_loss: 0.0000e+00 - sigma_loss: 0.0975 - transition_loss: 0.0032 - volk_loss: 0.0000e+00 - Ricci measure val:      1.0320\n",
      " - Sigma measure val:      0.0916\n",
      " - Kaehler measure val:    0.0048\n",
      " - Transition measure val: 0.0033\n",
      " - Volk val:               4.9650\n",
      "\u001b[1m2/2\u001b[0m \u001b[32m━━━━━━━━━━━━━━━━━━━━\u001b[0m\u001b[37m\u001b[0m \u001b[1m2s\u001b[0m 1s/step - kaehler_loss: 0.0047 - loss: 0.1044 - ricci_loss: 0.0000e+00 - sigma_loss: 0.0965 - transition_loss: 0.0032 - volk_loss: 0.0000e+00 - ricci_val: 1.0320 - sigma_val: 0.0916 - kaehler_val: 0.0048 - transition_val: 0.0033 - volk_val: 4.9650\n",
      "\n",
      "Epoch  4/5\n",
      "\u001b[1m1407/1407\u001b[0m \u001b[32m━━━━━━━━━━━━━━━━━━━━\u001b[0m\u001b[37m\u001b[0m \u001b[1m8s\u001b[0m 5ms/step - kaehler_loss: 0.0049 - loss: 0.0956 - ricci_loss: 0.0000e+00 - sigma_loss: 0.0876 - transition_loss: 0.0030 - volk_loss: 0.0000e+00\n",
      "\u001b[1m2/2\u001b[0m \u001b[32m━━━━━━━━━━━━━━━━━━━━\u001b[0m\u001b[37m\u001b[0m \u001b[1m0s\u001b[0m 726ms/step - kaehler_loss: 0.0048 - loss: 0.0949 - ricci_loss: 0.0000e+00 - sigma_loss: 0.0872 - transition_loss: 0.0028 - volk_loss: 0.0000e+00 - Ricci measure val:      1.0752\n",
      " - Sigma measure val:      0.0933\n",
      " - Kaehler measure val:    0.0049\n",
      " - Transition measure val: 0.0029\n",
      " - Volk val:               4.8709\n",
      "\u001b[1m2/2\u001b[0m \u001b[32m━━━━━━━━━━━━━━━━━━━━\u001b[0m\u001b[37m\u001b[0m \u001b[1m2s\u001b[0m 1s/step - kaehler_loss: 0.0048 - loss: 0.0950 - ricci_loss: 0.0000e+00 - sigma_loss: 0.0874 - transition_loss: 0.0028 - volk_loss: 0.0000e+00 - ricci_val: 1.0752 - sigma_val: 0.0933 - kaehler_val: 0.0049 - transition_val: 0.0029 - volk_val: 4.8709\n",
      "\n",
      "Epoch  5/5\n",
      "\u001b[1m  23/1407\u001b[0m \u001b[37m━━━━━━━━━━━━━━━━━━━━\u001b[0m \u001b[1m6s\u001b[0m 5ms/step - kaehler_loss: 0.0048 - loss: 0.0909 - ricci_loss: 0.0000e+00 - sigma_loss: 0.0833 - transition_loss: 0.0028 - volk_loss: 0.0000e+00"
     ]
    },
    {
     "name": "stderr",
     "output_type": "stream",
     "text": [
      "2025-07-17 19:24:55.861326: I tensorflow/core/framework/local_rendezvous.cc:407] Local rendezvous is aborting with status: OUT_OF_RANGE: End of sequence\n"
     ]
    },
    {
     "name": "stdout",
     "output_type": "stream",
     "text": [
      "\u001b[1m1407/1407\u001b[0m \u001b[32m━━━━━━━━━━━━━━━━━━━━\u001b[0m\u001b[37m\u001b[0m \u001b[1m7s\u001b[0m 5ms/step - kaehler_loss: 0.0048 - loss: 0.0938 - ricci_loss: 0.0000e+00 - sigma_loss: 0.0863 - transition_loss: 0.0027 - volk_loss: 0.0000e+00\n",
      "\u001b[1m2/2\u001b[0m \u001b[32m━━━━━━━━━━━━━━━━━━━━\u001b[0m\u001b[37m\u001b[0m \u001b[1m0s\u001b[0m 719ms/step - kaehler_loss: 0.0046 - loss: 0.1064 - ricci_loss: 0.0000e+00 - sigma_loss: 0.0992 - transition_loss: 0.0026 - volk_loss: 0.0000e+00 - Ricci measure val:      1.0719\n",
      " - Sigma measure val:      0.0981\n",
      " - Kaehler measure val:    0.0045\n",
      " - Transition measure val: 0.0026\n",
      " - Volk val:               5.0025\n",
      "\u001b[1m2/2\u001b[0m \u001b[32m━━━━━━━━━━━━━━━━━━━━\u001b[0m\u001b[37m\u001b[0m \u001b[1m2s\u001b[0m 1s/step - kaehler_loss: 0.0046 - loss: 0.1070 - ricci_loss: 0.0000e+00 - sigma_loss: 0.0998 - transition_loss: 0.0026 - volk_loss: 0.0000e+00 - ricci_val: 1.0719 - sigma_val: 0.0981 - kaehler_val: 0.0045 - transition_val: 0.0026 - volk_val: 5.0025\n"
     ]
    }
   ],
   "source": [
    "fmodel, training_history = train_model(fmodel, data, optimizer=opt, epochs=nEpochs, batch_sizes=bSizes, verbose=1, callbacks=cb_list)"
   ]
  },
  {
   "cell_type": "markdown",
   "metadata": {},
   "source": [
    "In the training process the ricci_loss is zero, because it has been disabled so we don't have to compute two additional derivatives during training. We keep track of the Ricci measure with the callbacks. The volume computed for the validation set (volk val) should be 5, which is $\\int_X J^3$ for the quintic with Kahler parameter $t=1$."
   ]
  },
  {
   "cell_type": "code",
   "execution_count": 17,
   "metadata": {},
   "outputs": [
    {
     "name": "stdout",
     "output_type": "stream",
     "text": [
      "epochs\n",
      "kaehler_loss\n",
      "kaehler_val\n",
      "loss\n",
      "ricci_loss\n",
      "ricci_val\n",
      "sigma_loss\n",
      "sigma_val\n",
      "transition_loss\n",
      "transition_val\n",
      "volk_loss\n",
      "volk_val\n"
     ]
    }
   ],
   "source": [
    "for key in sorted(training_history.keys()):\n",
    "    print(key)"
   ]
  },
  {
   "cell_type": "markdown",
   "metadata": {},
   "source": [
    "### Fancy plots\n",
    "\n",
    "and make some fancy plots. The packages below are not required for *cymetric*, so you might have to install them by hand."
   ]
  },
  {
   "cell_type": "code",
   "execution_count": 18,
   "metadata": {},
   "outputs": [],
   "source": [
    "import matplotlib.pyplot as plt\n",
    "import seaborn as sns\n",
    "import pandas as pd\n",
    "sns.set_style(\"darkgrid\")"
   ]
  },
  {
   "cell_type": "code",
   "execution_count": 19,
   "metadata": {},
   "outputs": [
    {
     "data": {
      "image/png": "[encoded data removed]",
      "text/plain": [
       "<Figure size 1000x1000 with 4 Axes>"
      ]
     },
     "metadata": {},
     "output_type": "display_data"
    }
   ],
   "source": [
    "hist = training_history\n",
    "hist['epochs'] = list(range(nEpochs))\n",
    "hist_data = pd.DataFrame(hist)\n",
    "fig, [[ax1, ax2], [ax3, ax4]] = plt.subplots(2, 2, figsize=(10,10))\n",
    "ax1.set_title(\"Monge-Ampere loss\")\n",
    "sns.scatterplot(x='epochs', y='sigma_loss', data=hist_data, alpha=0.75, ax=ax1, label=\"train\")\n",
    "sns.scatterplot(x='epochs', y='sigma_val', data=hist_data, alpha=0.75, ax=ax1, label=\"val\")\n",
    "\n",
    "ax2.set_title(\"Kahler loss\")\n",
    "sns.scatterplot(x='epochs', y='kaehler_loss', data=hist_data, alpha=0.75, ax=ax2, label=\"train\")\n",
    "sns.scatterplot(x='epochs', y='kaehler_val', data=hist_data, alpha=0.75, ax=ax2, label=\"val\")\n",
    "\n",
    "ax3.set_title(\"Transition loss\")\n",
    "sns.scatterplot(x='epochs', y='transition_loss', data=hist_data, alpha=0.75, ax=ax3, label=\"train\")\n",
    "sns.scatterplot(x='epochs', y='transition_val', data=hist_data, alpha=0.75, ax=ax3, label=\"val\")\n",
    "\n",
    "ax4.set_title(\"Ricci measure\")\n",
    "sns.scatterplot(x='sigma_val', y='ricci_val', data=hist_data, alpha=0.75, ax=ax4, label=\"test\");"
   ]
  },
  {
   "cell_type": "markdown",
   "metadata": {},
   "source": [
    "and we find a nice slope going towards the origin for optimization of the MA equation."
   ]
  },
  {
   "cell_type": "markdown",
   "metadata": {},
   "source": [
    "## The PhiFSModel\n",
    "\n",
    "is set up similar to the *MultFSModel*.\n",
    "\n",
    "### The NN\n",
    "\n",
    "now has a single output. We disable the bias in the last layer, because it's contribution will also be zero after taking the two derivatives w.r.t to the input coordinates."
   ]
  },
  {
   "cell_type": "code",
   "execution_count": 21,
   "metadata": {},
   "outputs": [],
   "source": [
    "n_out = 1\n",
    "nn_phi = tf.keras.Sequential()\n",
    "nn_phi.add(tfk.Input(shape=(n_in, )))\n",
    "for i in range(nlayer):\n",
    "    nn_phi.add(tfk.layers.Dense(nHidden, activation=act))\n",
    "nn_phi.add(tfk.layers.Dense(n_out, use_bias=False))"
   ]
  },
  {
   "cell_type": "code",
   "execution_count": 22,
   "metadata": {},
   "outputs": [],
   "source": [
    "from cymetric.models.models import PhiFSModel"
   ]
  },
  {
   "cell_type": "code",
   "execution_count": 23,
   "metadata": {},
   "outputs": [],
   "source": [
    "phimodel = PhiFSModel(nn_phi, BASIS, alpha=alpha)\n",
    "opt_phi = tfk.optimizers.Adam()"
   ]
  },
  {
   "cell_type": "markdown",
   "metadata": {},
   "source": [
    "and fit"
   ]
  },
  {
   "cell_type": "code",
   "execution_count": 24,
   "metadata": {},
   "outputs": [
    {
     "name": "stdout",
     "output_type": "stream",
     "text": [
      "\n",
      "Epoch  1/5\n",
      "\u001b[1m1407/1407\u001b[0m \u001b[32m━━━━━━━━━━━━━━━━━━━━\u001b[0m\u001b[37m\u001b[0m \u001b[1m6s\u001b[0m 3ms/step - kaehler_loss: 0.0000e+00 - loss: 0.2222 - ricci_loss: 0.0000e+00 - sigma_loss: 0.2152 - transition_loss: 0.0070 - volk_loss: 0.0000e+00\n",
      "\u001b[1m2/2\u001b[0m \u001b[32m━━━━━━━━━━━━━━━━━━━━\u001b[0m\u001b[37m\u001b[0m \u001b[1m0s\u001b[0m 546ms/step - kaehler_loss: 0.0000e+00 - loss: 0.1940 - ricci_loss: 0.0000e+00 - sigma_loss: 0.1896 - transition_loss: 0.0044 - volk_loss: 0.0000e+00 - Ricci measure val:      0.9249\n",
      " - Sigma measure val:      0.1646\n",
      " - Kaehler measure val:    1.2894e-15\n",
      " - Transition measure val: 0.0036\n",
      " - Volk val:               4.2571\n",
      "\u001b[1m2/2\u001b[0m \u001b[32m━━━━━━━━━━━━━━━━━━━━\u001b[0m\u001b[37m\u001b[0m \u001b[1m9s\u001b[0m 8s/step - kaehler_loss: 0.0000e+00 - loss: 0.1936 - ricci_loss: 0.0000e+00 - sigma_loss: 0.1893 - transition_loss: 0.0043 - volk_loss: 0.0000e+00 - ricci_val: 0.9249 - sigma_val: 0.1646 - kaehler_val: 1.2894e-15 - transition_val: 0.0036 - volk_val: 4.2571\n",
      "\n",
      "Epoch  2/5\n",
      "\u001b[1m1407/1407\u001b[0m \u001b[32m━━━━━━━━━━━━━━━━━━━━\u001b[0m\u001b[37m\u001b[0m \u001b[1m4s\u001b[0m 3ms/step - kaehler_loss: 0.0000e+00 - loss: 0.1550 - ricci_loss: 0.0000e+00 - sigma_loss: 0.1523 - transition_loss: 0.0027 - volk_loss: 0.0000e+00\n",
      "\u001b[1m2/2\u001b[0m \u001b[32m━━━━━━━━━━━━━━━━━━━━\u001b[0m\u001b[37m\u001b[0m \u001b[1m0s\u001b[0m 541ms/step - kaehler_loss: 0.0000e+00 - loss: 0.1499 - ricci_loss: 0.0000e+00 - sigma_loss: 0.1475 - transition_loss: 0.0024 - volk_loss: 0.0000e+00 - Ricci measure val:      1.2005\n",
      " - Sigma measure val:      0.1531\n",
      " - Kaehler measure val:    1.3896e-15\n",
      " - Transition measure val: 0.0029\n",
      " - Volk val:               4.9644\n",
      "\u001b[1m2/2\u001b[0m \u001b[32m━━━━━━━━━━━━━━━━━━━━\u001b[0m\u001b[37m\u001b[0m \u001b[1m4s\u001b[0m 4s/step - kaehler_loss: 0.0000e+00 - loss: 0.1497 - ricci_loss: 0.0000e+00 - sigma_loss: 0.1472 - transition_loss: 0.0025 - volk_loss: 0.0000e+00 - ricci_val: 1.2005 - sigma_val: 0.1531 - kaehler_val: 1.3896e-15 - transition_val: 0.0029 - volk_val: 4.9644\n",
      "\n",
      "Epoch  3/5\n",
      "\u001b[1m1407/1407\u001b[0m \u001b[32m━━━━━━━━━━━━━━━━━━━━\u001b[0m\u001b[37m\u001b[0m \u001b[1m4s\u001b[0m 3ms/step - kaehler_loss: 0.0000e+00 - loss: 0.1511 - ricci_loss: 0.0000e+00 - sigma_loss: 0.1486 - transition_loss: 0.0025 - volk_loss: 0.0000e+00\n",
      "\u001b[1m2/2\u001b[0m \u001b[32m━━━━━━━━━━━━━━━━━━━━\u001b[0m\u001b[37m\u001b[0m \u001b[1m0s\u001b[0m 597ms/step - kaehler_loss: 0.0000e+00 - loss: 0.1486 - ricci_loss: 0.0000e+00 - sigma_loss: 0.1462 - transition_loss: 0.0024 - volk_loss: 0.0000e+00 - Ricci measure val:      1.1334\n",
      " - Sigma measure val:      0.1502\n",
      " - Kaehler measure val:    1.3486e-15\n",
      " - Transition measure val: 0.0021\n",
      " - Volk val:               4.6664\n",
      "\u001b[1m2/2\u001b[0m \u001b[32m━━━━━━━━━━━━━━━━━━━━\u001b[0m\u001b[37m\u001b[0m \u001b[1m5s\u001b[0m 4s/step - kaehler_loss: 0.0000e+00 - loss: 0.1468 - ricci_loss: 0.0000e+00 - sigma_loss: 0.1445 - transition_loss: 0.0024 - volk_loss: 0.0000e+00 - ricci_val: 1.1334 - sigma_val: 0.1502 - kaehler_val: 1.3486e-15 - transition_val: 0.0021 - volk_val: 4.6664\n"
     ]
    },
    {
     "name": "stderr",
     "output_type": "stream",
     "text": [
      "2025-07-17 19:26:56.071393: I tensorflow/core/framework/local_rendezvous.cc:407] Local rendezvous is aborting with status: OUT_OF_RANGE: End of sequence\n"
     ]
    },
    {
     "name": "stdout",
     "output_type": "stream",
     "text": [
      "\n",
      "Epoch  4/5\n",
      "\u001b[1m1407/1407\u001b[0m \u001b[32m━━━━━━━━━━━━━━━━━━━━\u001b[0m\u001b[37m\u001b[0m \u001b[1m4s\u001b[0m 3ms/step - kaehler_loss: 0.0000e+00 - loss: 0.1473 - ricci_loss: 0.0000e+00 - sigma_loss: 0.1450 - transition_loss: 0.0024 - volk_loss: 0.0000e+00\n",
      "\u001b[1m2/2\u001b[0m \u001b[32m━━━━━━━━━━━━━━━━━━━━\u001b[0m\u001b[37m\u001b[0m \u001b[1m0s\u001b[0m 583ms/step - kaehler_loss: 0.0000e+00 - loss: 0.1388 - ricci_loss: 0.0000e+00 - sigma_loss: 0.1360 - transition_loss: 0.0027 - volk_loss: 0.0000e+00 - Ricci measure val:      1.0791\n",
      " - Sigma measure val:      0.1449\n",
      " - Kaehler measure val:    1.3172e-15\n",
      " - Transition measure val: 0.0022\n",
      " - Volk val:               4.6861\n",
      "\u001b[1m2/2\u001b[0m \u001b[32m━━━━━━━━━━━━━━━━━━━━\u001b[0m\u001b[37m\u001b[0m \u001b[1m4s\u001b[0m 4s/step - kaehler_loss: 0.0000e+00 - loss: 0.1382 - ricci_loss: 0.0000e+00 - sigma_loss: 0.1355 - transition_loss: 0.0026 - volk_loss: 0.0000e+00 - ricci_val: 1.0791 - sigma_val: 0.1449 - kaehler_val: 1.3172e-15 - transition_val: 0.0022 - volk_val: 4.6861\n",
      "\n",
      "Epoch  5/5\n",
      "\u001b[1m1407/1407\u001b[0m \u001b[32m━━━━━━━━━━━━━━━━━━━━\u001b[0m\u001b[37m\u001b[0m \u001b[1m3s\u001b[0m 2ms/step - kaehler_loss: 0.0000e+00 - loss: 0.1387 - ricci_loss: 0.0000e+00 - sigma_loss: 0.1363 - transition_loss: 0.0025 - volk_loss: 0.0000e+00\n",
      "\u001b[1m2/2\u001b[0m \u001b[32m━━━━━━━━━━━━━━━━━━━━\u001b[0m\u001b[37m\u001b[0m \u001b[1m0s\u001b[0m 570ms/step - kaehler_loss: 0.0000e+00 - loss: 0.1250 - ricci_loss: 0.0000e+00 - sigma_loss: 0.1227 - transition_loss: 0.0023 - volk_loss: 0.0000e+00 - Ricci measure val:      0.9059\n",
      " - Sigma measure val:      0.1292\n",
      " - Kaehler measure val:    1.3420e-15\n",
      " - Transition measure val: 0.0023\n",
      " - Volk val:               4.8325\n",
      "\u001b[1m2/2\u001b[0m \u001b[32m━━━━━━━━━━━━━━━━━━━━\u001b[0m\u001b[37m\u001b[0m \u001b[1m4s\u001b[0m 4s/step - kaehler_loss: 0.0000e+00 - loss: 0.1245 - ricci_loss: 0.0000e+00 - sigma_loss: 0.1222 - transition_loss: 0.0023 - volk_loss: 0.0000e+00 - ricci_val: 0.9059 - sigma_val: 0.1292 - kaehler_val: 1.3420e-15 - transition_val: 0.0023 - volk_val: 4.8325\n"
     ]
    }
   ],
   "source": [
    "phimodel, training_history = train_model(phimodel, data, optimizer=opt_phi, epochs=nEpochs, batch_sizes=bSizes, verbose=1, callbacks=cb_list)"
   ]
  },
  {
   "cell_type": "markdown",
   "metadata": {},
   "source": [
    "we find that in addition to the ricci-loss also the kaehler-loss is zero. These latter is satisfied by construction in the $\\phi$-network and thus disabled."
   ]
  },
  {
   "cell_type": "markdown",
   "metadata": {},
   "source": [
    "## The ToricPhiFSModel\n",
    "\n",
    "requires additional toric data.\n",
    "\n",
    "### The NN\n",
    "\n",
    "is the same as for the *PhiFSModel*."
   ]
  },
  {
   "cell_type": "code",
   "execution_count": 10,
   "metadata": {},
   "outputs": [],
   "source": [
    "n_in = 2*5\n",
    "nlayer = 3\n",
    "nHidden = 64\n",
    "act = 'gelu'\n",
    "\n",
    "nEpochs = 10\n",
    "bSizes = [64, 50000]\n",
    "\n",
    "nfold = 3\n",
    "n_out = 1\n",
    "alpha = [1., 1., 1., 1., 1.]\n",
    "nn_phit = tf.keras.Sequential()\n",
    "nn_phit.add(tfk.Input(shape=(n_in, )))\n",
    "for i in range(nlayer):\n",
    "    nn_phit.add(tfk.layers.Dense(nHidden, activation=act))\n",
    "nn_phit.add(tfk.layers.Dense(n_out, use_bias=False))"
   ]
  },
  {
   "cell_type": "code",
   "execution_count": 16,
   "metadata": {},
   "outputs": [],
   "source": [
    "from cymetric.models.models import PhiFSModelToric\n",
    "from cymetric.models.callbacks import RicciCallback, SigmaCallback, VolkCallback, KaehlerCallback, TransitionCallback\n",
    "from cymetric.models.helper import prepare_basis, train_model\n"
   ]
  },
  {
   "cell_type": "markdown",
   "metadata": {},
   "source": [
    "load toric data"
   ]
  },
  {
   "cell_type": "code",
   "execution_count": 17,
   "metadata": {},
   "outputs": [],
   "source": [
    "dirname = 'fermat_pgtoricmath'\n",
    "toric_data = np.load(os.path.join(dirname, 'toric_data.pickle'), allow_pickle=True)\n",
    "data = np.load(os.path.join(dirname, 'dataset.npz'))\n",
    "BASIS = np.load(os.path.join(dirname, 'basis.pickle'), allow_pickle=True)\n",
    "BASIS = prepare_basis(BASIS)"
   ]
  },
  {
   "cell_type": "code",
   "execution_count": 18,
   "metadata": {},
   "outputs": [],
   "source": [
    "phimodel_toric = PhiFSModelToric(nn_phit, BASIS, alpha=alpha, toric_data=toric_data)\n",
    "opt_phit = tfk.optimizers.Adam()\n",
    "\n",
    "rcb = RicciCallback((data['X_val'], data['y_val']), data['val_pullbacks'])\n",
    "scb = SigmaCallback((data['X_val'], data['y_val']))\n",
    "volkcb = VolkCallback((data['X_val'], data['y_val']))\n",
    "kcb = KaehlerCallback((data['X_val'], data['y_val']))\n",
    "tcb = TransitionCallback((data['X_val'], data['y_val']))\n",
    "cb_list = [rcb, scb, kcb, tcb, volkcb]"
   ]
  },
  {
   "cell_type": "markdown",
   "metadata": {},
   "source": [
    "and fit"
   ]
  },
  {
   "cell_type": "code",
   "execution_count": 19,
   "metadata": {},
   "outputs": [
    {
     "name": "stdout",
     "output_type": "stream",
     "text": [
      "\n",
      "Epoch  1/10\n",
      "\u001b[1m1408/1408\u001b[0m \u001b[32m━━━━━━━━━━━━━━━━━━━━\u001b[0m\u001b[37m\u001b[0m \u001b[1m5s\u001b[0m 2ms/step - kaehler_loss: 0.0000e+00 - loss: 0.3483 - ricci_loss: 0.0000e+00 - sigma_loss: 0.3288 - transition_loss: 0.0195 - volk_loss: 0.0000e+00\n",
      "\u001b[1m2/2\u001b[0m \u001b[32m━━━━━━━━━━━━━━━━━━━━\u001b[0m\u001b[37m\u001b[0m \u001b[1m0s\u001b[0m 787ms/step - kaehler_loss: 0.0000e+00 - loss: 0.3189 - ricci_loss: 0.0000e+00 - sigma_loss: 0.3001 - transition_loss: 0.0188 - volk_loss: 0.0000e+00"
     ]
    },
    {
     "name": "stderr",
     "output_type": "stream",
     "text": [
      "2025-07-18 13:57:57.293137: I tensorflow/core/framework/local_rendezvous.cc:407] Local rendezvous is aborting with status: OUT_OF_RANGE: End of sequence\n"
     ]
    },
    {
     "name": "stdout",
     "output_type": "stream",
     "text": [
      " - Ricci measure val:      3.6325\n",
      " - Sigma measure val:      0.3355\n"
     ]
    },
    {
     "name": "stderr",
     "output_type": "stream",
     "text": [
      "2025-07-18 13:58:02.568693: I tensorflow/core/framework/local_rendezvous.cc:407] Local rendezvous is aborting with status: OUT_OF_RANGE: End of sequence\n"
     ]
    },
    {
     "name": "stdout",
     "output_type": "stream",
     "text": [
      " - Kaehler measure val:    1.7629e-14\n",
      " - Transition measure val: 0.0205\n",
      " - Volk val:               4.0210\n",
      "\u001b[1m2/2\u001b[0m \u001b[32m━━━━━━━━━━━━━━━━━━━━\u001b[0m\u001b[37m\u001b[0m \u001b[1m15s\u001b[0m 14s/step - kaehler_loss: 0.0000e+00 - loss: 0.3188 - ricci_loss: 0.0000e+00 - sigma_loss: 0.3000 - transition_loss: 0.0189 - volk_loss: 0.0000e+00 - ricci_val: 3.6325 - sigma_val: 0.3355 - kaehler_val: 1.7629e-14 - transition_val: 0.0205 - volk_val: 4.0210\n",
      "\n",
      "Epoch  2/10\n",
      "\u001b[1m1408/1408\u001b[0m \u001b[32m━━━━━━━━━━━━━━━━━━━━\u001b[0m\u001b[37m\u001b[0m \u001b[1m4s\u001b[0m 3ms/step - kaehler_loss: 0.0000e+00 - loss: 0.3006 - ricci_loss: 0.0000e+00 - sigma_loss: 0.2827 - transition_loss: 0.0179 - volk_loss: 0.0000e+00\n",
      "\u001b[1m2/2\u001b[0m \u001b[32m━━━━━━━━━━━━━━━━━━━━\u001b[0m\u001b[37m\u001b[0m \u001b[1m0s\u001b[0m 825ms/step - kaehler_loss: 0.0000e+00 - loss: 0.2739 - ricci_loss: 0.0000e+00 - sigma_loss: 0.2588 - transition_loss: 0.0151 - volk_loss: 0.0000e+00 - Ricci measure val:      3.4501\n",
      " - Sigma measure val:      0.2970\n"
     ]
    },
    {
     "name": "stderr",
     "output_type": "stream",
     "text": [
      "2025-07-18 13:58:13.326522: I tensorflow/core/framework/local_rendezvous.cc:407] Local rendezvous is aborting with status: OUT_OF_RANGE: End of sequence\n"
     ]
    },
    {
     "name": "stdout",
     "output_type": "stream",
     "text": [
      " - Kaehler measure val:    1.7867e-14\n",
      " - Transition measure val: 0.0156\n",
      " - Volk val:               4.0662\n",
      "\u001b[1m2/2\u001b[0m \u001b[32m━━━━━━━━━━━━━━━━━━━━\u001b[0m\u001b[37m\u001b[0m \u001b[1m6s\u001b[0m 5s/step - kaehler_loss: 0.0000e+00 - loss: 0.2739 - ricci_loss: 0.0000e+00 - sigma_loss: 0.2583 - transition_loss: 0.0156 - volk_loss: 0.0000e+00 - ricci_val: 3.4501 - sigma_val: 0.2970 - kaehler_val: 1.7867e-14 - transition_val: 0.0156 - volk_val: 4.0662\n",
      "\n",
      "Epoch  3/10\n",
      "\u001b[1m1408/1408\u001b[0m \u001b[32m━━━━━━━━━━━━━━━━━━━━\u001b[0m\u001b[37m\u001b[0m \u001b[1m4s\u001b[0m 3ms/step - kaehler_loss: 0.0000e+00 - loss: 0.2609 - ricci_loss: 0.0000e+00 - sigma_loss: 0.2456 - transition_loss: 0.0152 - volk_loss: 0.0000e+00\n",
      "\u001b[1m2/2\u001b[0m \u001b[32m━━━━━━━━━━━━━━━━━━━━\u001b[0m\u001b[37m\u001b[0m \u001b[1m0s\u001b[0m 900ms/step - kaehler_loss: 0.0000e+00 - loss: 0.2418 - ricci_loss: 0.0000e+00 - sigma_loss: 0.2302 - transition_loss: 0.0117 - volk_loss: 0.0000e+00 - Ricci measure val:      3.4505\n",
      " - Sigma measure val:      0.2690\n",
      " - Kaehler measure val:    1.8793e-14\n",
      " - Transition measure val: 0.0123\n",
      " - Volk val:               4.3657\n",
      "\u001b[1m2/2\u001b[0m \u001b[32m━━━━━━━━━━━━━━━━━━━━\u001b[0m\u001b[37m\u001b[0m \u001b[1m6s\u001b[0m 5s/step - kaehler_loss: 0.0000e+00 - loss: 0.2415 - ricci_loss: 0.0000e+00 - sigma_loss: 0.2302 - transition_loss: 0.0113 - volk_loss: 0.0000e+00 - ricci_val: 3.4505 - sigma_val: 0.2690 - kaehler_val: 1.8793e-14 - transition_val: 0.0123 - volk_val: 4.3657\n",
      "\n",
      "Epoch  4/10\n",
      "\u001b[1m1408/1408\u001b[0m \u001b[32m━━━━━━━━━━━━━━━━━━━━\u001b[0m\u001b[37m\u001b[0m \u001b[1m4s\u001b[0m 3ms/step - kaehler_loss: 0.0000e+00 - loss: 0.2305 - ricci_loss: 0.0000e+00 - sigma_loss: 0.2176 - transition_loss: 0.0129 - volk_loss: 0.0000e+00\n",
      "\u001b[1m2/2\u001b[0m \u001b[32m━━━━━━━━━━━━━━━━━━━━\u001b[0m\u001b[37m\u001b[0m \u001b[1m0s\u001b[0m 878ms/step - kaehler_loss: 0.0000e+00 - loss: 0.2206 - ricci_loss: 0.0000e+00 - sigma_loss: 0.2069 - transition_loss: 0.0138 - volk_loss: 0.0000e+00 - Ricci measure val:      3.0898\n",
      " - Sigma measure val:      0.2470\n"
     ]
    },
    {
     "name": "stderr",
     "output_type": "stream",
     "text": [
      "2025-07-18 13:58:33.942086: I tensorflow/core/framework/local_rendezvous.cc:407] Local rendezvous is aborting with status: OUT_OF_RANGE: End of sequence\n"
     ]
    },
    {
     "name": "stdout",
     "output_type": "stream",
     "text": [
      " - Kaehler measure val:    1.9033e-14\n",
      " - Transition measure val: 0.0120\n",
      " - Volk val:               4.2689\n",
      "\u001b[1m2/2\u001b[0m \u001b[32m━━━━━━━━━━━━━━━━━━━━\u001b[0m\u001b[37m\u001b[0m \u001b[1m6s\u001b[0m 5s/step - kaehler_loss: 0.0000e+00 - loss: 0.2203 - ricci_loss: 0.0000e+00 - sigma_loss: 0.2065 - transition_loss: 0.0137 - volk_loss: 0.0000e+00 - ricci_val: 3.0898 - sigma_val: 0.2470 - kaehler_val: 1.9033e-14 - transition_val: 0.0120 - volk_val: 4.2689\n",
      "\n",
      "Epoch  5/10\n",
      "\u001b[1m1408/1408\u001b[0m \u001b[32m━━━━━━━━━━━━━━━━━━━━\u001b[0m\u001b[37m\u001b[0m \u001b[1m4s\u001b[0m 3ms/step - kaehler_loss: 0.0000e+00 - loss: 0.2098 - ricci_loss: 0.0000e+00 - sigma_loss: 0.1980 - transition_loss: 0.0118 - volk_loss: 0.0000e+00\n",
      "\u001b[1m2/2\u001b[0m \u001b[32m━━━━━━━━━━━━━━━━━━━━\u001b[0m\u001b[37m\u001b[0m \u001b[1m0s\u001b[0m 870ms/step - kaehler_loss: 0.0000e+00 - loss: 0.2016 - ricci_loss: 0.0000e+00 - sigma_loss: 0.1891 - transition_loss: 0.0124 - volk_loss: 0.0000e+00 - Ricci measure val:      3.1475\n",
      " - Sigma measure val:      0.2269\n",
      " - Kaehler measure val:    1.9547e-14\n",
      " - Transition measure val: 0.0114\n",
      " - Volk val:               4.4749\n",
      "\u001b[1m2/2\u001b[0m \u001b[32m━━━━━━━━━━━━━━━━━━━━\u001b[0m\u001b[37m\u001b[0m \u001b[1m6s\u001b[0m 5s/step - kaehler_loss: 0.0000e+00 - loss: 0.2015 - ricci_loss: 0.0000e+00 - sigma_loss: 0.1889 - transition_loss: 0.0126 - volk_loss: 0.0000e+00 - ricci_val: 3.1475 - sigma_val: 0.2269 - kaehler_val: 1.9547e-14 - transition_val: 0.0114 - volk_val: 4.4749\n",
      "\n",
      "Epoch  6/10\n",
      "\u001b[1m1408/1408\u001b[0m \u001b[32m━━━━━━━━━━━━━━━━━━━━\u001b[0m\u001b[37m\u001b[0m \u001b[1m4s\u001b[0m 3ms/step - kaehler_loss: 0.0000e+00 - loss: 0.1948 - ricci_loss: 0.0000e+00 - sigma_loss: 0.1838 - transition_loss: 0.0110 - volk_loss: 0.0000e+00\n",
      "\u001b[1m2/2\u001b[0m \u001b[32m━━━━━━━━━━━━━━━━━━━━\u001b[0m\u001b[37m\u001b[0m \u001b[1m0s\u001b[0m 910ms/step - kaehler_loss: 0.0000e+00 - loss: 0.1851 - ricci_loss: 0.0000e+00 - sigma_loss: 0.1748 - transition_loss: 0.0102 - volk_loss: 0.0000e+00 - Ricci measure val:      3.1440\n",
      " - Sigma measure val:      0.2122\n",
      " - Kaehler measure val:    1.9676e-14\n",
      " - Transition measure val: 0.0107\n",
      " - Volk val:               4.4812\n",
      "\u001b[1m2/2\u001b[0m \u001b[32m━━━━━━━━━━━━━━━━━━━━\u001b[0m\u001b[37m\u001b[0m \u001b[1m6s\u001b[0m 5s/step - kaehler_loss: 0.0000e+00 - loss: 0.1849 - ricci_loss: 0.0000e+00 - sigma_loss: 0.1747 - transition_loss: 0.0102 - volk_loss: 0.0000e+00 - ricci_val: 3.1440 - sigma_val: 0.2122 - kaehler_val: 1.9676e-14 - transition_val: 0.0107 - volk_val: 4.4812\n",
      "\n",
      "Epoch  7/10\n",
      "\u001b[1m1408/1408\u001b[0m \u001b[32m━━━━━━━━━━━━━━━━━━━━\u001b[0m\u001b[37m\u001b[0m \u001b[1m4s\u001b[0m 3ms/step - kaehler_loss: 0.0000e+00 - loss: 0.1833 - ricci_loss: 0.0000e+00 - sigma_loss: 0.1727 - transition_loss: 0.0106 - volk_loss: 0.0000e+00\n",
      "\u001b[1m2/2\u001b[0m \u001b[32m━━━━━━━━━━━━━━━━━━━━\u001b[0m\u001b[37m\u001b[0m \u001b[1m0s\u001b[0m 856ms/step - kaehler_loss: 0.0000e+00 - loss: 0.1751 - ricci_loss: 0.0000e+00 - sigma_loss: 0.1649 - transition_loss: 0.0102 - volk_loss: 0.0000e+00 - Ricci measure val:      3.0930\n",
      " - Sigma measure val:      0.2059\n",
      " - Kaehler measure val:    1.9898e-14\n",
      " - Transition measure val: 0.0115\n",
      " - Volk val:               4.4428\n",
      "\u001b[1m2/2\u001b[0m \u001b[32m━━━━━━━━━━━━━━━━━━━━\u001b[0m\u001b[37m\u001b[0m \u001b[1m6s\u001b[0m 5s/step - kaehler_loss: 0.0000e+00 - loss: 0.1752 - ricci_loss: 0.0000e+00 - sigma_loss: 0.1649 - transition_loss: 0.0103 - volk_loss: 0.0000e+00 - ricci_val: 3.0930 - sigma_val: 0.2059 - kaehler_val: 1.9898e-14 - transition_val: 0.0115 - volk_val: 4.4428\n",
      "\n",
      "Epoch  8/10\n",
      "\u001b[1m1408/1408\u001b[0m \u001b[32m━━━━━━━━━━━━━━━━━━━━\u001b[0m\u001b[37m\u001b[0m \u001b[1m4s\u001b[0m 3ms/step - kaehler_loss: 0.0000e+00 - loss: 0.1748 - ricci_loss: 0.0000e+00 - sigma_loss: 0.1645 - transition_loss: 0.0103 - volk_loss: 0.0000e+00\n",
      "\u001b[1m2/2\u001b[0m \u001b[32m━━━━━━━━━━━━━━━━━━━━\u001b[0m\u001b[37m\u001b[0m \u001b[1m0s\u001b[0m 890ms/step - kaehler_loss: 0.0000e+00 - loss: 0.1680 - ricci_loss: 0.0000e+00 - sigma_loss: 0.1568 - transition_loss: 0.0111 - volk_loss: 0.0000e+00 - Ricci measure val:      2.8988\n",
      " - Sigma measure val:      0.1972\n"
     ]
    },
    {
     "name": "stderr",
     "output_type": "stream",
     "text": [
      "2025-07-18 13:59:14.760614: I tensorflow/core/framework/local_rendezvous.cc:407] Local rendezvous is aborting with status: OUT_OF_RANGE: End of sequence\n"
     ]
    },
    {
     "name": "stdout",
     "output_type": "stream",
     "text": [
      " - Kaehler measure val:    1.9779e-14\n",
      " - Transition measure val: 0.0106\n",
      " - Volk val:               4.4219\n",
      "\u001b[1m2/2\u001b[0m \u001b[32m━━━━━━━━━━━━━━━━━━━━\u001b[0m\u001b[37m\u001b[0m \u001b[1m6s\u001b[0m 5s/step - kaehler_loss: 0.0000e+00 - loss: 0.1681 - ricci_loss: 0.0000e+00 - sigma_loss: 0.1569 - transition_loss: 0.0112 - volk_loss: 0.0000e+00 - ricci_val: 2.8988 - sigma_val: 0.1972 - kaehler_val: 1.9779e-14 - transition_val: 0.0106 - volk_val: 4.4219\n",
      "\n",
      "Epoch  9/10\n",
      "\u001b[1m1408/1408\u001b[0m \u001b[32m━━━━━━━━━━━━━━━━━━━━\u001b[0m\u001b[37m\u001b[0m \u001b[1m4s\u001b[0m 3ms/step - kaehler_loss: 0.0000e+00 - loss: 0.1673 - ricci_loss: 0.0000e+00 - sigma_loss: 0.1572 - transition_loss: 0.0101 - volk_loss: 0.0000e+00\n",
      "\u001b[1m2/2\u001b[0m \u001b[32m━━━━━━━━━━━━━━━━━━━━\u001b[0m\u001b[37m\u001b[0m \u001b[1m0s\u001b[0m 866ms/step - kaehler_loss: 0.0000e+00 - loss: 0.1607 - ricci_loss: 0.0000e+00 - sigma_loss: 0.1511 - transition_loss: 0.0096 - volk_loss: 0.0000e+00 - Ricci measure val:      2.9072\n",
      " - Sigma measure val:      0.1903\n",
      " - Kaehler measure val:    2.0230e-14\n",
      " - Transition measure val: 0.0097\n",
      " - Volk val:               4.4994\n",
      "\u001b[1m2/2\u001b[0m \u001b[32m━━━━━━━━━━━━━━━━━━━━\u001b[0m\u001b[37m\u001b[0m \u001b[1m6s\u001b[0m 5s/step - kaehler_loss: 0.0000e+00 - loss: 0.1606 - ricci_loss: 0.0000e+00 - sigma_loss: 0.1510 - transition_loss: 0.0096 - volk_loss: 0.0000e+00 - ricci_val: 2.9072 - sigma_val: 0.1903 - kaehler_val: 2.0230e-14 - transition_val: 0.0097 - volk_val: 4.4994\n",
      "\n",
      "Epoch 10/10\n",
      "\u001b[1m1408/1408\u001b[0m \u001b[32m━━━━━━━━━━━━━━━━━━━━\u001b[0m\u001b[37m\u001b[0m \u001b[1m4s\u001b[0m 3ms/step - kaehler_loss: 0.0000e+00 - loss: 0.1620 - ricci_loss: 0.0000e+00 - sigma_loss: 0.1520 - transition_loss: 0.0100 - volk_loss: 0.0000e+00\n",
      "\u001b[1m2/2\u001b[0m \u001b[32m━━━━━━━━━━━━━━━━━━━━\u001b[0m\u001b[37m\u001b[0m \u001b[1m0s\u001b[0m 909ms/step - kaehler_loss: 0.0000e+00 - loss: 0.1604 - ricci_loss: 0.0000e+00 - sigma_loss: 0.1506 - transition_loss: 0.0097 - volk_loss: 0.0000e+00 - Ricci measure val:      2.8562\n",
      " - Sigma measure val:      0.1851\n",
      " - Kaehler measure val:    2.0045e-14\n",
      " - Transition measure val: 0.0117\n",
      " - Volk val:               4.5070\n",
      "\u001b[1m2/2\u001b[0m \u001b[32m━━━━━━━━━━━━━━━━━━━━\u001b[0m\u001b[37m\u001b[0m \u001b[1m6s\u001b[0m 5s/step - kaehler_loss: 0.0000e+00 - loss: 0.1602 - ricci_loss: 0.0000e+00 - sigma_loss: 0.1506 - transition_loss: 0.0096 - volk_loss: 0.0000e+00 - ricci_val: 2.8562 - sigma_val: 0.1851 - kaehler_val: 2.0045e-14 - transition_val: 0.0117 - volk_val: 4.5070\n"
     ]
    }
   ],
   "source": [
    "phimodel_toric, training_history = train_model(phimodel_toric, data, optimizer=opt_phit, epochs=nEpochs, batch_sizes=bSizes, verbose=1, callbacks=cb_list)"
   ]
  },
  {
   "cell_type": "code",
   "execution_count": null,
   "metadata": {},
   "outputs": [],
   "source": []
  }
 ],
 "metadata": {
  "kernelspec": {
   "display_name": ".venv",
   "language": "python",
   "name": "python3"
  },
  "language_info": {
   "codemirror_mode": {
    "name": "ipython",
    "version": 3
   },
   "file_extension": ".py",
   "mimetype": "text/x-python",
   "name": "python",
   "nbconvert_exporter": "python",
   "pygments_lexer": "ipython3",
   "version": "3.11.12"
  }
 },
 "nbformat": 4,
 "nbformat_minor": 4
}
