{
 "cells": [
  {
   "cell_type": "markdown",
   "metadata": {},
   "source": [
    "# Exploring the Point Generators\n",
    "\n",
    "In this notebook we explore the three different point generator classes.\n",
    "\n",
    "1. The *PointGenerator* class is the base class the other two inherit from. It can be used for Complete Intersection Calabi-Yau (CICY) manifolds with a single hypersurface, e.g. the quintic, bicubic, p1p3, the tetraquadric, or a torus, some K3s ...\n",
    "2. There is the *CICYPointGenerator* which works for any CICY.\n",
    "3. There is the *PointGeneratorMathematica* which works for any CICY (also for just a single hypersurface. It requires a Mathematica installation which will be used as a backend for the computations.\n",
    "4. There is the *ToricPointGenerator* which can generate points on any CY coming from the Kreuzer-Skarke list. NOTE: as of v0.0.1 there are still some issues with finding the correct integration weights from generalizing a theorem by Shiffman and Zelditch. For the correct implementation use *ToricPointGeneratorMathematica*.\n",
    "\n",
    "The Fermat quintic manifold can be implemented in each of the three PointGenerator classes and will be used as an example.\n",
    "\n",
    "Recall that the Fermat quintic is given by the following polynomial:\n",
    "\n",
    "$$\n",
    "Q = \\sum_i^5 z_i^5\n",
    "$$\n",
    "\n",
    "in a $\\mathbb{P}^4$ ambient space."
   ]
  },
  {
   "cell_type": "code",
   "execution_count": 1,
   "metadata": {
    "scrolled": true
   },
   "outputs": [],
   "source": [
    "import numpy as np\n",
    "import os\n",
    "import pickle"
   ]
  },
  {
   "cell_type": "markdown",
   "metadata": {},
   "source": [
    "## PointGenerator\n",
    "\n",
    "First we load the PointGenerator from the cymetric package."
   ]
  },
  {
   "cell_type": "code",
   "execution_count": 2,
   "metadata": {},
   "outputs": [],
   "source": [
    "from cymetric.pointgen.pointgen import PointGenerator"
   ]
  },
  {
   "cell_type": "markdown",
   "metadata": {},
   "source": [
    "In general all routines and classes of the cymetric package will have a brief description of their functionality and their arguments. You can access it with the help function."
   ]
  },
  {
   "cell_type": "code",
   "execution_count": null,
   "metadata": {
    "scrolled": true
   },
   "outputs": [],
   "source": [
    "help(PointGenerator)"
   ]
  },
  {
   "cell_type": "markdown",
   "metadata": {},
   "source": [
    "In the next step we define the five defining monomials, the coefficients in front of each monomial, the single Kähler moduli, and the ambient space projective factor(s):"
   ]
  },
  {
   "cell_type": "code",
   "execution_count": 2,
   "metadata": {},
   "outputs": [],
   "source": [
    "monomials = 5*np.eye(5, dtype=np.int64)\n",
    "coefficients = np.ones(5)\n",
    "kmoduli = np.ones(1)\n",
    "ambient = np.array([4])"
   ]
  },
  {
   "cell_type": "markdown",
   "metadata": {},
   "source": [
    "We can now initiate the PointGenerator"
   ]
  },
  {
   "cell_type": "code",
   "execution_count": 5,
   "metadata": {},
   "outputs": [],
   "source": [
    "pg = PointGenerator(monomials, coefficients, kmoduli, ambient)"
   ]
  },
  {
   "cell_type": "markdown",
   "metadata": {},
   "source": [
    "and generate some (100) points:"
   ]
  },
  {
   "cell_type": "code",
   "execution_count": 6,
   "metadata": {},
   "outputs": [
    {
     "data": {
      "text/plain": [
       "array([[-0.26571881-9.17297455e-01j, -0.36345359+2.42049070e-01j,\n",
       "         1.        +1.92054796e-17j, -0.59842131-1.43934436e-01j,\n",
       "        -0.35605605-6.91997143e-01j],\n",
       "       [ 1.        +5.77353681e-17j, -0.31804611-5.70832600e-01j,\n",
       "         0.78152219+6.00384439e-01j,  0.15162194-1.69715014e-02j,\n",
       "         0.31991803-3.70442042e-01j],\n",
       "       [ 1.        +2.90531838e-18j, -0.23516908-2.60266458e-01j,\n",
       "        -0.77837294+1.05176966e-01j,  0.81948808-4.76754593e-01j,\n",
       "         0.66788379+2.93563540e-01j],\n",
       "       [ 0.8244501 +5.64605799e-01j, -0.16831985-6.66244130e-01j,\n",
       "         1.        -8.71610414e-18j,  0.28974831+6.27956749e-01j,\n",
       "        -0.05495057-4.40566702e-02j],\n",
       "       [-0.18569486+7.50333720e-01j,  0.24012511-3.46593059e-01j,\n",
       "         1.        -6.11560463e-17j, -0.31459026+8.85538129e-01j,\n",
       "        -0.45377699-5.09986505e-02j],\n",
       "       [-0.62309363+5.81626089e-02j, -0.4679331 +6.79700462e-02j,\n",
       "        -0.54795213-2.22345813e-02j,  1.        +9.66089945e-19j,\n",
       "        -0.96779248-1.11035419e-02j],\n",
       "       [ 0.6151586 +5.02496461e-01j,  0.20277662+2.12125075e-01j,\n",
       "         0.69096857-5.43960610e-01j, -0.21092906-6.76952419e-01j,\n",
       "         1.        +1.85075198e-17j],\n",
       "       [-0.06687156+8.13012725e-01j, -0.12636794+2.35216799e-01j,\n",
       "         1.        -5.27509000e-18j,  0.62081991-4.62641390e-01j,\n",
       "         0.68449549+6.20708350e-01j],\n",
       "       [-0.22088826+5.13983953e-02j, -0.43545847-2.14476486e-02j,\n",
       "        -0.21796997-9.32611797e-01j,  1.        +3.74388737e-17j,\n",
       "        -0.40243005-7.36729788e-01j],\n",
       "       [-0.20427673+4.96789283e-01j, -0.33566951+1.24990126e-02j,\n",
       "         0.79798426-5.87712316e-01j,  1.        -3.81099653e-18j,\n",
       "         0.41420206-1.26898577e-01j],\n",
       "       [ 1.        -4.09055975e-17j,  0.43919275-5.64977454e-01j,\n",
       "        -0.13761318+1.77038138e-01j, -0.99660668-3.84586551e-02j,\n",
       "         0.21556092-2.65341934e-01j],\n",
       "       [-0.23705855-7.92316729e-01j, -0.90831188+1.40218676e-02j,\n",
       "         0.290781  -6.89568624e-02j,  1.        +5.12901860e-17j,\n",
       "        -0.12351025+1.51050214e-01j],\n",
       "       [-0.30869249+9.48795352e-01j,  0.23620423+1.95065591e-01j,\n",
       "        -0.0107252 -4.35292583e-02j,  1.        +1.66122466e-17j,\n",
       "        -0.09747567+3.77996862e-01j],\n",
       "       [ 1.        -1.56411229e-17j, -0.17642877-8.86536198e-01j,\n",
       "         0.15222953+2.33899432e-01j,  0.78858911+4.40597322e-01j,\n",
       "        -0.04064984+1.42153042e-01j],\n",
       "       [ 1.        +1.49057046e-17j, -0.266115  -5.15690274e-01j,\n",
       "         0.14406385+7.18492726e-02j,  0.80697206-5.74602819e-01j,\n",
       "         0.21057851+2.24633474e-01j],\n",
       "       [-0.97642657-1.18281211e-01j, -0.54971234-2.36384054e-01j,\n",
       "         0.39796663-1.14007590e-01j,  1.        -3.15642348e-17j,\n",
       "        -0.47513912-7.89259380e-01j],\n",
       "       [ 0.53683464+1.27315554e-01j,  0.68373074+4.07316659e-01j,\n",
       "        -0.48526102+2.81983742e-01j, -0.95757917-5.13178620e-02j,\n",
       "         1.        -1.61714507e-17j],\n",
       "       [-0.32889758-9.37128594e-01j, -0.26507604-1.99401707e-01j,\n",
       "         0.02728669+5.63371790e-02j,  0.42404338+5.00365959e-01j,\n",
       "         1.        +3.84218121e-17j],\n",
       "       [-0.4493651 -5.90970295e-01j, -0.95829549-1.99839687e-01j,\n",
       "         0.26353682-4.79926875e-01j,  1.        -7.93509892e-18j,\n",
       "        -0.16298402+9.36587889e-01j],\n",
       "       [-0.99569717-2.78396736e-02j, -0.55065913+6.80971196e-01j,\n",
       "        -0.25849655-3.04414900e-01j,  0.5760562 -7.12758228e-01j,\n",
       "         1.        +4.44344292e-18j],\n",
       "       [ 0.73673442+5.67735415e-01j, -0.097059  +4.07681716e-01j,\n",
       "        -0.02244561-6.51295915e-01j,  0.58873651-5.56037973e-01j,\n",
       "         1.        +9.69330352e-18j],\n",
       "       [-0.78144599-7.98111059e-02j, -0.18875545-6.32192267e-01j,\n",
       "         1.        +5.01445537e-17j,  0.26845755+3.50870535e-01j,\n",
       "        -0.23301686+8.83778430e-01j],\n",
       "       [ 1.        -2.43034183e-17j,  0.68826221+5.12054052e-01j,\n",
       "        -0.26577308+8.42339749e-01j,  0.27872329+3.66972257e-02j,\n",
       "        -0.16581781-2.47134511e-01j],\n",
       "       [ 0.81742186+5.48932524e-01j,  0.34054565+3.40266796e-01j,\n",
       "         0.54425475+2.94974955e-01j,  1.        -7.10249330e-18j,\n",
       "         0.42912064+5.90618763e-01j],\n",
       "       [ 0.64392447-4.49542253e-01j,  0.53675892-3.34578736e-01j,\n",
       "         1.        -1.32224814e-17j,  0.70007631-5.46623220e-01j,\n",
       "         0.44192776+3.89092924e-01j],\n",
       "       [ 0.7325586 -2.72729312e-01j,  1.        +3.42655076e-17j,\n",
       "        -0.36234071-9.27753282e-01j,  0.09745251-8.14818702e-02j,\n",
       "         0.19448162-2.72829791e-01j],\n",
       "       [ 1.        -1.25414500e-18j,  0.56357791+3.57562922e-01j,\n",
       "         0.75480354-6.35762189e-01j,  0.11799942-2.08311537e-01j,\n",
       "         0.77985807-2.52406213e-01j],\n",
       "       [ 0.54854996-4.93480576e-01j, -0.24528616-1.74349626e-01j,\n",
       "         1.        +1.03280197e-18j, -0.08081971-3.48946233e-01j,\n",
       "         0.79098432-5.43620181e-01j],\n",
       "       [ 0.44305971+5.59495435e-01j,  1.        +3.69926886e-17j,\n",
       "        -0.96557101-4.75265030e-03j,  0.36120762+1.51131017e-01j,\n",
       "        -0.08191766+7.38934131e-01j],\n",
       "       [ 1.        +4.20615483e-17j,  0.80882039-5.20561874e-01j,\n",
       "        -0.29086376+3.35328690e-01j,  0.34175268-2.28749161e-01j,\n",
       "         0.71654674+3.48421590e-01j],\n",
       "       [ 0.81441382+5.00137940e-01j,  1.        +1.20743787e-17j,\n",
       "         0.08576143-5.52528228e-02j, -0.11826938-8.25239069e-01j,\n",
       "         0.02155068+3.21766897e-01j],\n",
       "       [ 0.10082677+1.61157597e-01j,  1.        +2.25545713e-17j,\n",
       "        -0.22721213+5.74180733e-02j,  0.80341571-5.90657096e-01j,\n",
       "        -0.48905059-1.09496936e-01j],\n",
       "       [ 1.        -2.11507712e-17j,  0.26210338-1.56495179e-01j,\n",
       "         0.22285026-2.40620965e-01j, -0.99592849-2.88988378e-02j,\n",
       "         0.63617917+2.30807448e-01j],\n",
       "       [-0.20866856-7.76979226e-01j,  0.83405242-5.37402690e-01j,\n",
       "        -0.5273322 +2.90670530e-02j,  1.        +1.96442009e-17j,\n",
       "        -0.59212281-6.11591141e-01j],\n",
       "       [ 1.        -3.70226935e-19j,  0.80363786+5.65086733e-01j,\n",
       "         0.02885652-4.39383449e-01j, -0.17032154+4.34334375e-01j,\n",
       "         0.53534273-2.98977309e-01j],\n",
       "       [ 0.06655603-4.10864264e-01j,  0.81462189-5.54841368e-01j,\n",
       "        -0.32576318-3.78562410e-01j,  0.48063488-4.97282730e-01j,\n",
       "         1.        +3.44668534e-18j],\n",
       "       [ 0.54402125-3.36163798e-01j,  0.509707  +1.70289306e-01j,\n",
       "        -0.37352695-3.35454839e-01j,  1.        +5.78334484e-17j,\n",
       "         0.79407776+5.82572026e-01j],\n",
       "       [-0.39584024+9.78493266e-02j,  0.8133262 +5.80123414e-01j,\n",
       "         1.        -5.87871576e-18j, -0.5606316 -8.98574670e-02j,\n",
       "        -0.40860911+3.35160029e-01j],\n",
       "       [-0.61390548+2.92339452e-01j,  0.54530134+1.96442151e-01j,\n",
       "         1.        -2.28018993e-17j, -0.99728298-3.71636492e-02j,\n",
       "        -0.63721335+3.76844870e-03j],\n",
       "       [ 0.58945529-3.78602700e-01j, -0.28216589+9.33241502e-01j,\n",
       "        -0.33976698+3.81781947e-01j,  1.        +1.24493876e-17j,\n",
       "         0.19222157+4.36419267e-01j],\n",
       "       [ 0.68253489-4.17999522e-01j, -0.27560337-8.68128276e-01j,\n",
       "        -0.09399871+6.74395643e-01j,  0.06243079+5.25914431e-01j,\n",
       "         1.        +1.34273421e-19j],\n",
       "       [-0.12607175-5.57540213e-01j, -0.98849377+7.30342561e-03j,\n",
       "         0.19004767+4.40129481e-01j,  0.3944553 +2.69554258e-01j,\n",
       "         1.        +2.33356158e-17j],\n",
       "       [ 0.81420701+4.11780095e-01j,  0.80820483-4.66157023e-01j,\n",
       "        -0.41481674+4.76422488e-01j, -0.29563858+2.88733049e-01j,\n",
       "         1.        +3.92619179e-18j],\n",
       "       [ 0.56737995+5.44340661e-01j,  1.        -2.17577340e-17j,\n",
       "        -0.18695499+2.93223833e-01j, -0.22211769+3.36949248e-02j,\n",
       "         0.74277723-5.98164229e-01j],\n",
       "       [ 0.3461668 +3.94296897e-01j,  1.        +1.39370549e-17j,\n",
       "         0.07862996-6.37442182e-02j, -0.1948906 -1.78249246e-01j,\n",
       "        -0.31474638-9.45784652e-01j],\n",
       "       [-0.26434892+5.78383359e-01j,  1.        +3.10027908e-17j,\n",
       "        -0.28501691+2.88151530e-01j, -0.27750431+9.43077498e-01j,\n",
       "         0.54357353-1.97337441e-01j],\n",
       "       [-0.75245645+1.41905198e-01j,  0.15457149-3.92623919e-01j,\n",
       "        -0.2333431 -6.38052895e-02j, -0.34655063+9.11571134e-01j,\n",
       "         1.        -1.96381169e-17j],\n",
       "       [-0.65648946-7.87129140e-02j, -0.21962574-9.39194558e-01j,\n",
       "        -0.04359659-1.34551154e-01j, -0.05303008+8.44683666e-01j,\n",
       "         1.        +6.51922435e-18j],\n",
       "       [ 1.        +1.34662988e-17j,  0.45650943-1.70956388e-02j,\n",
       "         0.3039302 +2.87080567e-01j,  0.44435444-5.65137382e-01j,\n",
       "        -0.99715609-3.59427212e-02j],\n",
       "       [ 1.        -1.71652356e-17j,  0.74821867-5.68382129e-01j,\n",
       "         0.36694402+3.70925784e-01j,  0.48780056-1.72042450e-01j,\n",
       "        -0.75221143-8.21652745e-03j],\n",
       "       [ 1.        +4.97419137e-18j,  0.43694957-5.64073839e-02j,\n",
       "         0.63850055+1.07667756e-01j, -0.86514187-2.35896501e-02j,\n",
       "         0.73105852+5.34265569e-01j],\n",
       "       [ 0.30641799+4.60279808e-01j,  1.        +2.42068649e-18j,\n",
       "         0.6384994 +6.09147040e-01j, -0.90826524+5.45483105e-02j,\n",
       "         0.68903444+2.19620620e-01j],\n",
       "       [ 1.        -1.39328134e-17j, -0.20658239-8.54927776e-01j,\n",
       "         0.67745973-5.68027780e-01j, -0.02607672+4.29294765e-01j,\n",
       "         0.05310867-7.48730321e-02j],\n",
       "       [ 1.        -2.04964552e-17j, -0.85608911+1.57589416e-01j,\n",
       "        -0.08880724-3.60479156e-01j,  0.16625976-6.72439192e-01j,\n",
       "        -0.37290583+9.05618326e-01j],\n",
       "       [-0.34474259-6.69648104e-01j,  0.68377994+6.36010707e-01j,\n",
       "        -0.1241454 +3.66427836e-01j, -0.79244592+1.22040016e-01j,\n",
       "         1.        +3.09339519e-17j],\n",
       "       [ 0.19519246+5.05966128e-01j, -0.98886799+8.82286637e-02j,\n",
       "         0.55371005+6.42618549e-01j,  1.        +3.44678081e-18j,\n",
       "         0.29728202-1.52318828e-02j],\n",
       "       [-0.12633806-5.79454023e-01j,  1.        +1.93629409e-17j,\n",
       "         0.66841858-3.59025643e-01j, -0.33844853-8.84834165e-01j,\n",
       "        -0.2687263 -2.17045264e-02j],\n",
       "       [ 0.08673238+4.68601115e-01j, -0.93949125-4.89212131e-02j,\n",
       "         1.        +1.45862836e-17j,  0.60519482-5.42769385e-01j,\n",
       "         0.28312861+1.71482420e-03j],\n",
       "       [-0.07789429-5.77928614e-01j,  1.        +7.89648026e-18j,\n",
       "         0.77448535+6.23803580e-01j,  0.46592009-6.28169847e-01j,\n",
       "        -0.25139619-1.59977350e-03j],\n",
       "       [-0.06956969-5.23702382e-01j,  1.        +2.99588868e-18j,\n",
       "        -0.29731273+9.45169574e-01j,  0.34670058+3.20070884e-01j,\n",
       "        -0.27018447+2.18453507e-02j],\n",
       "       [ 0.14022875-1.53889720e-01j,  1.        -1.80419326e-17j,\n",
       "        -0.63960124-1.83927234e-01j,  0.82176234+5.64873147e-01j,\n",
       "        -0.00100808+4.48891299e-02j],\n",
       "       [ 0.73519654-2.94282841e-01j,  1.        -1.48350611e-18j,\n",
       "        -0.36459331-9.19751855e-01j, -0.024635  +1.37691473e-01j,\n",
       "         0.10624399+2.91585091e-01j],\n",
       "       [-0.59194984+7.18882030e-02j, -0.00405718-4.40849279e-01j,\n",
       "        -0.31028457+9.37017046e-01j,  1.        -4.35571019e-17j,\n",
       "        -0.0787162 -2.16071229e-01j],\n",
       "       [ 0.61908372+3.80667517e-01j,  1.        -8.58718041e-18j,\n",
       "         0.27345063-3.13614257e-01j,  0.78686891-5.47631933e-01j,\n",
       "        -0.19511651+2.93999200e-01j],\n",
       "       [-0.25872568+8.91023073e-01j,  0.12251371+6.44149524e-01j,\n",
       "         0.64767728+5.51468145e-01j,  1.        -1.83103893e-17j,\n",
       "        -0.41323484-9.35744707e-02j],\n",
       "       [ 0.61334252+6.47838272e-01j, -0.29318881+9.13450363e-01j,\n",
       "         0.42532618-4.10695174e-01j, -0.77801199+3.40723904e-01j,\n",
       "         1.        +1.49050741e-17j],\n",
       "       [-0.22277193+6.92620407e-01j, -0.57389657-3.89176577e-01j,\n",
       "         1.        -1.75033578e-19j,  0.13763017-3.25411607e-01j,\n",
       "         0.8048578 +5.79512694e-01j],\n",
       "       [-0.34448015+4.07163507e-01j, -0.32739471-8.58371745e-01j,\n",
       "         1.        +1.50795115e-17j,  0.6879651 -3.45708895e-01j,\n",
       "         0.62134743+3.85964168e-01j],\n",
       "       [ 0.59566689+3.26605346e-01j,  0.46520483+6.34561016e-01j,\n",
       "         0.54802368-7.72816573e-02j, -0.25546544+9.56247293e-01j,\n",
       "         1.        +1.22473969e-17j],\n",
       "       [ 0.17433892+4.35246744e-03j,  0.13985303-7.15318019e-01j,\n",
       "         0.73936226-5.62896564e-01j,  1.        +1.79095233e-17j,\n",
       "         0.6908017 -5.19468331e-01j],\n",
       "       [-0.61721823-3.46658625e-01j, -0.40636187+8.75080007e-01j,\n",
       "         1.        -1.11746700e-17j, -0.13985413+9.32357319e-01j,\n",
       "         0.11797315+5.38732492e-01j],\n",
       "       [ 0.78098506+3.53495752e-01j,  0.58431997-4.21600359e-01j,\n",
       "        -0.8633745 +1.88982632e-01j,  1.        -2.77478061e-20j,\n",
       "        -0.06691161-9.80785383e-01j],\n",
       "       [-0.27747988+8.29358167e-01j,  0.27839791+3.01109590e-01j,\n",
       "        -0.44218004-8.24856252e-01j, -0.50883574+7.17581659e-01j,\n",
       "         1.        +4.69638923e-18j],\n",
       "       [-0.57051808-1.03065301e-02j,  0.50824523+6.07427201e-01j,\n",
       "         0.74885039-6.26662460e-01j,  1.        +1.38739413e-17j,\n",
       "         0.04195458+2.64889192e-01j],\n",
       "       [-0.00157557-7.05907128e-01j, -0.07429307+2.91892308e-01j,\n",
       "         0.80190261+5.32209615e-01j,  1.        +1.87856323e-17j,\n",
       "        -0.71614959+5.98417650e-04j],\n",
       "       [-0.43261431+3.75512694e-01j,  1.        +2.51488068e-18j,\n",
       "         0.78743369-5.92356778e-01j,  0.5573261 -3.45233365e-01j,\n",
       "         0.34261289+2.95317445e-01j],\n",
       "       [-0.59848084+1.03483910e-01j,  1.        +1.62080409e-19j,\n",
       "         0.7063179 +3.64658461e-01j,  0.83241279-4.80108782e-01j,\n",
       "        -0.00691522+6.65599871e-01j],\n",
       "       [-0.22448851-1.38408726e-01j, -0.30071699+9.33722862e-01j,\n",
       "         1.        -1.68811919e-17j, -0.20728964+5.87093873e-01j,\n",
       "         0.20635541+7.78104566e-02j],\n",
       "       [-0.21720947+4.35351608e-01j, -0.01734459-7.11410110e-01j,\n",
       "         1.        +3.19657891e-18j, -0.3403699 -8.73286498e-01j,\n",
       "         0.61803783+4.52953522e-01j],\n",
       "       [ 0.02399014+1.29090021e-01j, -0.86968251+3.67899565e-02j,\n",
       "         1.        +3.27783893e-17j, -0.89376488-4.48410590e-02j,\n",
       "         0.56073946+7.89182115e-02j],\n",
       "       [ 0.18842053-4.23440852e-01j, -0.63130514-1.33362532e-01j,\n",
       "        -0.3131777 +4.06725639e-01j, -0.2837503 +9.53525899e-01j,\n",
       "         1.        +5.49933384e-17j],\n",
       "       [ 1.        +5.58798194e-18j, -0.04329063-3.31161741e-01j,\n",
       "        -0.23027751-2.61186238e-01j, -0.9005209 -6.87449706e-02j,\n",
       "         0.74723731+4.43029401e-01j],\n",
       "       [ 1.        -4.46419996e-17j,  0.02178831+3.78650330e-01j,\n",
       "         0.33307876-1.79672638e-01j, -0.04956683-1.80067027e-01j,\n",
       "         0.8086689 -5.86871174e-01j],\n",
       "       [ 0.04571404+7.33067425e-01j, -0.34149962+7.54117288e-01j,\n",
       "         0.69467048+4.20478371e-01j,  1.        +2.04285186e-18j,\n",
       "         0.71704117-4.51387539e-01j],\n",
       "       [-0.20640941+9.13583108e-01j, -0.38364844+6.26404932e-01j,\n",
       "         0.62092723+4.94557047e-01j,  1.        +1.26591828e-17j,\n",
       "         0.56586073-1.12576608e-01j],\n",
       "       [ 1.        -2.55270712e-18j, -0.58681877-4.17016411e-03j,\n",
       "         0.56180498+5.55571184e-01j,  0.72940478-5.98518436e-01j,\n",
       "         0.14355332+3.65859118e-01j],\n",
       "       [ 1.        -1.50444280e-17j, -0.30474095+6.02073653e-01j,\n",
       "         0.69366019-5.67013786e-01j,  0.17746506-7.73807221e-01j,\n",
       "        -0.26266707+8.74457493e-01j],\n",
       "       [-0.13469794-6.77156151e-01j,  0.56381149-2.44839316e-01j,\n",
       "        -0.97125866+3.71560268e-02j, -0.37925713+2.74291238e-01j,\n",
       "         1.        -1.39454760e-17j],\n",
       "       [-0.27418113-9.54232400e-01j, -0.37096732+4.08100941e-01j,\n",
       "         1.        +6.07501842e-18j, -0.36423818-7.78962859e-01j,\n",
       "         0.21437132-7.63749516e-01j],\n",
       "       [ 0.57621858-5.30294203e-01j, -0.13349741-4.18114720e-01j,\n",
       "        -0.32409807+8.84717055e-01j,  0.4453352 -1.73852228e-01j,\n",
       "         1.        -7.76186262e-18j],\n",
       "       [-0.97519745+8.04257319e-02j,  0.15962251-1.28096660e-01j,\n",
       "        -0.05463867-8.65771461e-02j,  0.76499411-3.28862699e-01j,\n",
       "         1.        -4.10251499e-17j],\n",
       "       [ 1.        +4.44145565e-17j, -0.34098809-3.23852764e-02j,\n",
       "        -0.12658168-5.20000276e-01j, -0.30166351+9.41901331e-01j,\n",
       "        -0.38953945-1.40558802e-02j],\n",
       "       [-0.30532865+9.27210099e-02j, -0.1409432 -2.11661491e-01j,\n",
       "        -0.21935928-6.84870030e-01j,  0.77504396+5.63191783e-01j,\n",
       "         1.        +4.64566695e-17j],\n",
       "       [ 1.        -1.91780038e-17j, -0.50965549+2.17332943e-01j,\n",
       "        -0.91003086-1.77513144e-01j,  0.50031539+1.49928968e-01j,\n",
       "        -0.40928064-8.62942157e-01j],\n",
       "       [ 0.48638346-4.07258055e-01j, -0.3485984 +3.15484783e-01j,\n",
       "        -0.97184777+2.29311872e-03j,  1.        +2.70968771e-17j,\n",
       "        -0.11934217-5.66753119e-01j],\n",
       "       [ 1.        +1.87623995e-17j, -0.30253683-7.39294340e-01j,\n",
       "        -0.17599412-8.19805645e-01j, -0.1177556 +5.40683241e-01j,\n",
       "        -0.21138387+7.55212030e-01j],\n",
       "       [ 1.        +2.89901999e-17j, -0.92167033-1.61683027e-01j,\n",
       "        -0.656829  -7.38993079e-02j, -0.16036555+3.07520008e-01j,\n",
       "        -0.11370127+9.37459186e-01j],\n",
       "       [ 1.        +5.10447165e-17j,  0.49448442-3.02524452e-01j,\n",
       "         0.74604521-5.80614342e-01j, -0.34108166+6.62548939e-01j,\n",
       "        -0.05848172+5.94339355e-01j],\n",
       "       [-0.37636035-7.21211848e-01j,  1.        -5.54128047e-18j,\n",
       "         0.78978079-4.33395645e-01j,  0.33687573+2.90923118e-01j,\n",
       "         0.59569476-4.97861886e-01j],\n",
       "       [ 0.71721062-4.61118745e-01j,  0.7151568 +4.29693255e-01j,\n",
       "         1.        +2.65849896e-17j, -0.22078193+6.18186121e-01j,\n",
       "         0.46984574+3.89835989e-01j],\n",
       "       [-0.03372816-5.59038000e-01j,  0.80521866+3.90441652e-01j,\n",
       "        -0.11181516+6.52280427e-01j,  0.66636042+6.53319584e-01j,\n",
       "         1.        -3.14987750e-19j],\n",
       "       [-0.08289301-1.55431278e-01j,  0.63443026-6.57204899e-01j,\n",
       "         1.        -1.61846529e-17j,  0.41876439-5.94064222e-01j,\n",
       "         0.88166204-4.34942862e-01j],\n",
       "       [-0.735618  -8.75400656e-02j,  0.47645065-2.31799409e-01j,\n",
       "        -0.07483768+6.80848472e-01j,  1.        +6.62129337e-18j,\n",
       "        -0.29555981-8.85864417e-01j],\n",
       "       [ 0.39764006+7.92989007e-02j,  0.41352198-2.63080469e-01j,\n",
       "         1.        -1.02528477e-18j, -0.02607787-5.58394377e-01j,\n",
       "         0.81005814+5.75197027e-01j],\n",
       "       [ 0.36997344+5.86457114e-01j, -0.01293579-3.10604835e-01j,\n",
       "         1.        +2.39697192e-17j, -0.22175948-9.34351624e-01j,\n",
       "        -0.10008269+8.86051518e-01j]])"
      ]
     },
     "execution_count": 6,
     "metadata": {},
     "output_type": "execute_result"
    }
   ],
   "source": [
    "points = pg.generate_points(100)\n",
    "points"
   ]
  },
  {
   "cell_type": "markdown",
   "metadata": {},
   "source": [
    "We see that the largest coordinate of each point is 1+0.j. The reason for that is two-fold:\n",
    "\n",
    "1. The numerics are more stable when we work with points, which have affine coordinates in the range of $|x_i| < 1$.\n",
    "2. The coordinate with 1+0.j already specifies the ambient space patch we are working in.\n",
    "\n",
    "We can also check if these points are all really satisfying the hypersurface equation of the Calabi-Yau."
   ]
  },
  {
   "cell_type": "code",
   "execution_count": 7,
   "metadata": {
    "scrolled": true
   },
   "outputs": [
    {
     "data": {
      "text/plain": [
       "array([ 2.74780199e-15+5.27355937e-16j, -4.33680869e-16+1.02001740e-15j,\n",
       "        1.52655666e-16+4.52415883e-15j, -4.61104619e-16-5.97330440e-16j,\n",
       "       -2.51881849e-15-3.31332184e-15j,  2.22044605e-16+5.91193761e-15j,\n",
       "       -4.44089210e-16+1.49419417e-15j,  1.11022302e-16-8.88178420e-16j,\n",
       "        6.10622664e-16+5.55111512e-17j, -2.17165695e-15-1.96023753e-16j,\n",
       "        1.55474592e-16-3.09648140e-16j,  1.83718058e-16-3.23281983e-15j,\n",
       "        4.85722573e-17+1.56775634e-15j,  1.19056241e-15+4.79782162e-15j,\n",
       "       -1.45933612e-16-2.05564732e-16j,  8.88178420e-16+1.22124533e-15j,\n",
       "        9.10382880e-15-8.51855224e-15j,  0.00000000e+00-7.37702723e-16j,\n",
       "        9.99200722e-15-1.17683641e-14j,  4.21884749e-15-4.41867488e-15j,\n",
       "        6.66133815e-16+2.14999971e-16j,  2.22044605e-16+1.11022302e-16j,\n",
       "        1.98842678e-16-9.50628465e-16j, -1.11728220e-15-7.49400542e-16j,\n",
       "        9.71445147e-17+6.24500451e-17j,  9.84184522e-17-2.24646690e-16j,\n",
       "       -3.51715185e-16+2.88657986e-15j,  1.77635684e-15+1.24900090e-16j,\n",
       "       -2.17881269e-15+1.05471187e-15j,  3.33066907e-16+4.71844785e-16j,\n",
       "        1.19283923e-15-2.45420004e-15j,  9.52363188e-16-4.60048666e-15j,\n",
       "       -5.75928194e-16-1.77635684e-15j, -2.49800181e-15+3.60822483e-15j,\n",
       "       -1.52655666e-16-4.16333634e-17j, -2.22044605e-15+2.68176869e-15j,\n",
       "        4.21884749e-15+2.35922393e-16j, -1.35308431e-15-1.22644950e-15j,\n",
       "       -6.93889390e-16+3.07393000e-15j,  2.32452946e-16+7.30318583e-16j,\n",
       "       -3.10862447e-15-1.69241875e-15j, -3.99680289e-15-1.26936598e-15j,\n",
       "        6.21724894e-15+1.93476568e-15j,  4.21884749e-15-1.66533454e-15j,\n",
       "       -1.11022302e-16+1.90819582e-15j,  1.24553146e-15+2.81719092e-15j,\n",
       "        0.00000000e+00+8.73254562e-16j, -3.10862447e-15+4.58451052e-15j,\n",
       "       -4.44089210e-16-6.66133815e-16j, -1.94289029e-16-5.30825384e-16j,\n",
       "        5.55111512e-16-1.20910226e-15j,  1.31838984e-16+1.66533454e-16j,\n",
       "       -1.09787545e-15+6.29693610e-16j,  1.11022302e-15+5.55111512e-16j,\n",
       "        2.22044605e-16+3.48958789e-16j,  2.88441146e-15+2.19442520e-15j,\n",
       "       -4.99383521e-16+7.15031333e-15j, -2.17816216e-15-6.87546808e-16j,\n",
       "        1.87220031e-15-2.81994209e-16j,  8.23126289e-16-3.00215582e-16j,\n",
       "       -2.45932774e-16-1.02836947e-16j,  2.73695996e-15-1.21972744e-16j,\n",
       "       -9.28185480e-16-4.75986438e-15j,  6.98226199e-16+1.74946863e-15j,\n",
       "       -5.11743425e-17+1.21083699e-15j,  5.10702591e-15-7.69703580e-15j,\n",
       "        3.99680289e-15+1.12999887e-14j,  5.07927034e-15+2.45636844e-15j,\n",
       "        8.65973959e-15-1.16516159e-14j, -4.66293670e-15+8.22952817e-15j,\n",
       "       -6.36990460e-15+5.22151766e-15j,  6.82787160e-15-2.22044605e-16j,\n",
       "       -1.44328993e-15+2.70883389e-15j, -2.37288487e-15+6.88902060e-16j,\n",
       "        4.44089210e-16+7.80950825e-16j, -1.21430643e-16-6.50521303e-17j,\n",
       "       -1.68268177e-16-6.38378239e-16j,  3.67720719e-15-6.64507512e-15j,\n",
       "        0.00000000e+00-1.62196645e-16j, -1.45716772e-15+5.89805982e-16j,\n",
       "       -4.44089210e-16+3.72111207e-16j,  7.43849426e-15+4.52415883e-15j,\n",
       "        7.77156117e-16+3.24480026e-15j, -7.77156117e-16-3.88578059e-16j,\n",
       "        1.04083409e-16-6.31439345e-16j, -6.05418493e-16+3.56051993e-16j,\n",
       "        2.44249065e-15-3.44169138e-15j, -5.55111512e-15-8.46883497e-16j,\n",
       "        1.05471187e-15-7.35522754e-16j, -6.66133815e-16-2.33098342e-16j,\n",
       "        8.88178420e-16-4.27170354e-16j, -9.29638311e-15+1.61420356e-14j,\n",
       "        9.99200722e-16-1.91443695e-15j, -1.77635684e-15+4.16333634e-15j,\n",
       "        8.18789481e-16+1.86656246e-15j,  1.99840144e-15-9.08995101e-16j,\n",
       "       -1.27675648e-15+4.10782519e-15j,  8.04911693e-16-1.05471187e-15j,\n",
       "        2.77555756e-16+2.08166817e-16j,  1.52655666e-16-1.29063427e-15j,\n",
       "        2.22044605e-16-1.16730911e-15j,  6.66133815e-16-3.99680289e-15j,\n",
       "       -2.55351296e-15+3.72271658e-15j,  7.77156117e-16+7.19563298e-15j,\n",
       "       -4.49640325e-15-7.60502772e-15j])"
      ]
     },
     "execution_count": 7,
     "metadata": {},
     "output_type": "execute_result"
    }
   ],
   "source": [
    "pg.cy_condition(points)"
   ]
  },
  {
   "cell_type": "markdown",
   "metadata": {},
   "source": [
    "what we are really interested in from the *PointGenerator* is a training set for our neural networks. Such a training set can be generated as follows:"
   ]
  },
  {
   "cell_type": "code",
   "execution_count": 8,
   "metadata": {},
   "outputs": [
    {
     "name": "stdout",
     "output_type": "stream",
     "text": [
      "Help on method prepare_dataset in module cymetric.pointgen.pointgen:\n",
      "\n",
      "prepare_dataset(n_p, dirname, val_split=0.1, ltails=0, rtails=0) method of cymetric.pointgen.pointgen.PointGenerator instance\n",
      "    Prepares training and validation data.\n",
      "    \n",
      "    Args:\n",
      "        n_p (int): Number of points to generate.\n",
      "        dirname (str): Directory name to save dataset in.\n",
      "        val_split (float, optional): train-val split. Defaults to 0.1.\n",
      "        ltails (float, optional): Percentage discarded on the left tail\n",
      "            of weight distribution. Defaults to 0.\n",
      "        rtails (float, optional): Percentage discarded on the right tail\n",
      "            of weight distribution. Defaults to 0.\n",
      "    \n",
      "    Returns:\n",
      "        np.float: kappa = vol_k / vol_cy\n",
      "\n"
     ]
    }
   ],
   "source": [
    "help(pg.prepare_dataset)"
   ]
  },
  {
   "cell_type": "markdown",
   "metadata": {},
   "source": [
    "We specify the number of points and the directory name to save the file in. Note the file will always have the name *dataset.npz*."
   ]
  },
  {
   "cell_type": "code",
   "execution_count": 9,
   "metadata": {},
   "outputs": [],
   "source": [
    "dirname = 'fermat_pg'\n",
    "n_p = 100000"
   ]
  },
  {
   "cell_type": "markdown",
   "metadata": {},
   "source": [
    "and generate the dataset. This will also compute and return $\\kappa=\\text{vol}_\\text{K}/\\text{vol}_\\text{CY}$"
   ]
  },
  {
   "cell_type": "code",
   "execution_count": 10,
   "metadata": {},
   "outputs": [
    {
     "name": "stderr",
     "output_type": "stream",
     "text": [
      "pointgen:INFO:Vol_k: 5.000000000000001, Vol_cy: 284.25611044327735.\n"
     ]
    },
    {
     "data": {
      "text/plain": [
       "np.float64(0.01758977139384217)"
      ]
     },
     "execution_count": 10,
     "metadata": {},
     "output_type": "execute_result"
    }
   ],
   "source": [
    "kappa = pg.prepare_dataset(n_p, dirname);\n",
    "kappa"
   ]
  },
  {
   "cell_type": "markdown",
   "metadata": {},
   "source": [
    "We load the dataset with"
   ]
  },
  {
   "cell_type": "code",
   "execution_count": 11,
   "metadata": {},
   "outputs": [],
   "source": [
    "data = np.load(os.path.join(dirname, 'dataset.npz'))"
   ]
  },
  {
   "cell_type": "markdown",
   "metadata": {},
   "source": [
    "and study its content"
   ]
  },
  {
   "cell_type": "code",
   "execution_count": 12,
   "metadata": {},
   "outputs": [
    {
     "name": "stdout",
     "output_type": "stream",
     "text": [
      "X_train\n",
      "y_train\n",
      "X_val\n",
      "y_val\n",
      "val_pullbacks\n"
     ]
    }
   ],
   "source": [
    "for key in data:\n",
    "    print(key)"
   ]
  },
  {
   "cell_type": "markdown",
   "metadata": {},
   "source": [
    "It contains training and validation data and the validation pullbacks. You might ask, what is written in the y_true values for validation and training data, given that we don't know the exact Ricci-flat metric. The 'y_train/val' arrays contain the integration weights and $\\Omega \\wedge \\bar\\Omega$ for each point. In principle, they can be used for any relevant pointwise information that could be needed during the training process."
   ]
  },
  {
   "cell_type": "code",
   "execution_count": 13,
   "metadata": {},
   "outputs": [],
   "source": [
    "weights = data['y_val'][:, 0]\n",
    "omega = data['y_val'][:, 1]"
   ]
  },
  {
   "cell_type": "markdown",
   "metadata": {},
   "source": [
    "we can also compute these values directly with the *PointGenerator*. Note, that the points in 'X_train/val' are floats, because our neural network will work with real values. We can recover the complex points as follows:"
   ]
  },
  {
   "cell_type": "code",
   "execution_count": 14,
   "metadata": {},
   "outputs": [],
   "source": [
    "points = data['X_val'][:, 0:pg.ncoords] + 1.j*data['X_val'][:, pg.ncoords:]"
   ]
  },
  {
   "cell_type": "markdown",
   "metadata": {},
   "source": [
    "and then compute the weights"
   ]
  },
  {
   "cell_type": "code",
   "execution_count": 15,
   "metadata": {},
   "outputs": [
    {
     "data": {
      "text/plain": [
       "False"
      ]
     },
     "execution_count": 15,
     "metadata": {},
     "output_type": "execute_result"
    }
   ],
   "source": [
    "weights2 = pg.point_weight(points)\n",
    "np.allclose(weights, weights2)"
   ]
  },
  {
   "cell_type": "markdown",
   "metadata": {},
   "source": [
    "and the holomorphic volume form"
   ]
  },
  {
   "cell_type": "code",
   "execution_count": 16,
   "metadata": {},
   "outputs": [
    {
     "data": {
      "text/plain": [
       "True"
      ]
     },
     "execution_count": 16,
     "metadata": {},
     "output_type": "execute_result"
    }
   ],
   "source": [
    "omega2 = pg.holomorphic_volume_form(points)\n",
    "omega2 = omega2 * np.conj(omega2)\n",
    "np.allclose(omega, omega2)"
   ]
  },
  {
   "cell_type": "markdown",
   "metadata": {},
   "source": [
    "We will have to give information of the monomials and their derivatives to the tensorflow model. For this purpose we will create pickled dictionary denoted by *BASIS*."
   ]
  },
  {
   "cell_type": "code",
   "execution_count": 17,
   "metadata": {},
   "outputs": [
    {
     "data": {
      "text/plain": [
       "0"
      ]
     },
     "execution_count": 17,
     "metadata": {},
     "output_type": "execute_result"
    }
   ],
   "source": [
    "pg.prepare_basis(dirname, kappa=kappa)"
   ]
  },
  {
   "cell_type": "markdown",
   "metadata": {},
   "source": [
    "Let us look at the information stored in *basis.pickle*"
   ]
  },
  {
   "cell_type": "code",
   "execution_count": 18,
   "metadata": {},
   "outputs": [
    {
     "name": "stdout",
     "output_type": "stream",
     "text": [
      "DQDZB0\n",
      "DQDZF0\n",
      "QB0\n",
      "QF0\n",
      "NFOLD\n",
      "AMBIENT\n",
      "KMODULI\n",
      "NHYPER\n",
      "INTNUMS\n",
      "KAPPA\n"
     ]
    }
   ],
   "source": [
    "with open(os.path.join(dirname, 'basis.pickle'), 'rb') as f:\n",
    "    basis = pickle.load(f)\n",
    "for key in basis:\n",
    "    print(key)"
   ]
  },
  {
   "cell_type": "markdown",
   "metadata": {},
   "source": [
    "So in case you want to use your own PointGenerator with our TensorFlow models you will have to create a similar basis dictionary. Here we briefly describe what each of these keys stands for. In general *Q* denotes the defining hypersurface(s) with the final integer digit denoting the hypersurface index. *D* refers to derivatives, *Z* to the ambient space coordinates, *B* to a monomials basis and *F* for factors/coefficients for each monomial.\n",
    "\n",
    "1. \"DQDZB0\": $\\frac{\\partial Q_0}{\\partial z_i}$ monomials basis of derivatives of the first (and only for quintic) hypersurface w.r.t. ambient coordinates. \n",
    "2. \"DQDZF0\": $\\frac{\\partial Q_0}{\\partial z_i}$ coefficients of the monomial basis.\n",
    "3. \"QB0\": monomials basis for first hypersurface\n",
    "4. \"QF0\": coefficients for monomial basis.\n",
    "5. \"NFOLD\": CY dimension.\n",
    "6. \"AMBIENT\": degrees of projective spaces making up the ambient space.\n",
    "7. \"KMODULI\": kähler moduli corresponding to each projective factors. Note the CY needs to be favourable, otherwise you will have some superposition.\n",
    "8. \"NHYPER\": number of hypersurfaces.\n",
    "9. \"INTNUMS\": The intersection numbers of the CY.\n",
    "10. \"KAPPA\": The ratio between the volume measures (Kahler volume over holomorphic volume)\n",
    "\n",
    "That pretty much sums up our introduction to the *PointGenerator* class, next we will implement the Fermat quintic in the *CICYPointGenerator*."
   ]
  },
  {
   "cell_type": "markdown",
   "metadata": {},
   "source": [
    "## CICYPointGenerator\n",
    "\n",
    "The other point generators come with the same functionality and routines as the *PointGenerator*. \n",
    "\n",
    "First we load from the cymetric package."
   ]
  },
  {
   "cell_type": "code",
   "execution_count": 19,
   "metadata": {},
   "outputs": [],
   "source": [
    "from cymetric.pointgen.pointgen_cicy import CICYPointGenerator"
   ]
  },
  {
   "cell_type": "markdown",
   "metadata": {},
   "source": [
    "In contrast to the *PointGenerator* the *CICYPointGenerator* expects a list of monomials and coefficients. We reuse our previous monomials (and coefficients) with"
   ]
  },
  {
   "cell_type": "code",
   "execution_count": 20,
   "metadata": {},
   "outputs": [],
   "source": [
    "pgcicy = CICYPointGenerator([monomials], [coefficients], kmoduli, ambient)"
   ]
  },
  {
   "cell_type": "markdown",
   "metadata": {},
   "source": [
    "we again create a dataset"
   ]
  },
  {
   "cell_type": "code",
   "execution_count": 21,
   "metadata": {},
   "outputs": [],
   "source": [
    "dirname = 'fermat_pgcicy'"
   ]
  },
  {
   "cell_type": "code",
   "execution_count": 22,
   "metadata": {
    "scrolled": true
   },
   "outputs": [
    {
     "name": "stderr",
     "output_type": "stream",
     "text": [
      "/Users/ruehle/Desktop/test_package/.venv/lib/python3.11/site-packages/cymetric/pointgen/pointgen_cicy.py:399: RuntimeWarning: The iteration is not making good progress, as measured by the \n",
      " improvement from the last ten iterations.\n",
      "  sol = opt.fsolve(\n",
      "/Users/ruehle/Desktop/test_package/.venv/lib/python3.11/site-packages/cymetric/pointgen/pointgen_cicy.py:399: RuntimeWarning: The iteration is not making good progress, as measured by the \n",
      " improvement from the last ten iterations.\n",
      "  sol = opt.fsolve(\n",
      "/Users/ruehle/Desktop/test_package/.venv/lib/python3.11/site-packages/cymetric/pointgen/pointgen_cicy.py:399: RuntimeWarning: The iteration is not making good progress, as measured by the \n",
      " improvement from the last ten iterations.\n",
      "  sol = opt.fsolve(\n",
      "/Users/ruehle/Desktop/test_package/.venv/lib/python3.11/site-packages/cymetric/pointgen/pointgen_cicy.py:399: RuntimeWarning: The iteration is not making good progress, as measured by the \n",
      " improvement from the last ten iterations.\n",
      "  sol = opt.fsolve(\n",
      "/Users/ruehle/Desktop/test_package/.venv/lib/python3.11/site-packages/cymetric/pointgen/pointgen_cicy.py:399: RuntimeWarning: The iteration is not making good progress, as measured by the \n",
      " improvement from the last ten iterations.\n",
      "  sol = opt.fsolve(\n",
      "/Users/ruehle/Desktop/test_package/.venv/lib/python3.11/site-packages/cymetric/pointgen/pointgen_cicy.py:399: RuntimeWarning: The iteration is not making good progress, as measured by the \n",
      " improvement from the last ten iterations.\n",
      "  sol = opt.fsolve(\n",
      "/Users/ruehle/Desktop/test_package/.venv/lib/python3.11/site-packages/cymetric/pointgen/pointgen_cicy.py:399: RuntimeWarning: The iteration is not making good progress, as measured by the \n",
      " improvement from the last ten iterations.\n",
      "  sol = opt.fsolve(\n",
      "/Users/ruehle/Desktop/test_package/.venv/lib/python3.11/site-packages/cymetric/pointgen/pointgen_cicy.py:399: RuntimeWarning: The iteration is not making good progress, as measured by the \n",
      " improvement from the last ten iterations.\n",
      "  sol = opt.fsolve(\n",
      "/Users/ruehle/Desktop/test_package/.venv/lib/python3.11/site-packages/cymetric/pointgen/pointgen_cicy.py:399: RuntimeWarning: The iteration is not making good progress, as measured by the \n",
      " improvement from the last ten iterations.\n",
      "  sol = opt.fsolve(\n",
      "/Users/ruehle/Desktop/test_package/.venv/lib/python3.11/site-packages/cymetric/pointgen/pointgen_cicy.py:399: RuntimeWarning: The iteration is not making good progress, as measured by the \n",
      " improvement from the last ten iterations.\n",
      "  sol = opt.fsolve(\n",
      "/Users/ruehle/Desktop/test_package/.venv/lib/python3.11/site-packages/cymetric/pointgen/pointgen_cicy.py:399: RuntimeWarning: The iteration is not making good progress, as measured by the \n",
      " improvement from the last ten iterations.\n",
      "  sol = opt.fsolve(\n",
      "/Users/ruehle/Desktop/test_package/.venv/lib/python3.11/site-packages/cymetric/pointgen/pointgen_cicy.py:399: RuntimeWarning: The iteration is not making good progress, as measured by the \n",
      " improvement from the last five Jacobian evaluations.\n",
      "  sol = opt.fsolve(\n",
      "/Users/ruehle/Desktop/test_package/.venv/lib/python3.11/site-packages/cymetric/pointgen/pointgen_cicy.py:399: RuntimeWarning: The iteration is not making good progress, as measured by the \n",
      " improvement from the last ten iterations.\n",
      "  sol = opt.fsolve(\n",
      "/Users/ruehle/Desktop/test_package/.venv/lib/python3.11/site-packages/cymetric/pointgen/pointgen_cicy.py:399: RuntimeWarning: The iteration is not making good progress, as measured by the \n",
      " improvement from the last ten iterations.\n",
      "  sol = opt.fsolve(\n",
      "/Users/ruehle/Desktop/test_package/.venv/lib/python3.11/site-packages/cymetric/pointgen/pointgen_cicy.py:399: RuntimeWarning: The iteration is not making good progress, as measured by the \n",
      " improvement from the last ten iterations.\n",
      "  sol = opt.fsolve(\n",
      "/Users/ruehle/Desktop/test_package/.venv/lib/python3.11/site-packages/cymetric/pointgen/pointgen_cicy.py:399: RuntimeWarning: The iteration is not making good progress, as measured by the \n",
      " improvement from the last five Jacobian evaluations.\n",
      "  sol = opt.fsolve(\n",
      "/Users/ruehle/Desktop/test_package/.venv/lib/python3.11/site-packages/cymetric/pointgen/pointgen_cicy.py:399: RuntimeWarning: The iteration is not making good progress, as measured by the \n",
      " improvement from the last ten iterations.\n",
      "  sol = opt.fsolve(\n",
      "/Users/ruehle/Desktop/test_package/.venv/lib/python3.11/site-packages/cymetric/pointgen/pointgen_cicy.py:399: RuntimeWarning: The iteration is not making good progress, as measured by the \n",
      " improvement from the last five Jacobian evaluations.\n",
      "  sol = opt.fsolve(\n",
      "/Users/ruehle/Desktop/test_package/.venv/lib/python3.11/site-packages/cymetric/pointgen/pointgen_cicy.py:399: RuntimeWarning: The iteration is not making good progress, as measured by the \n",
      " improvement from the last five Jacobian evaluations.\n",
      "  sol = opt.fsolve(\n",
      "/Users/ruehle/Desktop/test_package/.venv/lib/python3.11/site-packages/cymetric/pointgen/pointgen_cicy.py:399: RuntimeWarning: The iteration is not making good progress, as measured by the \n",
      " improvement from the last ten iterations.\n",
      "  sol = opt.fsolve(\n",
      "/Users/ruehle/Desktop/test_package/.venv/lib/python3.11/site-packages/cymetric/pointgen/pointgen_cicy.py:399: RuntimeWarning: The iteration is not making good progress, as measured by the \n",
      " improvement from the last five Jacobian evaluations.\n",
      "  sol = opt.fsolve(\n",
      "/Users/ruehle/Desktop/test_package/.venv/lib/python3.11/site-packages/cymetric/pointgen/pointgen_cicy.py:399: RuntimeWarning: The iteration is not making good progress, as measured by the \n",
      " improvement from the last five Jacobian evaluations.\n",
      "  sol = opt.fsolve(\n",
      "/Users/ruehle/Desktop/test_package/.venv/lib/python3.11/site-packages/cymetric/pointgen/pointgen_cicy.py:399: RuntimeWarning: The iteration is not making good progress, as measured by the \n",
      " improvement from the last five Jacobian evaluations.\n",
      "  sol = opt.fsolve(\n",
      "/Users/ruehle/Desktop/test_package/.venv/lib/python3.11/site-packages/cymetric/pointgen/pointgen_cicy.py:399: RuntimeWarning: The iteration is not making good progress, as measured by the \n",
      " improvement from the last five Jacobian evaluations.\n",
      "  sol = opt.fsolve(\n",
      "/Users/ruehle/Desktop/test_package/.venv/lib/python3.11/site-packages/cymetric/pointgen/pointgen_cicy.py:399: RuntimeWarning: The iteration is not making good progress, as measured by the \n",
      " improvement from the last five Jacobian evaluations.\n",
      "  sol = opt.fsolve(\n",
      "/Users/ruehle/Desktop/test_package/.venv/lib/python3.11/site-packages/cymetric/pointgen/pointgen_cicy.py:399: RuntimeWarning: The iteration is not making good progress, as measured by the \n",
      " improvement from the last ten iterations.\n",
      "  sol = opt.fsolve(\n",
      "pointgen:INFO:Vol_k: 5.000000000000001, Vol_cy: 286.8411106369864.\n"
     ]
    }
   ],
   "source": [
    "kappa = pgcicy.prepare_dataset(n_p, dirname)"
   ]
  },
  {
   "cell_type": "markdown",
   "metadata": {},
   "source": [
    "as you might have realised, this took significantly longer than before. The reason for that is also related to all the warnings. The *CICYPointGenerator* utilises *scipy.optimize.fsolve* to find solutions on CICYs. *fsolve* only provides a single root of the defining hypersurfaces and requires more involved numerics, thus leading to worse performance (also in accuracy).\n",
    "\n",
    "We again create a basis for the tensorflow models"
   ]
  },
  {
   "cell_type": "code",
   "execution_count": 23,
   "metadata": {},
   "outputs": [
    {
     "name": "stdout",
     "output_type": "stream",
     "text": [
      "DQDZB0\n",
      "DQDZF0\n",
      "QB0\n",
      "QF0\n",
      "NFOLD\n",
      "AMBIENT\n",
      "KMODULI\n",
      "NHYPER\n",
      "INTNUMS\n",
      "KAPPA\n"
     ]
    }
   ],
   "source": [
    "pgcicy.prepare_basis(dirname, kappa)\n",
    "with open(os.path.join(dirname, 'basis.pickle'), 'rb') as f:\n",
    "    basis = pickle.load(f)\n",
    "for key in basis:\n",
    "    print(key)"
   ]
  },
  {
   "cell_type": "markdown",
   "metadata": {},
   "source": [
    "and see that the keys are identical to before."
   ]
  },
  {
   "cell_type": "markdown",
   "metadata": {},
   "source": [
    "## PointGeneratorMathematica\n",
    "\n",
    "As the name suggests, *PointGeneratorMathematica* uses Mathematica as a backend and hence needs mathematica installed on the system. It uses [wolframclient](https://reference.wolfram.com/language/WolframClientForPython/) for interop."
   ]
  },
  {
   "cell_type": "code",
   "execution_count": 24,
   "metadata": {},
   "outputs": [],
   "source": [
    "from cymetric.pointgen.pointgen_mathematica import PointGeneratorMathematica"
   ]
  },
  {
   "cell_type": "markdown",
   "metadata": {},
   "source": [
    "Just like the CICYPointGenerator, *PointGeneratorMathematica* expects a list of monomials and coefficients. Depending on the setup of the machine, one needs to specify the path to the Mathematica kernel. We reuse our previous monomials (and coefficients) with"
   ]
  },
  {
   "cell_type": "code",
   "execution_count": null,
   "metadata": {},
   "outputs": [],
   "source": [
    "kernel_path = \"/Applications/Wolfram.app/Contents/MacOS/WolframKernel\"  # Might not be necessary at all for you, or you might need to adjust this path according to your Mathematica installation.\n",
    "pgmath = PointGeneratorMathematica([monomials], [coefficients], kmoduli, ambient, kernel_path=kernel_path)"
   ]
  },
  {
   "cell_type": "markdown",
   "metadata": {},
   "source": [
    "we again create a dataset"
   ]
  },
  {
   "cell_type": "code",
   "execution_count": 29,
   "metadata": {},
   "outputs": [],
   "source": [
    "dirname = 'fermat_pgmath'"
   ]
  },
  {
   "cell_type": "code",
   "execution_count": 30,
   "metadata": {},
   "outputs": [
    {
     "name": "stderr",
     "output_type": "stream",
     "text": [
      "WolframKernel-<tcp://127.0.0.1:52948>:DEBUG:Evaluating a new expression.\n",
      "pointgenMathematica:DEBUG:Running with 16 Mathematica kernels.\n",
      "WolframKernel-<tcp://127.0.0.1:52948>:INFO:Configuration matrix: {{5}}\n",
      "WolframKernel-<tcp://127.0.0.1:52948>:INFO:Number of Parameters per P^n: {1}\n",
      "WolframKernel-<tcp://127.0.0.1:52948>:INFO:Number of points on CY from one ambient space intersection: 5\n",
      "WolframKernel-<tcp://127.0.0.1:52948>:INFO:Now generating 100000 points...\n",
      "WolframKernel-<tcp://127.0.0.1:52948>:INFO:Generated 0% of points\n",
      "WolframKernel-<tcp://127.0.0.1:52948>:INFO:Generated 5% of points\n",
      "WolframKernel-<tcp://127.0.0.1:52948>:INFO:Generated 10% of points\n",
      "WolframKernel-<tcp://127.0.0.1:52948>:INFO:Generated 15% of points\n",
      "WolframKernel-<tcp://127.0.0.1:52948>:INFO:Generated 20% of points\n",
      "WolframKernel-<tcp://127.0.0.1:52948>:INFO:Generated 25% of points\n",
      "WolframKernel-<tcp://127.0.0.1:52948>:INFO:Generated 30% of points\n",
      "WolframKernel-<tcp://127.0.0.1:52948>:INFO:Generated 35% of points\n",
      "WolframKernel-<tcp://127.0.0.1:52948>:INFO:Generated 40% of points\n",
      "WolframKernel-<tcp://127.0.0.1:52948>:INFO:Generated 45% of points\n",
      "WolframKernel-<tcp://127.0.0.1:52948>:INFO:Generated 50% of points\n",
      "WolframKernel-<tcp://127.0.0.1:52948>:INFO:Generated 55% of points\n",
      "WolframKernel-<tcp://127.0.0.1:52948>:INFO:Generated 60% of points\n",
      "WolframKernel-<tcp://127.0.0.1:52948>:INFO:Generated 65% of points\n",
      "WolframKernel-<tcp://127.0.0.1:52948>:INFO:Generated 70% of points\n",
      "WolframKernel-<tcp://127.0.0.1:52948>:INFO:Generated 75% of points\n",
      "WolframKernel-<tcp://127.0.0.1:52948>:INFO:Generated 80% of points\n",
      "WolframKernel-<tcp://127.0.0.1:52948>:INFO:Generated 85% of points\n",
      "WolframKernel-<tcp://127.0.0.1:52948>:INFO:Generated 90% of points\n",
      "WolframKernel-<tcp://127.0.0.1:52948>:INFO:Generated 95% of points\n",
      "WolframKernel-<tcp://127.0.0.1:52948>:INFO:done.\n",
      "pointgen:INFO:Vol_k: 5.000000000000001, Vol_cy: 283.39062335595753.\n"
     ]
    }
   ],
   "source": [
    "kappa = pgmath.prepare_dataset(n_p, dirname)"
   ]
  },
  {
   "cell_type": "markdown",
   "metadata": {},
   "source": [
    "We again create a basis for the tensorflow models"
   ]
  },
  {
   "cell_type": "code",
   "execution_count": 31,
   "metadata": {},
   "outputs": [
    {
     "name": "stdout",
     "output_type": "stream",
     "text": [
      "DQDZB0\n",
      "DQDZF0\n",
      "QB0\n",
      "QF0\n",
      "NFOLD\n",
      "AMBIENT\n",
      "KMODULI\n",
      "NHYPER\n",
      "INTNUMS\n",
      "KAPPA\n"
     ]
    }
   ],
   "source": [
    "pgmath.prepare_basis(dirname, kappa)\n",
    "with open(os.path.join(dirname, 'basis.pickle'), 'rb') as f:\n",
    "    basis = pickle.load(f)\n",
    "for key in basis:\n",
    "    print(key)"
   ]
  },
  {
   "cell_type": "markdown",
   "metadata": {},
   "source": [
    "## ToricPointGeneratorMathematica\n",
    "\n",
    "The *ToricPointGeneratorMathematica* requires both [SageMath](https://www.sagemath.org/) and Mathematica. SageMath does the toric computations and Mathematica the rest. The *toric_data* can be straightforwardly generated in any sage kernel that has access to the *cymetric* package. In praxis only a single module is needed which can be found [here](../cymetric/sage/sagelib.py). Alternatively, you can run the generator directly from within SageMath, as illustrated in another notebook.\n",
    "\n",
    "The next cell won't work in your regular python notebook because it requires some sage routines for toric geometry and Mathematica. See [here](https://doc.sagemath.org/html/en/reference/schemes/sage/schemes/toric/variety.html) for more information about toric varieties and their implementation in sage and [here](https://doc.sagemath.org/html/en/reference/discrete_geometry/sage/geometry/triangulation/point_configuration.html) for information about triangulations of PointCollections. For Mathematica interop, it uses the [wolframclient](https://reference.wolfram.com/language/WolframClientForPython/) for interop.\n",
    "\n",
    "We begin by setting up the quintic vertices, which define the fan of the toric ambient variety. After initialising said variety we load the *prepare_toric_cy_data()* routine and generate the neccessary data for the *ToricPointGenerator* and the toric TensorFlow models."
   ]
  },
  {
   "cell_type": "code",
   "execution_count": 8,
   "metadata": {},
   "outputs": [],
   "source": [
    "# from cymetric.sage.sagelib import prepare_toric_cy_data\n",
    "# import os\n",
    "# # Quintic vertices\n",
    "# vertices = [\n",
    "#    [1, 0, 0, 0], [0, 1, 0, 0], [0, 0, 1, 0], [0, 0, 0, 1], [-1, -1, -1, -1]\n",
    "# ]\n",
    "# origin = [0 for _ in range(len(vertices[0]))]\n",
    "# polytope = LatticePolytope(vertices)\n",
    "# pConfig = PointConfiguration(polytope.points(), star=origin)\n",
    "# # set to topcom for more efficient triangulations\n",
    "# pConfig.set_engine(\"TOPCOM\")\n",
    "# # restrict to fine star regular.\n",
    "# triangulations = pConfig.restrict_to_connected_triangulations()\n",
    "# triangulations = triangulations.restrict_to_fine_triangulations()\n",
    "# triangulations = triangulations.restrict_to_regular_triangulations()\n",
    "# triangulations = triangulations.restrict_to_star_triangulations(origin)\n",
    "# # take first triangulation; build fan and TV\n",
    "# triang = triangulations.triangulate()\n",
    "# tv_fan = triang.fan()\n",
    "# TV = ToricVariety(tv_fan)\n",
    "# fname = os.path.join('fermat_pgtoricmath', 'toric_data.pickle')\n",
    "# toric_data = prepare_toric_cy_data(TV, fname)"
   ]
  },
  {
   "cell_type": "markdown",
   "metadata": {},
   "source": [
    "We are now in a position to go back to our regular python kernel or simply continue in Sage and load the *PointGeneratorToricMathematica*."
   ]
  },
  {
   "cell_type": "code",
   "execution_count": 3,
   "metadata": {},
   "outputs": [],
   "source": [
    "from cymetric.pointgen.pointgen_mathematica import ToricPointGeneratorMathematica"
   ]
  },
  {
   "cell_type": "markdown",
   "metadata": {},
   "source": [
    "Let us look at the information that has been written to *toric_data.pickle*."
   ]
  },
  {
   "cell_type": "code",
   "execution_count": 4,
   "metadata": {
    "scrolled": true
   },
   "outputs": [
    {
     "name": "stdout",
     "output_type": "stream",
     "text": [
      "dim_cy\n",
      "3\n",
      "vol_j_norm\n",
      "5\n",
      "coeff_aK\n",
      "[(0.12223379226130897+0.08958427660114339j), (-0.5237758578269187-0.36998935337944944j), (-0.5893937439619417-0.7506919464619879j), (1.239032210329901+0.31785230889413885j), (-0.04004605132263903+0.7390235461878999j), (0.1992594545958743-1.2113625229955j), (0.22073033524021463+0.05611782175609381j), (-1.4315061553007193+0.5198021856615895j), (-1.0386220146704672+0.05092873390038346j), (-0.20080080289973384+0.9713174057726288j), (0.522280644491934+2.4143025367309527j), (1.2648597159113144+0.3552485303473793j), (0.4040586774432686+0.017934742562961098j), (2.8023877060468987+0.3955863605304582j), (0.7972111144914961-0.4497785717415568j), (1.5928234528246075-0.3025790625522347j), (1.3810024820504474-0.8544846307063485j), (0.9185665271660439+0.039491683437694054j), (0.08556839328162931-2.6174125833010136j), (1.9776270754707563-0.6035229123818852j), (-0.6011776491099876-0.03834318352576229j), (-1.8500638588612994+0.35520922710091407j), (-0.013304211528973011-0.9062399045008938j), (-0.7065081234268279+1.1391751797053535j), (-2.2238323296820437+0.5383879830441743j), (-2.046093328523533+0.24880644375994354j), (-0.2735110225400729-0.6095300263315006j), (-0.00861884253512262-0.5544628531809223j), (-0.2103345469007487-2.101704237776513j), (-0.9224151879481051+0.3281971320906197j), (0.08429521269570549-0.2308928672931641j), (-0.746297613014202-1.4185379644725578j), (1.214626885709465+0.1165769681200318j), (-0.1403670051710598-0.4245797631666241j), (-0.31102339926884043+0.5984447633172373j), (-2.0563033886251576-2.1685035331270845j), (0.49327396753509545-0.21765484021320008j), (-0.14313735413841336-2.329383062862851j), (-0.15405536305321432-0.7196271157777723j), (0.4401340789759451+1.2797565031678595j), (0.0556818369856692+0.35509939276549346j), (0.5148533279628893+1.3976800017901887j), (-0.6179205562298578-0.034464308354463145j), (0.05807549378495505+0.32947618546804286j), (-0.8381500326491159-0.7447167138762424j), (0.5007201011803747-0.31998078999547025j), (0.46463405202116576-0.47132854301322147j), (-0.6756693234545031-1.0699436186904416j), (1.1470571697106313+0.913610572750946j), (1.0397274367506089-0.8737337607272845j), (-0.9852216425621366+0.2990613158896419j), (0.21621857897201535+0.587617294363717j), (0.08472746394338385-0.8220499946655169j), (0.3560925345014723-1.0556683732026313j), (0.05548471175353669-1.0138035007247028j), (-0.6397811329210059-0.7288242211543763j), (0.20620158575975753-0.79777755121212j), (-0.14154240102158583+0.7394273972862518j), (1.1978182458757778+0.28035509731850694j), (-0.8716415062940649+0.3729230389401968j), (2.6110807276901573+3.2016281885030162j), (-1.6620003930034541+0.21621665821273256j), (0.4023529131375625+0.45758413412499926j), (0.04088617084313408-0.5765602965935819j), (-0.017296259662855935-0.18287283361596932j), (0.2391151698162921+0.10511092199970028j), (-1.818855981577489+0.8989826057221014j), (0.071912071393651+0.09217084092941016j), (0.022545795607542603+0.5560454989725493j), (-1.3130210813849574+0.19554549653315983j), (0.04464526513735807+1.81430112655848j), (2.0225452880538417-0.246373337983874j), (-0.7111279116661273-1.807534859511618j), (-0.7609930777077042+1.5388628198310785j), (-0.33602834979509133-0.16173500638662944j), (-0.1814644583085891+0.627918336436268j), (-2.004118674576815-0.7230116551098922j), (-2.467203140213238+0.6251103349149263j), (1.8422343739502993+0.3000518791159425j), (0.24778258942526699-0.19569534208580494j), (-0.4762864716095806+1.885370043566506j), (-0.3203618035294472+1.799234403397863j), (0.9139717188727143+1.3364586795172355j), (-1.340380872207439-1.0771070314998403j), (-1.335612380520087+0.39902728852540936j), (0.6307534751680616+0.9525232227862473j), (0.4589423162362392+0.20778284145592454j), (-0.30886128613677283-0.5129807680860815j), (0.5669692992506645-0.13569811265257306j), (-0.7082786370678389+1.290466965433942j), (1.447849966321396-0.8349359447135432j), (-1.4921225613188516-0.6038436708731931j), (-0.9557629412517857+0.907918622503185j), (-0.15661772792687215+0.15016389493690893j), (-0.6080525105120117+0.21824202822941008j), (0.3755442216190214-0.02192275151545796j), (-0.5243606145320407-0.5663426577161064j), (-0.38011636779594943+0.4828446882958441j), (1.7989499453346887+0.4446429666064714j), (-1.0421697265002328+0.24937777998021757j), (1.3788138923812923-1.6060941649016014j), (1.6992470649180282-0.27547831169916975j), (1.109673035352584+0.700194585271184j), (-1.0550620598593388+1.5683808284432423j), (0.08487166505405523-1.911447014304723j), (1.070531624386915-0.03879195075770128j), (-0.5764986219895197-0.3809946516002835j), (-1.3532398588087895-0.13484806625083923j), (-0.035580073939348034-1.8570574075555721j), (-1.4260134216166267-0.9393019031576528j), (2.311967013566374+1.2010808134070758j), (2.234474863015567-0.3458181477081638j), (0.3416176252021263+0.2523038208504509j), (-0.7466304493017786-0.6456645105395639j), (-0.7463955326916522-0.07153812645076645j), (-0.01097286379791951+1.055116552366917j), (1.3354669255411946-0.18721647951377404j), (-0.36164914629818345+0.5145420523707839j), (0.32936405185922857-0.06764645095858543j), (1.578735204062135-0.6760806024251852j), (0.037627991721417064-0.21931150078738176j), (-0.15338072093281174-0.015201370836219445j), (1.064669444296066+1.4890405750826041j), (-0.195582731514663-1.327500633524907j), (2.8664737213042604-1.46385966208649j), (0.6425732893819068-0.3936982961721502j)]\n",
      "exp_aK\n",
      "[[0, 0, 0, 0, 5], [0, 0, 0, 1, 4], [0, 0, 0, 2, 3], [0, 0, 0, 3, 2], [0, 0, 0, 4, 1], [0, 0, 0, 5, 0], [0, 0, 1, 0, 4], [0, 0, 1, 1, 3], [0, 0, 1, 2, 2], [0, 0, 1, 3, 1], [0, 0, 1, 4, 0], [0, 0, 2, 0, 3], [0, 0, 2, 1, 2], [0, 0, 2, 2, 1], [0, 0, 2, 3, 0], [0, 0, 3, 0, 2], [0, 0, 3, 1, 1], [0, 0, 3, 2, 0], [0, 0, 4, 0, 1], [0, 0, 4, 1, 0], [0, 0, 5, 0, 0], [0, 1, 0, 0, 4], [0, 1, 0, 1, 3], [0, 1, 0, 2, 2], [0, 1, 0, 3, 1], [0, 1, 0, 4, 0], [0, 1, 1, 0, 3], [0, 1, 1, 1, 2], [0, 1, 1, 2, 1], [0, 1, 1, 3, 0], [0, 1, 2, 0, 2], [0, 1, 2, 1, 1], [0, 1, 2, 2, 0], [0, 1, 3, 0, 1], [0, 1, 3, 1, 0], [0, 1, 4, 0, 0], [0, 2, 0, 0, 3], [0, 2, 0, 1, 2], [0, 2, 0, 2, 1], [0, 2, 0, 3, 0], [0, 2, 1, 0, 2], [0, 2, 1, 1, 1], [0, 2, 1, 2, 0], [0, 2, 2, 0, 1], [0, 2, 2, 1, 0], [0, 2, 3, 0, 0], [0, 3, 0, 0, 2], [0, 3, 0, 1, 1], [0, 3, 0, 2, 0], [0, 3, 1, 0, 1], [0, 3, 1, 1, 0], [0, 3, 2, 0, 0], [0, 4, 0, 0, 1], [0, 4, 0, 1, 0], [0, 4, 1, 0, 0], [0, 5, 0, 0, 0], [1, 0, 0, 0, 4], [1, 0, 0, 1, 3], [1, 0, 0, 2, 2], [1, 0, 0, 3, 1], [1, 0, 0, 4, 0], [1, 0, 1, 0, 3], [1, 0, 1, 1, 2], [1, 0, 1, 2, 1], [1, 0, 1, 3, 0], [1, 0, 2, 0, 2], [1, 0, 2, 1, 1], [1, 0, 2, 2, 0], [1, 0, 3, 0, 1], [1, 0, 3, 1, 0], [1, 0, 4, 0, 0], [1, 1, 0, 0, 3], [1, 1, 0, 1, 2], [1, 1, 0, 2, 1], [1, 1, 0, 3, 0], [1, 1, 1, 0, 2], [1, 1, 1, 1, 1], [1, 1, 1, 2, 0], [1, 1, 2, 0, 1], [1, 1, 2, 1, 0], [1, 1, 3, 0, 0], [1, 2, 0, 0, 2], [1, 2, 0, 1, 1], [1, 2, 0, 2, 0], [1, 2, 1, 0, 1], [1, 2, 1, 1, 0], [1, 2, 2, 0, 0], [1, 3, 0, 0, 1], [1, 3, 0, 1, 0], [1, 3, 1, 0, 0], [1, 4, 0, 0, 0], [2, 0, 0, 0, 3], [2, 0, 0, 1, 2], [2, 0, 0, 2, 1], [2, 0, 0, 3, 0], [2, 0, 1, 0, 2], [2, 0, 1, 1, 1], [2, 0, 1, 2, 0], [2, 0, 2, 0, 1], [2, 0, 2, 1, 0], [2, 0, 3, 0, 0], [2, 1, 0, 0, 2], [2, 1, 0, 1, 1], [2, 1, 0, 2, 0], [2, 1, 1, 0, 1], [2, 1, 1, 1, 0], [2, 1, 2, 0, 0], [2, 2, 0, 0, 1], [2, 2, 0, 1, 0], [2, 2, 1, 0, 0], [2, 3, 0, 0, 0], [3, 0, 0, 0, 2], [3, 0, 0, 1, 1], [3, 0, 0, 2, 0], [3, 0, 1, 0, 1], [3, 0, 1, 1, 0], [3, 0, 2, 0, 0], [3, 1, 0, 0, 1], [3, 1, 0, 1, 0], [3, 1, 1, 0, 0], [3, 2, 0, 0, 0], [4, 0, 0, 0, 1], [4, 0, 0, 1, 0], [4, 0, 1, 0, 0], [4, 1, 0, 0, 0], [5, 0, 0, 0, 0]]\n",
      "exps_sections\n",
      "[[[0, 0, 0, 0, 1], [0, 0, 0, 1, 0], [0, 0, 1, 0, 0], [0, 1, 0, 0, 0], [1, 0, 0, 0, 0]]]\n",
      "patch_masks\n",
      "[[0, 0, 0, 0, 1], [0, 0, 0, 1, 0], [0, 0, 1, 0, 0], [0, 1, 0, 0, 0], [1, 0, 0, 0, 0]]\n",
      "glsm_charges\n",
      "[[1, 1, 1, 1, 1]]\n",
      "non_ci_coeffs\n",
      "[]\n",
      "non_ci_exps\n",
      "[]\n",
      "int_nums\n",
      "[[[5]]]\n"
     ]
    }
   ],
   "source": [
    "dirname = 'fermat_pgtoricmath'\n",
    "with open(os.path.join(dirname, 'toric_data.pickle'), 'rb') as f:\n",
    "    toric_data = pickle.load(f)\n",
    "for key in toric_data:\n",
    "    print(key)\n",
    "    print(toric_data[key])"
   ]
  },
  {
   "cell_type": "markdown",
   "metadata": {},
   "source": [
    "We have the following keys:\n",
    "\n",
    "1. \"dim_cy\": contains the dimension of the Calabi-Yau.\n",
    "2. \"vol_j_norm\": information for normalization of weights.\n",
    "2. \"coeff_aK\": are generic complex coefficients in front of each of the defining hypersurface monomials, which you get from the Batyrev construction. Note: Those are by default complex valued as they represent a (redundant) description of the complex moduli.\n",
    "3. \"exp_aK\": is the monomial basis for the defining equation.\n",
    "4. \"exps_sections\": is a monomial basis for the sections of the kähler cone generators. This one will be needed to generate the integration weights and a Kähler metric in the same Kähler class as our Ricci-flat metric.\n",
    "5. \"patch_masks\": are (boolean) coordinate masks for all the patches in the TV.\n",
    "6. \"glsm_charges\": are the GLSM charges of the TV.\n",
    "7. \"non_ci_coeffs\": when sampling points, we use the projecitivized 0th cohomology class of the Kahler cone generators. There can be non-complete-intersection relations among the sections, which are encoded in the non_ci_coeffs and the non_ci_exps.\n",
    "8. \"non_ci_exps\": The exponents of all Kahler cone generator sections\n",
    "9. \"int_nums\": are the intersection numbers of the TV.\n",
    "\n",
    "Having loaded the toric_data we can initialize the ToricPointGenerator"
   ]
  },
  {
   "cell_type": "code",
   "execution_count": 5,
   "metadata": {},
   "outputs": [],
   "source": [
    "kernel_path = \"/Applications/Wolfram.app/Contents/MacOS/WolframKernel\"  # Might not be necessary at all for you, or you might need to adjust this path according to your Mathematica installation.\n",
    "pgtoricmath = ToricPointGeneratorMathematica(toric_data, kmoduli, kernel_path=kernel_path)"
   ]
  },
  {
   "cell_type": "markdown",
   "metadata": {},
   "source": [
    "We now have a generic quintic with coefficients in front of all 125 monomials.\n",
    "\n",
    "What if we only want the Fermat Quintic? We can override the information in \"coeff_aK\" and \"exp_aK\" with e.g."
   ]
  },
  {
   "cell_type": "code",
   "execution_count": 6,
   "metadata": {},
   "outputs": [],
   "source": [
    "toric_data[\"coeff_aK\"] = coefficients\n",
    "toric_data[\"exp_aK\"] = monomials"
   ]
  },
  {
   "cell_type": "markdown",
   "metadata": {},
   "source": [
    "we continue just as before with creating a dataset"
   ]
  },
  {
   "cell_type": "code",
   "execution_count": null,
   "metadata": {},
   "outputs": [],
   "source": [
    "kappa = pgtoricmath.prepare_dataset(n_p, dirname)"
   ]
  },
  {
   "cell_type": "markdown",
   "metadata": {},
   "source": [
    "We note, that the data generation again took quite some time even though there should just be a single hypersurface. We also optimize w.r.t. to the sections coming from the Kähler generators and thus have more than a single hypersurface to consider.\n",
    "\n",
    "Also, if you paid close attention to the output, you might have noticed that both Vol_k and Vol_cy are larger by a factor of 5 as compared to the other point generators. This is because the toric model does calculate the correct normalization (i.e. such that vol(X)$=\\int J^3=d_{ijk}t^ict^j t^k=\\text{mean}(\\text{det}(g)/|\\Omega|^2 w$) from the triple intersection numbers. To get the same behavior for the other point generators, you need to pass the argument vol_j_norm=5 to the generators and then call prepare_dataset with normalize_to_vol_j=True."
   ]
  },
  {
   "cell_type": "markdown",
   "metadata": {},
   "source": [
    "We create the *BASIS* containing all information for the TensorFlow models:"
   ]
  },
  {
   "cell_type": "code",
   "execution_count": null,
   "metadata": {},
   "outputs": [
    {
     "name": "stdout",
     "output_type": "stream",
     "text": [
      "DQDZB0\n",
      "DQDZF0\n",
      "QB0\n",
      "QF0\n",
      "NFOLD\n",
      "AMBIENT\n",
      "KMODULI\n",
      "NHYPER\n",
      "INTNUMS\n",
      "KAPPA\n"
     ]
    }
   ],
   "source": [
    "pgtoricmath.prepare_basis(dirname, kappa)\n",
    "with open(os.path.join(dirname, 'basis.pickle'), 'rb') as f:\n",
    "    basis = pickle.load(f)\n",
    "for key in basis:\n",
    "    print(key)"
   ]
  }
 ],
 "metadata": {
  "kernelspec": {
   "display_name": ".venv",
   "language": "python",
   "name": "python3"
  },
  "language_info": {
   "codemirror_mode": {
    "name": "ipython",
    "version": 3
   },
   "file_extension": ".py",
   "mimetype": "text/x-python",
   "name": "python",
   "nbconvert_exporter": "python",
   "pygments_lexer": "ipython3",
   "version": "3.11.12"
  }
 },
 "nbformat": 4,
 "nbformat_minor": 4
}
