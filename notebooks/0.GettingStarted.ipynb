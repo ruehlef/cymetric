{
 "cells": [
  {
   "cell_type": "markdown",
   "id": "9208193e",
   "metadata": {},
   "source": [
    "# Simple example for the Quintic"
   ]
  },
  {
   "cell_type": "code",
   "execution_count": null,
   "id": "cac7cfd7",
   "metadata": {},
   "outputs": [
    {
     "name": "stdout",
     "output_type": "stream",
     "text": [
      "Collecting git+https://github.com/ruehlef/cymetric.git\n",
      "  Cloning https://github.com/ruehlef/cymetric.git to /private/var/folders/5n/0kqh94h112j137zhqw9phb480000gn/T/pip-req-build-_2l3mhaa\n",
      "  Running command git clone --filter=blob:none --quiet https://github.com/ruehlef/cymetric.git /private/var/folders/5n/0kqh94h112j137zhqw9phb480000gn/T/pip-req-build-_2l3mhaa\n",
      "  Resolved https://github.com/ruehlef/cymetric.git to commit 61eebf5322d9d229de537b1531458b3e8718b7bf\n",
      "  Preparing metadata (setup.py) ... \u001b[?25ldone\n",
      "\u001b[?25hRequirement already satisfied: numpy>=1.21.0 in /Users/ruehle/Desktop/test_package/.venv/lib/python3.11/site-packages (from cymetric==0.4a0) (2.1.3)\n",
      "Requirement already satisfied: sympy>=1.9 in /Users/ruehle/Desktop/test_package/.venv/lib/python3.11/site-packages (from cymetric==0.4a0) (1.14.0)\n",
      "Requirement already satisfied: scipy in /Users/ruehle/Desktop/test_package/.venv/lib/python3.11/site-packages (from cymetric==0.4a0) (1.16.0)\n",
      "Requirement already satisfied: joblib in /Users/ruehle/Desktop/test_package/.venv/lib/python3.11/site-packages (from cymetric==0.4a0) (1.5.1)\n",
      "Requirement already satisfied: wolframclient>=1.1.6 in /Users/ruehle/Desktop/test_package/.venv/lib/python3.11/site-packages (from cymetric==0.4a0) (1.4.0)\n",
      "Requirement already satisfied: pickle-mixin>=1.0.2 in /Users/ruehle/Desktop/test_package/.venv/lib/python3.11/site-packages (from cymetric==0.4a0) (1.0.2)\n",
      "Requirement already satisfied: tqdm>=4.60.0 in /Users/ruehle/Desktop/test_package/.venv/lib/python3.11/site-packages (from cymetric==0.4a0) (4.67.1)\n",
      "Requirement already satisfied: matplotlib>=3.5.0 in /Users/ruehle/Desktop/test_package/.venv/lib/python3.11/site-packages (from cymetric==0.4a0) (3.10.3)\n",
      "Requirement already satisfied: seaborn>=0.11.0 in /Users/ruehle/Desktop/test_package/.venv/lib/python3.11/site-packages (from cymetric==0.4a0) (0.13.2)\n",
      "Requirement already satisfied: torch>=2.0.0 in /Users/ruehle/Desktop/test_package/.venv/lib/python3.11/site-packages (from cymetric==0.4a0) (2.7.1)\n",
      "Requirement already satisfied: torchvision>=0.15.0 in /Users/ruehle/Desktop/test_package/.venv/lib/python3.11/site-packages (from cymetric==0.4a0) (0.22.1)\n",
      "Requirement already satisfied: tensorflow>=2.8.0 in /Users/ruehle/Desktop/test_package/.venv/lib/python3.11/site-packages (from cymetric==0.4a0) (2.19.0)\n",
      "Requirement already satisfied: contourpy>=1.0.1 in /Users/ruehle/Desktop/test_package/.venv/lib/python3.11/site-packages (from matplotlib>=3.5.0->cymetric==0.4a0) (1.3.2)\n",
      "Requirement already satisfied: cycler>=0.10 in /Users/ruehle/Desktop/test_package/.venv/lib/python3.11/site-packages (from matplotlib>=3.5.0->cymetric==0.4a0) (0.12.1)\n",
      "Requirement already satisfied: fonttools>=4.22.0 in /Users/ruehle/Desktop/test_package/.venv/lib/python3.11/site-packages (from matplotlib>=3.5.0->cymetric==0.4a0) (4.59.0)\n",
      "Requirement already satisfied: kiwisolver>=1.3.1 in /Users/ruehle/Desktop/test_package/.venv/lib/python3.11/site-packages (from matplotlib>=3.5.0->cymetric==0.4a0) (1.4.8)\n",
      "Requirement already satisfied: packaging>=20.0 in /Users/ruehle/Desktop/test_package/.venv/lib/python3.11/site-packages (from matplotlib>=3.5.0->cymetric==0.4a0) (25.0)\n",
      "Requirement already satisfied: pillow>=8 in /Users/ruehle/Desktop/test_package/.venv/lib/python3.11/site-packages (from matplotlib>=3.5.0->cymetric==0.4a0) (11.3.0)\n",
      "Requirement already satisfied: pyparsing>=2.3.1 in /Users/ruehle/Desktop/test_package/.venv/lib/python3.11/site-packages (from matplotlib>=3.5.0->cymetric==0.4a0) (3.2.3)\n",
      "Requirement already satisfied: python-dateutil>=2.7 in /Users/ruehle/Desktop/test_package/.venv/lib/python3.11/site-packages (from matplotlib>=3.5.0->cymetric==0.4a0) (2.9.0.post0)\n",
      "Requirement already satisfied: six>=1.5 in /Users/ruehle/Desktop/test_package/.venv/lib/python3.11/site-packages (from python-dateutil>=2.7->matplotlib>=3.5.0->cymetric==0.4a0) (1.17.0)\n",
      "Requirement already satisfied: pandas>=1.2 in /Users/ruehle/Desktop/test_package/.venv/lib/python3.11/site-packages (from seaborn>=0.11.0->cymetric==0.4a0) (2.3.1)\n",
      "Requirement already satisfied: pytz>=2020.1 in /Users/ruehle/Desktop/test_package/.venv/lib/python3.11/site-packages (from pandas>=1.2->seaborn>=0.11.0->cymetric==0.4a0) (2025.2)\n",
      "Requirement already satisfied: tzdata>=2022.7 in /Users/ruehle/Desktop/test_package/.venv/lib/python3.11/site-packages (from pandas>=1.2->seaborn>=0.11.0->cymetric==0.4a0) (2025.2)\n",
      "Requirement already satisfied: mpmath<1.4,>=1.1.0 in /Users/ruehle/Desktop/test_package/.venv/lib/python3.11/site-packages (from sympy>=1.9->cymetric==0.4a0) (1.3.0)\n",
      "Requirement already satisfied: absl-py>=1.0.0 in /Users/ruehle/Desktop/test_package/.venv/lib/python3.11/site-packages (from tensorflow>=2.8.0->cymetric==0.4a0) (2.3.1)\n",
      "Requirement already satisfied: astunparse>=1.6.0 in /Users/ruehle/Desktop/test_package/.venv/lib/python3.11/site-packages (from tensorflow>=2.8.0->cymetric==0.4a0) (1.6.3)\n",
      "Requirement already satisfied: flatbuffers>=24.3.25 in /Users/ruehle/Desktop/test_package/.venv/lib/python3.11/site-packages (from tensorflow>=2.8.0->cymetric==0.4a0) (25.2.10)\n",
      "Requirement already satisfied: gast!=0.5.0,!=0.5.1,!=0.5.2,>=0.2.1 in /Users/ruehle/Desktop/test_package/.venv/lib/python3.11/site-packages (from tensorflow>=2.8.0->cymetric==0.4a0) (0.6.0)\n",
      "Requirement already satisfied: google-pasta>=0.1.1 in /Users/ruehle/Desktop/test_package/.venv/lib/python3.11/site-packages (from tensorflow>=2.8.0->cymetric==0.4a0) (0.2.0)\n",
      "Requirement already satisfied: libclang>=13.0.0 in /Users/ruehle/Desktop/test_package/.venv/lib/python3.11/site-packages (from tensorflow>=2.8.0->cymetric==0.4a0) (18.1.1)\n",
      "Requirement already satisfied: opt-einsum>=2.3.2 in /Users/ruehle/Desktop/test_package/.venv/lib/python3.11/site-packages (from tensorflow>=2.8.0->cymetric==0.4a0) (3.4.0)\n",
      "Requirement already satisfied: protobuf!=4.21.0,!=4.21.1,!=4.21.2,!=4.21.3,!=4.21.4,!=4.21.5,<6.0.0dev,>=3.20.3 in /Users/ruehle/Desktop/test_package/.venv/lib/python3.11/site-packages (from tensorflow>=2.8.0->cymetric==0.4a0) (5.29.5)\n",
      "Requirement already satisfied: requests<3,>=2.21.0 in /Users/ruehle/Desktop/test_package/.venv/lib/python3.11/site-packages (from tensorflow>=2.8.0->cymetric==0.4a0) (2.32.4)\n",
      "Requirement already satisfied: setuptools in /Users/ruehle/Desktop/test_package/.venv/lib/python3.11/site-packages (from tensorflow>=2.8.0->cymetric==0.4a0) (78.1.0)\n",
      "Requirement already satisfied: termcolor>=1.1.0 in /Users/ruehle/Desktop/test_package/.venv/lib/python3.11/site-packages (from tensorflow>=2.8.0->cymetric==0.4a0) (3.1.0)\n",
      "Requirement already satisfied: typing-extensions>=3.6.6 in /Users/ruehle/Desktop/test_package/.venv/lib/python3.11/site-packages (from tensorflow>=2.8.0->cymetric==0.4a0) (4.14.1)\n",
      "Requirement already satisfied: wrapt>=1.11.0 in /Users/ruehle/Desktop/test_package/.venv/lib/python3.11/site-packages (from tensorflow>=2.8.0->cymetric==0.4a0) (1.17.2)\n",
      "Requirement already satisfied: grpcio<2.0,>=1.24.3 in /Users/ruehle/Desktop/test_package/.venv/lib/python3.11/site-packages (from tensorflow>=2.8.0->cymetric==0.4a0) (1.73.1)\n",
      "Requirement already satisfied: tensorboard~=2.19.0 in /Users/ruehle/Desktop/test_package/.venv/lib/python3.11/site-packages (from tensorflow>=2.8.0->cymetric==0.4a0) (2.19.0)\n",
      "Requirement already satisfied: keras>=3.5.0 in /Users/ruehle/Desktop/test_package/.venv/lib/python3.11/site-packages (from tensorflow>=2.8.0->cymetric==0.4a0) (3.10.0)\n",
      "Requirement already satisfied: h5py>=3.11.0 in /Users/ruehle/Desktop/test_package/.venv/lib/python3.11/site-packages (from tensorflow>=2.8.0->cymetric==0.4a0) (3.14.0)\n",
      "Requirement already satisfied: ml-dtypes<1.0.0,>=0.5.1 in /Users/ruehle/Desktop/test_package/.venv/lib/python3.11/site-packages (from tensorflow>=2.8.0->cymetric==0.4a0) (0.5.1)\n",
      "Requirement already satisfied: tensorflow-io-gcs-filesystem>=0.23.1 in /Users/ruehle/Desktop/test_package/.venv/lib/python3.11/site-packages (from tensorflow>=2.8.0->cymetric==0.4a0) (0.37.1)\n",
      "Requirement already satisfied: charset_normalizer<4,>=2 in /Users/ruehle/Desktop/test_package/.venv/lib/python3.11/site-packages (from requests<3,>=2.21.0->tensorflow>=2.8.0->cymetric==0.4a0) (3.4.2)\n",
      "Requirement already satisfied: idna<4,>=2.5 in /Users/ruehle/Desktop/test_package/.venv/lib/python3.11/site-packages (from requests<3,>=2.21.0->tensorflow>=2.8.0->cymetric==0.4a0) (3.10)\n",
      "Requirement already satisfied: urllib3<3,>=1.21.1 in /Users/ruehle/Desktop/test_package/.venv/lib/python3.11/site-packages (from requests<3,>=2.21.0->tensorflow>=2.8.0->cymetric==0.4a0) (2.5.0)\n",
      "Requirement already satisfied: certifi>=2017.4.17 in /Users/ruehle/Desktop/test_package/.venv/lib/python3.11/site-packages (from requests<3,>=2.21.0->tensorflow>=2.8.0->cymetric==0.4a0) (2025.7.14)\n",
      "Requirement already satisfied: markdown>=2.6.8 in /Users/ruehle/Desktop/test_package/.venv/lib/python3.11/site-packages (from tensorboard~=2.19.0->tensorflow>=2.8.0->cymetric==0.4a0) (3.8.2)\n",
      "Requirement already satisfied: tensorboard-data-server<0.8.0,>=0.7.0 in /Users/ruehle/Desktop/test_package/.venv/lib/python3.11/site-packages (from tensorboard~=2.19.0->tensorflow>=2.8.0->cymetric==0.4a0) (0.7.2)\n",
      "Requirement already satisfied: werkzeug>=1.0.1 in /Users/ruehle/Desktop/test_package/.venv/lib/python3.11/site-packages (from tensorboard~=2.19.0->tensorflow>=2.8.0->cymetric==0.4a0) (3.1.3)\n",
      "Requirement already satisfied: wheel<1.0,>=0.23.0 in /Users/ruehle/Desktop/test_package/.venv/lib/python3.11/site-packages (from astunparse>=1.6.0->tensorflow>=2.8.0->cymetric==0.4a0) (0.45.1)\n",
      "Requirement already satisfied: rich in /Users/ruehle/Desktop/test_package/.venv/lib/python3.11/site-packages (from keras>=3.5.0->tensorflow>=2.8.0->cymetric==0.4a0) (14.0.0)\n",
      "Requirement already satisfied: namex in /Users/ruehle/Desktop/test_package/.venv/lib/python3.11/site-packages (from keras>=3.5.0->tensorflow>=2.8.0->cymetric==0.4a0) (0.1.0)\n",
      "Requirement already satisfied: optree in /Users/ruehle/Desktop/test_package/.venv/lib/python3.11/site-packages (from keras>=3.5.0->tensorflow>=2.8.0->cymetric==0.4a0) (0.16.0)\n",
      "Requirement already satisfied: filelock in /Users/ruehle/Desktop/test_package/.venv/lib/python3.11/site-packages (from torch>=2.0.0->cymetric==0.4a0) (3.18.0)\n",
      "Requirement already satisfied: networkx in /Users/ruehle/Desktop/test_package/.venv/lib/python3.11/site-packages (from torch>=2.0.0->cymetric==0.4a0) (3.5)\n",
      "Requirement already satisfied: jinja2 in /Users/ruehle/Desktop/test_package/.venv/lib/python3.11/site-packages (from torch>=2.0.0->cymetric==0.4a0) (3.1.6)\n",
      "Requirement already satisfied: fsspec in /Users/ruehle/Desktop/test_package/.venv/lib/python3.11/site-packages (from torch>=2.0.0->cymetric==0.4a0) (2025.7.0)\n",
      "Requirement already satisfied: MarkupSafe>=2.1.1 in /Users/ruehle/Desktop/test_package/.venv/lib/python3.11/site-packages (from werkzeug>=1.0.1->tensorboard~=2.19.0->tensorflow>=2.8.0->cymetric==0.4a0) (3.0.2)\n",
      "Requirement already satisfied: aiohttp in /Users/ruehle/Desktop/test_package/.venv/lib/python3.11/site-packages (from wolframclient>=1.1.6->cymetric==0.4a0) (3.12.14)\n",
      "Requirement already satisfied: oauthlib in /Users/ruehle/Desktop/test_package/.venv/lib/python3.11/site-packages (from wolframclient>=1.1.6->cymetric==0.4a0) (3.3.1)\n",
      "Requirement already satisfied: pyzmq in /Users/ruehle/Desktop/test_package/.venv/lib/python3.11/site-packages (from wolframclient>=1.1.6->cymetric==0.4a0) (27.0.0)\n",
      "Requirement already satisfied: aiohappyeyeballs>=2.5.0 in /Users/ruehle/Desktop/test_package/.venv/lib/python3.11/site-packages (from aiohttp->wolframclient>=1.1.6->cymetric==0.4a0) (2.6.1)\n",
      "Requirement already satisfied: aiosignal>=1.4.0 in /Users/ruehle/Desktop/test_package/.venv/lib/python3.11/site-packages (from aiohttp->wolframclient>=1.1.6->cymetric==0.4a0) (1.4.0)\n",
      "Requirement already satisfied: attrs>=17.3.0 in /Users/ruehle/Desktop/test_package/.venv/lib/python3.11/site-packages (from aiohttp->wolframclient>=1.1.6->cymetric==0.4a0) (25.3.0)\n",
      "Requirement already satisfied: frozenlist>=1.1.1 in /Users/ruehle/Desktop/test_package/.venv/lib/python3.11/site-packages (from aiohttp->wolframclient>=1.1.6->cymetric==0.4a0) (1.7.0)\n",
      "Requirement already satisfied: multidict<7.0,>=4.5 in /Users/ruehle/Desktop/test_package/.venv/lib/python3.11/site-packages (from aiohttp->wolframclient>=1.1.6->cymetric==0.4a0) (6.6.3)\n",
      "Requirement already satisfied: propcache>=0.2.0 in /Users/ruehle/Desktop/test_package/.venv/lib/python3.11/site-packages (from aiohttp->wolframclient>=1.1.6->cymetric==0.4a0) (0.3.2)\n",
      "Requirement already satisfied: yarl<2.0,>=1.17.0 in /Users/ruehle/Desktop/test_package/.venv/lib/python3.11/site-packages (from aiohttp->wolframclient>=1.1.6->cymetric==0.4a0) (1.20.1)\n",
      "Requirement already satisfied: markdown-it-py>=2.2.0 in /Users/ruehle/Desktop/test_package/.venv/lib/python3.11/site-packages (from rich->keras>=3.5.0->tensorflow>=2.8.0->cymetric==0.4a0) (3.0.0)\n",
      "Requirement already satisfied: pygments<3.0.0,>=2.13.0 in /Users/ruehle/Desktop/test_package/.venv/lib/python3.11/site-packages (from rich->keras>=3.5.0->tensorflow>=2.8.0->cymetric==0.4a0) (2.19.2)\n",
      "Requirement already satisfied: mdurl~=0.1 in /Users/ruehle/Desktop/test_package/.venv/lib/python3.11/site-packages (from markdown-it-py>=2.2.0->rich->keras>=3.5.0->tensorflow>=2.8.0->cymetric==0.4a0) (0.1.2)\n",
      "Building wheels for collected packages: cymetric\n",
      "\u001b[33m  DEPRECATION: Building 'cymetric' using the legacy setup.py bdist_wheel mechanism, which will be removed in a future version. pip 25.3 will enforce this behaviour change. A possible replacement is to use the standardized build interface by setting the `--use-pep517` option, (possibly combined with `--no-build-isolation`), or adding a `pyproject.toml` file to the source tree of 'cymetric'. Discussion can be found at https://github.com/pypa/pip/issues/6334\u001b[0m\u001b[33m\n",
      "\u001b[0m  Building wheel for cymetric (setup.py) ... \u001b[?25ldone\n",
      "\u001b[?25h  Created wheel for cymetric: filename=cymetric-0.4a0-py3-none-any.whl size=130483 sha256=d74173653deebcbc580b3d3611f351d0a904dd03d8f4f3429f4b4657f23329bc\n",
      "  Stored in directory: /private/var/folders/5n/0kqh94h112j137zhqw9phb480000gn/T/pip-ephem-wheel-cache-sl8zjdio/wheels/68/17/10/c38873f17556412f86201cd268cfdc4dd190a0f1e0f844f623\n",
      "Successfully built cymetric\n",
      "Installing collected packages: cymetric\n",
      "Successfully installed cymetric-0.4a0\n",
      "Note: you may need to restart the kernel to use updated packages.\n"
     ]
    }
   ],
   "source": [
    "# uncomment the following line to install the package if you haven't done so already\n",
    "# %pip install git+https://github.com/ruehlef/cymetric.git"
   ]
  },
  {
   "cell_type": "code",
   "execution_count": 1,
   "id": "6cd55279",
   "metadata": {},
   "outputs": [],
   "source": [
    "import pickle\n",
    "import os\n",
    "import seaborn as sns\n",
    "import numpy as np\n",
    "\n",
    "os.environ[\"CUDA_VISIBLE_DEVICES\"] = \"-1\"\n",
    "# The package uses tensorflow by default. To work with torch, uncomment the next line. To work with tensorflow, comment it out.\n",
    "os.environ['CYMETRIC_FRAMEWORK'] = 'torch'"
   ]
  },
  {
   "cell_type": "markdown",
   "id": "17a048f8",
   "metadata": {},
   "source": [
    "### Generate some points"
   ]
  },
  {
   "cell_type": "code",
   "execution_count": 3,
   "id": "8f3fd391",
   "metadata": {},
   "outputs": [],
   "source": [
    "from cymetric.pointgen.pointgen_mathematica import PointGeneratorMathematica\n",
    "\n",
    "kernel_path = \"/Applications/Wolfram.app/Contents/MacOS/WolframKernel\"\n",
    "psi = -2.\n",
    "monomials = np.array((5 * np.eye(5, dtype=np.int64)).tolist() + [[1,1,1,1,1]])\n",
    "coefficients = np.array(np.ones(5).tolist() + [-5 * psi])\n",
    "kmoduli = np.ones(1)\n",
    "ambient = np.array([4])\n",
    "n_fold = 3\n",
    "num_pts = 50000\n",
    "\n",
    "pg = PointGeneratorMathematica([monomials], [coefficients], kmoduli, ambient, kernel_path=kernel_path)\n",
    "dirname = 'points_quintic_test'\n",
    "if not os.path.exists(os.path.join(dirname, 'basis.pickle')):\n",
    "    kappa = pg.prepare_dataset(num_pts, dirname)\n",
    "    pg.prepare_basis(dirname, kappa)"
   ]
  },
  {
   "cell_type": "markdown",
   "id": "c5a95531",
   "metadata": {},
   "source": [
    "# Torch Examples"
   ]
  },
  {
   "cell_type": "code",
   "execution_count": 4,
   "id": "65776efb",
   "metadata": {},
   "outputs": [],
   "source": [
    "import torch\n",
    "import torch.nn as nn\n",
    "\n",
    "from cymetric.models.models import PhiFSModel, MultFSModel, MatrixFSModel, FreeModel, AddFSModel\n",
    "from cymetric.models.helper import train_model, prepare_basis\n",
    "from cymetric.models.callbacks import RicciCallback, SigmaCallback, KaehlerCallback, TransitionCallback, VolkCallback\n",
    "\n",
    "with open(os.path.join(dirname, 'basis.pickle'), 'rb') as f:\n",
    "    BASIS = pickle.load(f)\n",
    "BASIS = prepare_basis(BASIS)\n",
    "data = np.load(os.path.join(dirname, 'dataset.npz'), allow_pickle=True)"
   ]
  },
  {
   "cell_type": "markdown",
   "id": "3c59e6dd",
   "metadata": {},
   "source": [
    "### Demonstration of the PhiFSModel"
   ]
  },
  {
   "cell_type": "code",
   "execution_count": 5,
   "id": "0dbf3b2f",
   "metadata": {},
   "outputs": [],
   "source": [
    "# a simple NN for the metric\n",
    "n_in = data['X_train'].shape[1]\n",
    "n_out = 1\n",
    "metric_nn = nn.Sequential(\n",
    "    nn.Linear(n_in, 64),\n",
    "    nn.GELU(),\n",
    "    nn.Linear(64, 64),\n",
    "    nn.GELU(),\n",
    "    nn.Linear(64, 64),\n",
    "    nn.GELU(),\n",
    "    nn.Linear(64, n_out)\n",
    ")\n",
    "model = PhiFSModel(metric_nn, BASIS)\n",
    "optimizer = torch.optim.Adam(model.parameters(), lr=1e-3)\n",
    "\n",
    "# Some extra information about the relative errors\n",
    "scb = SigmaCallback((data['X_val'], data['y_val']))\n",
    "kcb = KaehlerCallback((data['X_val'], data['y_val']))\n",
    "val_pullbacks = model.pullbacks(torch.from_numpy(data['X_val']).type(torch.float32).to(model.device)).detach().numpy()\n",
    "rcb = RicciCallback((data['X_val'], data['y_val']), val_pullbacks)\n",
    "tcb = TransitionCallback((data['X_val'], data['y_val']))\n",
    "vcb = VolkCallback((data['X_val'], data['y_val']))\n",
    "cb_list = [scb, kcb, tcb, vcb, rcb]"
   ]
  },
  {
   "cell_type": "code",
   "execution_count": 10,
   "id": "04fdf488",
   "metadata": {},
   "outputs": [
    {
     "name": "stdout",
     "output_type": "stream",
     "text": [
      "\n",
      "Epoch 1/5\n"
     ]
    },
    {
     "name": "stderr",
     "output_type": "stream",
     "text": [
      "100%|██████████| 704/704 [00:09<00:00, 72.46it/s]\n",
      "100%|██████████| 704/704 [00:09<00:00, 72.46it/s]\n",
      "100%|██████████| 5/5 [00:16<00:00,  3.39s/it]\n",
      "\n"
     ]
    },
    {
     "name": "stdout",
     "output_type": "stream",
     "text": [
      " - General loss phase: 0.173367\n",
      " - Volume loss phase:  0.446619\n",
      " - Sigma measure val:      0.1504\n",
      " - Sigma measure val:      0.1504\n",
      " - Kaehler measure val:    7.3280e-15\n",
      " - Kaehler measure val:    7.3280e-15\n",
      " - Transition measure val: 0.0019\n",
      " - Volume val:               5.2030\n",
      " - Transition measure val: 0.0019\n",
      " - Volume val:               5.2030\n",
      " - Ricci measure val:      1.3937\n",
      " - Ricci measure val:      1.3937\n",
      "\n",
      "Epoch 2/5\n",
      "\n",
      "Epoch 2/5\n"
     ]
    },
    {
     "name": "stderr",
     "output_type": "stream",
     "text": [
      "100%|██████████| 704/704 [00:10<00:00, 67.14it/s]\n",
      "100%|██████████| 704/704 [00:10<00:00, 67.14it/s]\n",
      "100%|██████████| 5/5 [00:23<00:00,  4.60s/it]\n",
      "\n"
     ]
    },
    {
     "name": "stdout",
     "output_type": "stream",
     "text": [
      " - General loss phase: 0.135270\n",
      " - Volume loss phase:  0.294180\n",
      " - Sigma measure val:      0.2101\n",
      " - Sigma measure val:      0.2101\n",
      " - Kaehler measure val:    7.5613e-15\n",
      " - Kaehler measure val:    7.5613e-15\n",
      " - Transition measure val: 0.0012\n",
      " - Volume val:               5.7396\n",
      " - Transition measure val: 0.0012\n",
      " - Volume val:               5.7396\n",
      " - Ricci measure val:      1.0361\n",
      " - Ricci measure val:      1.0361\n",
      "\n",
      "Epoch 3/5\n",
      "\n",
      "Epoch 3/5\n"
     ]
    },
    {
     "name": "stderr",
     "output_type": "stream",
     "text": [
      "100%|██████████| 704/704 [00:10<00:00, 66.85it/s]\n",
      "100%|██████████| 704/704 [00:10<00:00, 66.85it/s]\n",
      "100%|██████████| 5/5 [00:25<00:00,  5.17s/it]\n",
      "\n"
     ]
    },
    {
     "name": "stdout",
     "output_type": "stream",
     "text": [
      " - General loss phase: 0.130129\n",
      " - Volume loss phase:  0.206327\n",
      " - Sigma measure val:      0.1269\n",
      " - Sigma measure val:      0.1269\n",
      " - Kaehler measure val:    6.9391e-15\n",
      " - Kaehler measure val:    6.9391e-15\n",
      " - Transition measure val: 5.0040e-04\n",
      " - Volume val:               4.7542\n",
      " - Transition measure val: 5.0040e-04\n",
      " - Volume val:               4.7542\n",
      " - Ricci measure val:      0.8121\n",
      " - Ricci measure val:      0.8121\n",
      "\n",
      "Epoch 4/5\n",
      "\n",
      "Epoch 4/5\n"
     ]
    },
    {
     "name": "stderr",
     "output_type": "stream",
     "text": [
      "100%|██████████| 704/704 [00:10<00:00, 67.49it/s]\n",
      "100%|██████████| 704/704 [00:10<00:00, 67.49it/s]\n",
      "100%|██████████| 5/5 [00:23<00:00,  4.74s/it]\n",
      "\n"
     ]
    },
    {
     "name": "stdout",
     "output_type": "stream",
     "text": [
      " - General loss phase: 0.127320\n",
      " - Volume loss phase:  0.242606\n",
      " - Sigma measure val:      0.1288\n",
      " - Sigma measure val:      0.1288\n",
      " - Kaehler measure val:    6.8495e-15\n",
      " - Kaehler measure val:    6.8495e-15\n",
      " - Transition measure val: 6.4098e-04\n",
      " - Volume val:               4.6791\n",
      " - Transition measure val: 6.4098e-04\n",
      " - Volume val:               4.6791\n",
      " - Ricci measure val:      0.6904\n",
      " - Ricci measure val:      0.6904\n",
      "\n",
      "Epoch 5/5\n",
      "\n",
      "Epoch 5/5\n"
     ]
    },
    {
     "name": "stderr",
     "output_type": "stream",
     "text": [
      "100%|██████████| 704/704 [00:10<00:00, 64.88it/s]\n",
      "100%|██████████| 704/704 [00:10<00:00, 64.88it/s]\n",
      "100%|██████████| 5/5 [00:23<00:00,  4.65s/it]\n",
      "\n"
     ]
    },
    {
     "name": "stdout",
     "output_type": "stream",
     "text": [
      " - General loss phase: 0.125681\n",
      " - Volume loss phase:  0.204492\n",
      " - Sigma measure val:      0.1293\n",
      " - Sigma measure val:      0.1293\n",
      " - Kaehler measure val:    7.2162e-15\n",
      " - Kaehler measure val:    7.2162e-15\n",
      " - Transition measure val: 6.0480e-04\n",
      " - Volume val:               5.1110\n",
      " - Transition measure val: 6.0480e-04\n",
      " - Volume val:               5.1110\n",
      " - Ricci measure val:      0.7541\n",
      " - Ricci measure val:      0.7541\n"
     ]
    },
    {
     "data": {
      "image/png": "[encoded data removed]",
      "text/plain": [
       "<Figure size 640x480 with 1 Axes>"
      ]
     },
     "metadata": {},
     "output_type": "display_data"
    }
   ],
   "source": [
    "# train the model. You can skip using the callbacks (especially the Ricci callback) to save time\n",
    "trained_model, history = train_model(\n",
    "        model, data, optimizer=optimizer, epochs=5, callbacks=cb_list\n",
    "    )\n",
    "\n",
    "# Plot the results\n",
    "for k, v in history.items():\n",
    "    if k != 'epochs':\n",
    "        sns.lineplot(history, x='epochs', y=v, label=k)"
   ]
  },
  {
   "cell_type": "markdown",
   "id": "d438812e",
   "metadata": {},
   "source": [
    "### Demonstration of the MultFSModel"
   ]
  },
  {
   "cell_type": "code",
   "execution_count": 7,
   "id": "0b6158cf",
   "metadata": {},
   "outputs": [],
   "source": [
    "# a simple NN for the metric\n",
    "n_in = data['X_train'].shape[1]\n",
    "n_out = BASIS['NFOLD']**2\n",
    "metric_nn = nn.Sequential(\n",
    "    nn.Linear(n_in, 64),\n",
    "    nn.GELU(),\n",
    "    nn.Linear(64, 64),\n",
    "    nn.GELU(),\n",
    "    nn.Linear(64, 64),\n",
    "    nn.GELU(),\n",
    "    nn.Linear(64, n_out)\n",
    ")\n",
    "model = MultFSModel(metric_nn, BASIS)\n",
    "optimizer = torch.optim.Adam(model.parameters(), lr=1e-3)\n",
    "\n",
    "scb = SigmaCallback((data['X_val'], data['y_val']))\n",
    "kcb = KaehlerCallback((data['X_val'], data['y_val']))\n",
    "val_pullbacks = model.pullbacks(torch.from_numpy(data['X_val']).type(torch.float32).to(model.device)).detach().numpy()\n",
    "rcb = RicciCallback((data['X_val'], data['y_val']), val_pullbacks)\n",
    "tcb = TransitionCallback((data['X_val'], data['y_val']))\n",
    "vcb = VolkCallback((data['X_val'], data['y_val']))\n",
    "cb_list = [scb, kcb, tcb, vcb, rcb]"
   ]
  },
  {
   "cell_type": "code",
   "execution_count": 8,
   "id": "3a500386",
   "metadata": {},
   "outputs": [
    {
     "name": "stdout",
     "output_type": "stream",
     "text": [
      "\n",
      "Epoch 1/5\n"
     ]
    },
    {
     "name": "stderr",
     "output_type": "stream",
     "text": [
      "100%|██████████| 704/704 [01:51<00:00,  6.29it/s]\n",
      "100%|██████████| 704/704 [01:51<00:00,  6.29it/s]\n",
      "100%|██████████| 5/5 [00:01<00:00,  3.95it/s]\n",
      "\n"
     ]
    },
    {
     "name": "stdout",
     "output_type": "stream",
     "text": [
      " - General loss phase: 0.177213\n",
      " - Volume loss phase:  0.267608\n",
      " - Sigma measure val:      0.1697\n",
      " - Kaehler measure val:    0.0054\n",
      " - Kaehler measure val:    0.0054\n",
      " - Transition measure val: 0.0073\n",
      " - Volume val:               5.3476\n",
      " - Transition measure val: 0.0073\n",
      " - Volume val:               5.3476\n",
      " - Ricci measure val:      2.0446\n",
      "\n",
      "Epoch 2/5\n",
      " - Ricci measure val:      2.0446\n",
      "\n",
      "Epoch 2/5\n"
     ]
    },
    {
     "name": "stderr",
     "output_type": "stream",
     "text": [
      "100%|██████████| 704/704 [01:52<00:00,  6.24it/s]\n",
      "100%|██████████| 704/704 [01:52<00:00,  6.24it/s]\n",
      "100%|██████████| 5/5 [00:01<00:00,  3.82it/s]\n",
      "\n"
     ]
    },
    {
     "name": "stdout",
     "output_type": "stream",
     "text": [
      " - General loss phase: 0.136629\n",
      " - Volume loss phase:  0.237805\n",
      " - Sigma measure val:      0.1318\n",
      " - Kaehler measure val:    0.0048\n",
      " - Kaehler measure val:    0.0048\n",
      " - Transition measure val: 0.0048\n",
      " - Volume val:               4.9942\n",
      " - Transition measure val: 0.0048\n",
      " - Volume val:               4.9942\n",
      " - Ricci measure val:      1.6833\n",
      "\n",
      "Epoch 3/5\n",
      " - Ricci measure val:      1.6833\n",
      "\n",
      "Epoch 3/5\n"
     ]
    },
    {
     "name": "stderr",
     "output_type": "stream",
     "text": [
      "100%|██████████| 704/704 [01:54<00:00,  6.13it/s]\n",
      "100%|██████████| 704/704 [01:54<00:00,  6.13it/s]\n",
      "100%|██████████| 5/5 [00:01<00:00,  3.81it/s]\n",
      "\n"
     ]
    },
    {
     "name": "stdout",
     "output_type": "stream",
     "text": [
      " - General loss phase: 0.126750\n",
      " - Volume loss phase:  0.218238\n",
      " - Sigma measure val:      0.1471\n",
      " - Kaehler measure val:    0.0054\n",
      " - Kaehler measure val:    0.0054\n",
      " - Transition measure val: 0.0032\n",
      " - Volume val:               5.2087\n",
      " - Transition measure val: 0.0032\n",
      " - Volume val:               5.2087\n",
      " - Ricci measure val:      1.3880\n",
      "\n",
      "Epoch 4/5\n",
      " - Ricci measure val:      1.3880\n",
      "\n",
      "Epoch 4/5\n"
     ]
    },
    {
     "name": "stderr",
     "output_type": "stream",
     "text": [
      "100%|██████████| 704/704 [01:54<00:00,  6.14it/s]\n",
      "100%|██████████| 704/704 [01:54<00:00,  6.14it/s]\n",
      "100%|██████████| 5/5 [00:01<00:00,  3.76it/s]\n",
      "\n"
     ]
    },
    {
     "name": "stdout",
     "output_type": "stream",
     "text": [
      " - General loss phase: 0.121177\n",
      " - Volume loss phase:  0.193070\n",
      " - Sigma measure val:      0.1479\n",
      " - Kaehler measure val:    0.0057\n",
      " - Kaehler measure val:    0.0057\n",
      " - Transition measure val: 0.0024\n",
      " - Volume val:               5.2382\n",
      " - Transition measure val: 0.0024\n",
      " - Volume val:               5.2382\n",
      " - Ricci measure val:      1.1392\n",
      "\n",
      "Epoch 5/5\n",
      " - Ricci measure val:      1.1392\n",
      "\n",
      "Epoch 5/5\n"
     ]
    },
    {
     "name": "stderr",
     "output_type": "stream",
     "text": [
      "100%|██████████| 704/704 [01:53<00:00,  6.18it/s]\n",
      "100%|██████████| 704/704 [01:53<00:00,  6.18it/s]\n",
      "100%|██████████| 5/5 [00:01<00:00,  3.70it/s]\n",
      "\n"
     ]
    },
    {
     "name": "stdout",
     "output_type": "stream",
     "text": [
      " - General loss phase: 0.118211\n",
      " - Volume loss phase:  0.258956\n",
      " - Sigma measure val:      0.1113\n",
      " - Kaehler measure val:    0.0067\n",
      " - Kaehler measure val:    0.0067\n",
      " - Transition measure val: 0.0023\n",
      " - Transition measure val: 0.0023\n",
      " - Volume val:               4.7837\n",
      " - Volume val:               4.7837\n",
      " - Ricci measure val:      1.0560\n",
      " - Ricci measure val:      1.0560\n"
     ]
    },
    {
     "data": {
      "image/png": "[encoded data removed]",
      "text/plain": [
       "<Figure size 640x480 with 1 Axes>"
      ]
     },
     "metadata": {},
     "output_type": "display_data"
    }
   ],
   "source": [
    "# train the model\n",
    "trained_model, history = train_model(\n",
    "        model, data, optimizer=optimizer, epochs=5, callbacks=cb_list\n",
    "    )\n",
    "\n",
    "# Plot the results\n",
    "for k, v in history.items():\n",
    "    if k != 'epochs':\n",
    "        sns.lineplot(history, x='epochs', y=v, label=k)"
   ]
  },
  {
   "cell_type": "markdown",
   "id": "3f8d0aa8",
   "metadata": {},
   "source": [
    "# TensorFlow Examples"
   ]
  },
  {
   "cell_type": "code",
   "execution_count": 4,
   "id": "841b1d8a",
   "metadata": {},
   "outputs": [],
   "source": [
    "# If you ran the torch code above, comment out the line os.environ['CYMETRIC_FRAMEWORK'] = 'torch', \n",
    "# and restart your jupyter notebook kernel to clear the torch model from memory. \n",
    "# Also rerun the cell that generates (or reads in) the points, i.e., the \"Generate some points\" section\n",
    "\n",
    "import tensorflow as tf\n",
    "tfk = tf.keras\n",
    "\n",
    "from cymetric.models.models import PhiFSModel, MultFSModel, MatrixFSModel, FreeModel, AddFSModel\n",
    "from cymetric.models.helper import train_model, prepare_basis\n",
    "from cymetric.models.callbacks import RicciCallback, SigmaCallback, KaehlerCallback, TransitionCallback, VolkCallback\n",
    "\n",
    "with open(os.path.join(dirname, 'basis.pickle'), 'rb') as f:\n",
    "    BASIS = pickle.load(f)\n",
    "BASIS = prepare_basis(BASIS)\n",
    "data = np.load(os.path.join(dirname, 'dataset.npz'), allow_pickle=True)\n"
   ]
  },
  {
   "cell_type": "markdown",
   "id": "e7c65ab1",
   "metadata": {},
   "source": [
    "### Demonstration of the PhiFSModel"
   ]
  },
  {
   "cell_type": "code",
   "execution_count": 5,
   "id": "eecfb6bf",
   "metadata": {},
   "outputs": [],
   "source": [
    "# a simple NN for the metric\n",
    "nn_depth = 3\n",
    "nn_width = 64\n",
    "n_epochs = 50\n",
    "n_in = data['X_train'].shape[1]\n",
    "n_out = 1\n",
    "metric_nn = tfk.Sequential()\n",
    "metric_nn.add(tfk.Input(shape=(n_in,)))\n",
    "for i in range(nn_depth):\n",
    "    metric_nn.add(tfk.layers.Dense(nn_width, activation='gelu'))\n",
    "metric_nn.add(tfk.layers.Dense(n_out, use_bias=False))\n",
    "\n",
    "model = PhiFSModel(metric_nn, BASIS)\n",
    "optimizer = tfk.optimizers.Adam(learning_rate=1e-3)\n",
    "\n",
    "# Some extra information about the relative errors\n",
    "scb = SigmaCallback((data['X_val'], data['y_val']))\n",
    "kcb = KaehlerCallback((data['X_val'], data['y_val']))\n",
    "val_pullbacks = model.pullbacks(tf.cast(data['X_val'], dtype=tf.float32))\n",
    "rcb = RicciCallback((data['X_val'], data['y_val']), val_pullbacks)\n",
    "tcb = TransitionCallback((data['X_val'], data['y_val']))\n",
    "vcb = VolkCallback((data['X_val'], data['y_val']))\n",
    "cb_list = [scb, kcb, tcb, vcb, rcb]"
   ]
  },
  {
   "cell_type": "code",
   "execution_count": 6,
   "id": "330649c3",
   "metadata": {},
   "outputs": [
    {
     "name": "stdout",
     "output_type": "stream",
     "text": [
      "\n",
      "Epoch  1/5\n",
      "\u001b[1m704/704\u001b[0m \u001b[32m━━━━━━━━━━━━━━━━━━━━\u001b[0m\u001b[37m\u001b[0m \u001b[1m3s\u001b[0m 2ms/step - kaehler_loss: 0.0000e+00 - loss: 0.1844 - ricci_loss: 0.0000e+00 - sigma_loss: 0.1764 - transition_loss: 0.0080 - volk_loss: 0.0000e+00\n",
      "\u001b[1m704/704\u001b[0m \u001b[32m━━━━━━━━━━━━━━━━━━━━\u001b[0m\u001b[37m\u001b[0m \u001b[1m3s\u001b[0m 2ms/step - kaehler_loss: 0.0000e+00 - loss: 0.1844 - ricci_loss: 0.0000e+00 - sigma_loss: 0.1764 - transition_loss: 0.0080 - volk_loss: 0.0000e+00\n",
      "\u001b[1m5/5\u001b[0m \u001b[32m━━━━━━━━━━━━━━━━━━━━\u001b[0m\u001b[37m\u001b[0m \u001b[1m0s\u001b[0m 92ms/step - kaehler_loss: 0.0000e+00 - loss: 0.1529 - ricci_loss: 0.0000e+00 - sigma_loss: 0.1468 - transition_loss: 0.0061 - volk_loss: 0.0000e+00  - Sigma measure val:      0.1372\n",
      " - Sigma measure val:      0.1372\n"
     ]
    },
    {
     "name": "stderr",
     "output_type": "stream",
     "text": [
      "2025-07-17 18:19:20.192279: I tensorflow/core/framework/local_rendezvous.cc:407] Local rendezvous is aborting with status: OUT_OF_RANGE: End of sequence\n"
     ]
    },
    {
     "name": "stdout",
     "output_type": "stream",
     "text": [
      " - Kaehler measure val:    5.5603e-15\n",
      " - Transition measure val: 0.0058\n",
      " - Volk val:               4.8333\n",
      " - Volk val:               4.8333\n",
      " - Ricci measure val:      1.5499\n",
      "\u001b[1m5/5\u001b[0m \u001b[32m━━━━━━━━━━━━━━━━━━━━\u001b[0m\u001b[37m\u001b[0m \u001b[1m7s\u001b[0m 2s/step - kaehler_loss: 0.0000e+00 - loss: 0.1530 - ricci_loss: 0.0000e+00 - sigma_loss: 0.1469 - transition_loss: 0.0061 - volk_loss: 0.0000e+00 - sigma_val: 0.1372 - kaehler_val: 5.5603e-15 - transition_val: 0.0058 - volk_val: 4.8333 - ricci_val: 1.5499\n",
      " - Ricci measure val:      1.5499\n",
      "\u001b[1m5/5\u001b[0m \u001b[32m━━━━━━━━━━━━━━━━━━━━\u001b[0m\u001b[37m\u001b[0m \u001b[1m7s\u001b[0m 2s/step - kaehler_loss: 0.0000e+00 - loss: 0.1530 - ricci_loss: 0.0000e+00 - sigma_loss: 0.1469 - transition_loss: 0.0061 - volk_loss: 0.0000e+00 - sigma_val: 0.1372 - kaehler_val: 5.5603e-15 - transition_val: 0.0058 - volk_val: 4.8333 - ricci_val: 1.5499\n",
      "\n",
      "Epoch  2/5\n",
      "\u001b[1m  1/704\u001b[0m \u001b[37m━━━━━━━━━━━━━━━━━━━━\u001b[0m \u001b[1m7s\u001b[0m 10ms/step - kaehler_loss: 0.0000e+00 - loss: 0.1685 - ricci_loss: 0.0000e+00 - sigma_loss: 0.1620 - transition_loss: 0.0064 - volk_loss: 0.0000e+00\n",
      "Epoch  2/5\n",
      "\u001b[1m 63/704\u001b[0m \u001b[32m━\u001b[0m\u001b[37m━━━━━━━━━━━━━━━━━━━\u001b[0m \u001b[1m1s\u001b[0m 2ms/step - kaehler_loss: 0.0000e+00 - loss: 0.1533 - ricci_loss: 0.0000e+00 - sigma_loss: 0.1476 - transition_loss: 0.0057 - volk_loss: 0.0000e+00"
     ]
    },
    {
     "name": "stderr",
     "output_type": "stream",
     "text": [
      "2025-07-17 18:19:23.498305: I tensorflow/core/framework/local_rendezvous.cc:407] Local rendezvous is aborting with status: OUT_OF_RANGE: End of sequence\n"
     ]
    },
    {
     "name": "stdout",
     "output_type": "stream",
     "text": [
      "\u001b[1m704/704\u001b[0m \u001b[32m━━━━━━━━━━━━━━━━━━━━\u001b[0m\u001b[37m\u001b[0m \u001b[1m2s\u001b[0m 3ms/step - kaehler_loss: 0.0000e+00 - loss: 0.1483 - ricci_loss: 0.0000e+00 - sigma_loss: 0.1443 - transition_loss: 0.0040 - volk_loss: 0.0000e+00\n",
      "\u001b[1m704/704\u001b[0m \u001b[32m━━━━━━━━━━━━━━━━━━━━\u001b[0m\u001b[37m\u001b[0m \u001b[1m2s\u001b[0m 3ms/step - kaehler_loss: 0.0000e+00 - loss: 0.1483 - ricci_loss: 0.0000e+00 - sigma_loss: 0.1443 - transition_loss: 0.0040 - volk_loss: 0.0000e+00\n",
      "\u001b[1m5/5\u001b[0m \u001b[32m━━━━━━━━━━━━━━━━━━━━\u001b[0m\u001b[37m\u001b[0m \u001b[1m0s\u001b[0m 98ms/step - kaehler_loss: 0.0000e+00 - loss: 0.1396 - ricci_loss: 0.0000e+00 - sigma_loss: 0.1367 - transition_loss: 0.0028 - volk_loss: 0.0000e+00  - Sigma measure val:      0.1289\n",
      " - Sigma measure val:      0.1289\n",
      " - Kaehler measure val:    5.4706e-15\n",
      " - Transition measure val: 0.0029\n",
      " - Volk val:               4.9218\n",
      " - Kaehler measure val:    5.4706e-15\n",
      " - Transition measure val: 0.0029\n",
      " - Volk val:               4.9218\n",
      " - Ricci measure val:      1.4150\n",
      "\u001b[1m5/5\u001b[0m \u001b[32m━━━━━━━━━━━━━━━━━━━━\u001b[0m\u001b[37m\u001b[0m \u001b[1m2s\u001b[0m 485ms/step - kaehler_loss: 0.0000e+00 - loss: 0.1394 - ricci_loss: 0.0000e+00 - sigma_loss: 0.1366 - transition_loss: 0.0029 - volk_loss: 0.0000e+00 - sigma_val: 0.1289 - kaehler_val: 5.4706e-15 - transition_val: 0.0029 - volk_val: 4.9218 - ricci_val: 1.4150\n",
      " - Ricci measure val:      1.4150\n",
      "\u001b[1m5/5\u001b[0m \u001b[32m━━━━━━━━━━━━━━━━━━━━\u001b[0m\u001b[37m\u001b[0m \u001b[1m2s\u001b[0m 485ms/step - kaehler_loss: 0.0000e+00 - loss: 0.1394 - ricci_loss: 0.0000e+00 - sigma_loss: 0.1366 - transition_loss: 0.0029 - volk_loss: 0.0000e+00 - sigma_val: 0.1289 - kaehler_val: 5.4706e-15 - transition_val: 0.0029 - volk_val: 4.9218 - ricci_val: 1.4150\n",
      "\n",
      "Epoch  3/5\n",
      "\u001b[1m  1/704\u001b[0m \u001b[37m━━━━━━━━━━━━━━━━━━━━\u001b[0m \u001b[1m6s\u001b[0m 10ms/step - kaehler_loss: 0.0000e+00 - loss: 0.1101 - ricci_loss: 0.0000e+00 - sigma_loss: 0.1072 - transition_loss: 0.0029 - volk_loss: 0.0000e+00\n",
      "Epoch  3/5\n",
      "\u001b[1m 74/704\u001b[0m \u001b[32m━━\u001b[0m\u001b[37m━━━━━━━━━━━━━━━━━━\u001b[0m \u001b[1m1s\u001b[0m 2ms/step - kaehler_loss: 0.0000e+00 - loss: 0.1415 - ricci_loss: 0.0000e+00 - sigma_loss: 0.1385 - transition_loss: 0.0030 - volk_loss: 0.0000e+00"
     ]
    },
    {
     "name": "stderr",
     "output_type": "stream",
     "text": [
      "2025-07-17 18:19:27.466245: I tensorflow/core/framework/local_rendezvous.cc:407] Local rendezvous is aborting with status: OUT_OF_RANGE: End of sequence\n"
     ]
    },
    {
     "name": "stdout",
     "output_type": "stream",
     "text": [
      "\u001b[1m704/704\u001b[0m \u001b[32m━━━━━━━━━━━━━━━━━━━━\u001b[0m\u001b[37m\u001b[0m \u001b[1m2s\u001b[0m 2ms/step - kaehler_loss: 0.0000e+00 - loss: 0.1391 - ricci_loss: 0.0000e+00 - sigma_loss: 0.1365 - transition_loss: 0.0026 - volk_loss: 0.0000e+00\n",
      "\u001b[1m704/704\u001b[0m \u001b[32m━━━━━━━━━━━━━━━━━━━━\u001b[0m\u001b[37m\u001b[0m \u001b[1m2s\u001b[0m 2ms/step - kaehler_loss: 0.0000e+00 - loss: 0.1391 - ricci_loss: 0.0000e+00 - sigma_loss: 0.1365 - transition_loss: 0.0026 - volk_loss: 0.0000e+00\n",
      "\u001b[1m5/5\u001b[0m \u001b[32m━━━━━━━━━━━━━━━━━━━━\u001b[0m\u001b[37m\u001b[0m \u001b[1m0s\u001b[0m 103ms/step - kaehler_loss: 0.0000e+00 - loss: 0.1337 - ricci_loss: 0.0000e+00 - sigma_loss: 0.1313 - transition_loss: 0.0024 - volk_loss: 0.0000e+00 - Sigma measure val:      0.1233\n",
      " - Sigma measure val:      0.1233\n",
      " - Kaehler measure val:    5.7239e-15\n",
      " - Transition measure val: 0.0022\n",
      " - Volk val:               5.0842\n",
      " - Kaehler measure val:    5.7239e-15\n",
      " - Transition measure val: 0.0022\n",
      " - Volk val:               5.0842\n",
      " - Ricci measure val:      1.1660\n",
      "\u001b[1m5/5\u001b[0m \u001b[32m━━━━━━━━━━━━━━━━━━━━\u001b[0m\u001b[37m\u001b[0m \u001b[1m2s\u001b[0m 490ms/step - kaehler_loss: 0.0000e+00 - loss: 0.1343 - ricci_loss: 0.0000e+00 - sigma_loss: 0.1319 - transition_loss: 0.0024 - volk_loss: 0.0000e+00 - sigma_val: 0.1233 - kaehler_val: 5.7239e-15 - transition_val: 0.0022 - volk_val: 5.0842 - ricci_val: 1.1660\n",
      " - Ricci measure val:      1.1660\n",
      "\u001b[1m5/5\u001b[0m \u001b[32m━━━━━━━━━━━━━━━━━━━━\u001b[0m\u001b[37m\u001b[0m \u001b[1m2s\u001b[0m 490ms/step - kaehler_loss: 0.0000e+00 - loss: 0.1343 - ricci_loss: 0.0000e+00 - sigma_loss: 0.1319 - transition_loss: 0.0024 - volk_loss: 0.0000e+00 - sigma_val: 0.1233 - kaehler_val: 5.7239e-15 - transition_val: 0.0022 - volk_val: 5.0842 - ricci_val: 1.1660\n",
      "\n",
      "Epoch  4/5\n",
      "\u001b[1m  1/704\u001b[0m \u001b[37m━━━━━━━━━━━━━━━━━━━━\u001b[0m \u001b[1m6s\u001b[0m 9ms/step - kaehler_loss: 0.0000e+00 - loss: 0.1508 - ricci_loss: 0.0000e+00 - sigma_loss: 0.1481 - transition_loss: 0.0027 - volk_loss: 0.0000e+00\n",
      "Epoch  4/5\n",
      "\u001b[1m704/704\u001b[0m \u001b[32m━━━━━━━━━━━━━━━━━━━━\u001b[0m\u001b[37m\u001b[0m \u001b[1m2s\u001b[0m 3ms/step - kaehler_loss: 0.0000e+00 - loss: 0.1300 - ricci_loss: 0.0000e+00 - sigma_loss: 0.1275 - transition_loss: 0.0025 - volk_loss: 0.0000e+00\n",
      "\u001b[1m704/704\u001b[0m \u001b[32m━━━━━━━━━━━━━━━━━━━━\u001b[0m\u001b[37m\u001b[0m \u001b[1m2s\u001b[0m 3ms/step - kaehler_loss: 0.0000e+00 - loss: 0.1300 - ricci_loss: 0.0000e+00 - sigma_loss: 0.1275 - transition_loss: 0.0025 - volk_loss: 0.0000e+00\n",
      "\u001b[1m5/5\u001b[0m \u001b[32m━━━━━━━━━━━━━━━━━━━━\u001b[0m\u001b[37m\u001b[0m \u001b[1m0s\u001b[0m 102ms/step - kaehler_loss: 0.0000e+00 - loss: 0.1245 - ricci_loss: 0.0000e+00 - sigma_loss: 0.1217 - transition_loss: 0.0028 - volk_loss: 0.0000e+00 - Sigma measure val:      0.1154\n",
      " - Sigma measure val:      0.1154\n",
      " - Kaehler measure val:    5.8687e-15\n",
      " - Transition measure val: 0.0025\n",
      " - Volk val:               5.0512\n",
      " - Kaehler measure val:    5.8687e-15\n",
      " - Transition measure val: 0.0025\n",
      " - Volk val:               5.0512\n",
      " - Ricci measure val:      0.9043\n",
      "\u001b[1m5/5\u001b[0m \u001b[32m━━━━━━━━━━━━━━━━━━━━\u001b[0m\u001b[37m\u001b[0m \u001b[1m2s\u001b[0m 496ms/step - kaehler_loss: 0.0000e+00 - loss: 0.1242 - ricci_loss: 0.0000e+00 - sigma_loss: 0.1214 - transition_loss: 0.0028 - volk_loss: 0.0000e+00 - sigma_val: 0.1154 - kaehler_val: 5.8687e-15 - transition_val: 0.0025 - volk_val: 5.0512 - ricci_val: 0.9043\n",
      " - Ricci measure val:      0.9043\n",
      "\u001b[1m5/5\u001b[0m \u001b[32m━━━━━━━━━━━━━━━━━━━━\u001b[0m\u001b[37m\u001b[0m \u001b[1m2s\u001b[0m 496ms/step - kaehler_loss: 0.0000e+00 - loss: 0.1242 - ricci_loss: 0.0000e+00 - sigma_loss: 0.1214 - transition_loss: 0.0028 - volk_loss: 0.0000e+00 - sigma_val: 0.1154 - kaehler_val: 5.8687e-15 - transition_val: 0.0025 - volk_val: 5.0512 - ricci_val: 0.9043\n",
      "\n",
      "Epoch  5/5\n",
      "\u001b[1m  1/704\u001b[0m \u001b[37m━━━━━━━━━━━━━━━━━━━━\u001b[0m \u001b[1m6s\u001b[0m 10ms/step - kaehler_loss: 0.0000e+00 - loss: 0.1191 - ricci_loss: 0.0000e+00 - sigma_loss: 0.1167 - transition_loss: 0.0024 - volk_loss: 0.0000e+00\n",
      "Epoch  5/5\n",
      "\u001b[1m 68/704\u001b[0m \u001b[32m━\u001b[0m\u001b[37m━━━━━━━━━━━━━━━━━━━\u001b[0m \u001b[1m1s\u001b[0m 2ms/step - kaehler_loss: 0.0000e+00 - loss: 0.1218 - ricci_loss: 0.0000e+00 - sigma_loss: 0.1191 - transition_loss: 0.0027 - volk_loss: 0.0000e+00"
     ]
    },
    {
     "name": "stderr",
     "output_type": "stream",
     "text": [
      "2025-07-17 18:19:35.371783: I tensorflow/core/framework/local_rendezvous.cc:407] Local rendezvous is aborting with status: OUT_OF_RANGE: End of sequence\n"
     ]
    },
    {
     "name": "stdout",
     "output_type": "stream",
     "text": [
      "\u001b[1m704/704\u001b[0m \u001b[32m━━━━━━━━━━━━━━━━━━━━\u001b[0m\u001b[37m\u001b[0m \u001b[1m2s\u001b[0m 2ms/step - kaehler_loss: 0.0000e+00 - loss: 0.1180 - ricci_loss: 0.0000e+00 - sigma_loss: 0.1149 - transition_loss: 0.0031 - volk_loss: 0.0000e+00\n",
      "\u001b[1m704/704\u001b[0m \u001b[32m━━━━━━━━━━━━━━━━━━━━\u001b[0m\u001b[37m\u001b[0m \u001b[1m2s\u001b[0m 2ms/step - kaehler_loss: 0.0000e+00 - loss: 0.1180 - ricci_loss: 0.0000e+00 - sigma_loss: 0.1149 - transition_loss: 0.0031 - volk_loss: 0.0000e+00\n",
      "\u001b[1m5/5\u001b[0m \u001b[32m━━━━━━━━━━━━━━━━━━━━\u001b[0m\u001b[37m\u001b[0m \u001b[1m0s\u001b[0m 108ms/step - kaehler_loss: 0.0000e+00 - loss: 0.1057 - ricci_loss: 0.0000e+00 - sigma_loss: 0.1024 - transition_loss: 0.0033 - volk_loss: 0.0000e+00 - Sigma measure val:      0.1031\n",
      " - Sigma measure val:      0.1031\n",
      " - Kaehler measure val:    6.0325e-15\n",
      " - Transition measure val: 0.0032\n",
      " - Volk val:               4.9122\n",
      " - Kaehler measure val:    6.0325e-15\n",
      " - Transition measure val: 0.0032\n",
      " - Volk val:               4.9122\n",
      " - Ricci measure val:      0.7138\n",
      "\u001b[1m5/5\u001b[0m \u001b[32m━━━━━━━━━━━━━━━━━━━━\u001b[0m\u001b[37m\u001b[0m \u001b[1m2s\u001b[0m 488ms/step - kaehler_loss: 0.0000e+00 - loss: 0.1054 - ricci_loss: 0.0000e+00 - sigma_loss: 0.1021 - transition_loss: 0.0033 - volk_loss: 0.0000e+00 - sigma_val: 0.1031 - kaehler_val: 6.0325e-15 - transition_val: 0.0032 - volk_val: 4.9122 - ricci_val: 0.7138\n",
      " - Ricci measure val:      0.7138\n",
      "\u001b[1m5/5\u001b[0m \u001b[32m━━━━━━━━━━━━━━━━━━━━\u001b[0m\u001b[37m\u001b[0m \u001b[1m2s\u001b[0m 488ms/step - kaehler_loss: 0.0000e+00 - loss: 0.1054 - ricci_loss: 0.0000e+00 - sigma_loss: 0.1021 - transition_loss: 0.0033 - volk_loss: 0.0000e+00 - sigma_val: 0.1031 - kaehler_val: 6.0325e-15 - transition_val: 0.0032 - volk_val: 4.9122 - ricci_val: 0.7138\n"
     ]
    },
    {
     "data": {
      "image/png": "[encoded data removed]",
      "text/plain": [
       "<Figure size 640x480 with 1 Axes>"
      ]
     },
     "metadata": {},
     "output_type": "display_data"
    }
   ],
   "source": [
    "# train the model\n",
    "trained_model, history = train_model(\n",
    "        model, data, optimizer=optimizer, epochs=5, callbacks=cb_list\n",
    "    )\n",
    "\n",
    "# Plot the results\n",
    "for k, v in history.items():\n",
    "    if k != 'epochs':\n",
    "        sns.lineplot(history, x='epochs', y=v, label=k)"
   ]
  },
  {
   "cell_type": "markdown",
   "id": "750d4d8d",
   "metadata": {},
   "source": [
    "### Demonstration of the MultFSModel"
   ]
  },
  {
   "cell_type": "code",
   "execution_count": 7,
   "id": "e6ee43f0",
   "metadata": {},
   "outputs": [],
   "source": [
    "nn_depth = 3\n",
    "nn_width = 64\n",
    "n_epochs = 50\n",
    "n_in = data['X_train'].shape[1]\n",
    "n_out = BASIS['NFOLD']**2\n",
    "\n",
    "# a simple NN for the metric\n",
    "metric_nn = tfk.Sequential()\n",
    "metric_nn.add(tfk.Input(shape=(n_in,)))\n",
    "for i in range(nn_depth):\n",
    "    metric_nn.add(tfk.layers.Dense(nn_width, activation='gelu'))\n",
    "metric_nn.add(tfk.layers.Dense(n_out, use_bias=False))\n",
    "\n",
    "model = MultFSModel(metric_nn, BASIS)\n",
    "optimizer = tfk.optimizers.Adam(learning_rate=1e-3)\n",
    "\n",
    "# Some extra information about the relative errors\n",
    "scb = SigmaCallback((data['X_val'], data['y_val']))\n",
    "kcb = KaehlerCallback((data['X_val'], data['y_val']))\n",
    "val_pullbacks = model.pullbacks(tf.cast(data['X_val'], dtype=tf.float32))\n",
    "rcb = RicciCallback((data['X_val'], data['y_val']), val_pullbacks)\n",
    "tcb = TransitionCallback((data['X_val'], data['y_val']))\n",
    "vcb = VolkCallback((data['X_val'], data['y_val']))\n",
    "cb_list = [scb, kcb, tcb, vcb, rcb]"
   ]
  },
  {
   "cell_type": "code",
   "execution_count": 8,
   "id": "966510d8",
   "metadata": {},
   "outputs": [
    {
     "name": "stdout",
     "output_type": "stream",
     "text": [
      "\n",
      "Epoch  1/5\n",
      "\u001b[1m704/704\u001b[0m \u001b[32m━━━━━━━━━━━━━━━━━━━━\u001b[0m\u001b[37m\u001b[0m \u001b[1m9s\u001b[0m 5ms/step - kaehler_loss: 0.0045 - loss: 0.1757 - ricci_loss: 0.0000e+00 - sigma_loss: 0.1646 - transition_loss: 0.0067 - volk_loss: 0.0000e+00\n",
      "\u001b[1m704/704\u001b[0m \u001b[32m━━━━━━━━━━━━━━━━━━━━\u001b[0m\u001b[37m\u001b[0m \u001b[1m9s\u001b[0m 5ms/step - kaehler_loss: 0.0045 - loss: 0.1757 - ricci_loss: 0.0000e+00 - sigma_loss: 0.1646 - transition_loss: 0.0067 - volk_loss: 0.0000e+00\n",
      "\u001b[1m5/5\u001b[0m \u001b[32m━━━━━━━━━━━━━━━━━━━━\u001b[0m\u001b[37m\u001b[0m \u001b[1m0s\u001b[0m 163ms/step - kaehler_loss: 0.0036 - loss: 0.1477 - ricci_loss: 0.0000e+00 - sigma_loss: 0.1336 - transition_loss: 0.0104 - volk_loss: 0.0000e+00 - Sigma measure val:      0.1299\n",
      " - Sigma measure val:      0.1299\n",
      " - Kaehler measure val:    0.0039\n",
      " - Transition measure val: 0.0105\n",
      " - Kaehler measure val:    0.0039\n",
      " - Transition measure val: 0.0105\n",
      " - Volk val:               4.8060\n",
      " - Volk val:               4.8060\n",
      " - Ricci measure val:      1.8784\n",
      "\u001b[1m5/5\u001b[0m \u001b[32m━━━━━━━━━━━━━━━━━━━━\u001b[0m\u001b[37m\u001b[0m \u001b[1m4s\u001b[0m 832ms/step - kaehler_loss: 0.0036 - loss: 0.1470 - ricci_loss: 0.0000e+00 - sigma_loss: 0.1330 - transition_loss: 0.0104 - volk_loss: 0.0000e+00 - sigma_val: 0.1299 - kaehler_val: 0.0039 - transition_val: 0.0105 - volk_val: 4.8060 - ricci_val: 1.8784\n",
      " - Ricci measure val:      1.8784\n",
      "\u001b[1m5/5\u001b[0m \u001b[32m━━━━━━━━━━━━━━━━━━━━\u001b[0m\u001b[37m\u001b[0m \u001b[1m4s\u001b[0m 832ms/step - kaehler_loss: 0.0036 - loss: 0.1470 - ricci_loss: 0.0000e+00 - sigma_loss: 0.1330 - transition_loss: 0.0104 - volk_loss: 0.0000e+00 - sigma_val: 0.1299 - kaehler_val: 0.0039 - transition_val: 0.0105 - volk_val: 4.8060 - ricci_val: 1.8784\n",
      "\n",
      "Epoch  2/5\n",
      "\u001b[1m  1/704\u001b[0m \u001b[37m━━━━━━━━━━━━━━━━━━━━\u001b[0m \u001b[1m7s\u001b[0m 11ms/step - kaehler_loss: 0.0036 - loss: 0.1398 - ricci_loss: 0.0000e+00 - sigma_loss: 0.1257 - transition_loss: 0.0105 - volk_loss: 0.0000e+00\n",
      "Epoch  2/5\n",
      "\u001b[1m704/704\u001b[0m \u001b[32m━━━━━━━━━━━━━━━━━━━━\u001b[0m\u001b[37m\u001b[0m \u001b[1m3s\u001b[0m 4ms/step - kaehler_loss: 0.0038 - loss: 0.1461 - ricci_loss: 0.0000e+00 - sigma_loss: 0.1322 - transition_loss: 0.0101 - volk_loss: 0.0000e+00\n",
      "\u001b[1m704/704\u001b[0m \u001b[32m━━━━━━━━━━━━━━━━━━━━\u001b[0m\u001b[37m\u001b[0m \u001b[1m3s\u001b[0m 4ms/step - kaehler_loss: 0.0038 - loss: 0.1461 - ricci_loss: 0.0000e+00 - sigma_loss: 0.1322 - transition_loss: 0.0101 - volk_loss: 0.0000e+00\n",
      "\u001b[1m5/5\u001b[0m \u001b[32m━━━━━━━━━━━━━━━━━━━━\u001b[0m\u001b[37m\u001b[0m \u001b[1m0s\u001b[0m 159ms/step - kaehler_loss: 0.0036 - loss: 0.1430 - ricci_loss: 0.0000e+00 - sigma_loss: 0.1299 - transition_loss: 0.0095 - volk_loss: 0.0000e+00 - Sigma measure val:      0.1245\n",
      " - Kaehler measure val:    0.0034\n",
      " - Transition measure val: 0.0094\n",
      " - Sigma measure val:      0.1245\n",
      " - Kaehler measure val:    0.0034\n",
      " - Transition measure val: 0.0094\n",
      " - Volk val:               4.7505\n",
      " - Volk val:               4.7505\n",
      " - Ricci measure val:      1.7924\n",
      "\u001b[1m5/5\u001b[0m \u001b[32m━━━━━━━━━━━━━━━━━━━━\u001b[0m\u001b[37m\u001b[0m \u001b[1m1s\u001b[0m 219ms/step - kaehler_loss: 0.0036 - loss: 0.1419 - ricci_loss: 0.0000e+00 - sigma_loss: 0.1289 - transition_loss: 0.0095 - volk_loss: 0.0000e+00 - sigma_val: 0.1245 - kaehler_val: 0.0034 - transition_val: 0.0094 - volk_val: 4.7505 - ricci_val: 1.7924\n",
      " - Ricci measure val:      1.7924\n",
      "\u001b[1m5/5\u001b[0m \u001b[32m━━━━━━━━━━━━━━━━━━━━\u001b[0m\u001b[37m\u001b[0m \u001b[1m1s\u001b[0m 219ms/step - kaehler_loss: 0.0036 - loss: 0.1419 - ricci_loss: 0.0000e+00 - sigma_loss: 0.1289 - transition_loss: 0.0095 - volk_loss: 0.0000e+00 - sigma_val: 0.1245 - kaehler_val: 0.0034 - transition_val: 0.0094 - volk_val: 4.7505 - ricci_val: 1.7924\n",
      "\n",
      "Epoch  3/5\n",
      "\u001b[1m  1/704\u001b[0m \u001b[37m━━━━━━━━━━━━━━━━━━━━\u001b[0m \u001b[1m8s\u001b[0m 12ms/step - kaehler_loss: 0.0035 - loss: 0.1456 - ricci_loss: 0.0000e+00 - sigma_loss: 0.1323 - transition_loss: 0.0097 - volk_loss: 0.0000e+00\n",
      "Epoch  3/5\n",
      "\u001b[1m704/704\u001b[0m \u001b[32m━━━━━━━━━━━━━━━━━━━━\u001b[0m\u001b[37m\u001b[0m \u001b[1m3s\u001b[0m 5ms/step - kaehler_loss: 0.0040 - loss: 0.1411 - ricci_loss: 0.0000e+00 - sigma_loss: 0.1286 - transition_loss: 0.0085 - volk_loss: 0.0000e+00\n",
      "\u001b[1m704/704\u001b[0m \u001b[32m━━━━━━━━━━━━━━━━━━━━\u001b[0m\u001b[37m\u001b[0m \u001b[1m3s\u001b[0m 5ms/step - kaehler_loss: 0.0040 - loss: 0.1411 - ricci_loss: 0.0000e+00 - sigma_loss: 0.1286 - transition_loss: 0.0085 - volk_loss: 0.0000e+00\n",
      "\u001b[1m5/5\u001b[0m \u001b[32m━━━━━━━━━━━━━━━━━━━━\u001b[0m\u001b[37m\u001b[0m \u001b[1m0s\u001b[0m 160ms/step - kaehler_loss: 0.0043 - loss: 0.1336 - ricci_loss: 0.0000e+00 - sigma_loss: 0.1215 - transition_loss: 0.0078 - volk_loss: 0.0000e+00 - Sigma measure val:      0.1217\n",
      " - Kaehler measure val:    0.0043\n",
      " - Sigma measure val:      0.1217\n",
      " - Kaehler measure val:    0.0043\n",
      " - Transition measure val: 0.0077\n",
      " - Volk val:               4.7940\n",
      " - Transition measure val: 0.0077\n",
      " - Volk val:               4.7940\n",
      " - Ricci measure val:      1.7911\n",
      "\u001b[1m5/5\u001b[0m \u001b[32m━━━━━━━━━━━━━━━━━━━━\u001b[0m\u001b[37m\u001b[0m \u001b[1m1s\u001b[0m 218ms/step - kaehler_loss: 0.0043 - loss: 0.1334 - ricci_loss: 0.0000e+00 - sigma_loss: 0.1214 - transition_loss: 0.0077 - volk_loss: 0.0000e+00 - sigma_val: 0.1217 - kaehler_val: 0.0043 - transition_val: 0.0077 - volk_val: 4.7940 - ricci_val: 1.7911\n",
      " - Ricci measure val:      1.7911\n",
      "\u001b[1m5/5\u001b[0m \u001b[32m━━━━━━━━━━━━━━━━━━━━\u001b[0m\u001b[37m\u001b[0m \u001b[1m1s\u001b[0m 218ms/step - kaehler_loss: 0.0043 - loss: 0.1334 - ricci_loss: 0.0000e+00 - sigma_loss: 0.1214 - transition_loss: 0.0077 - volk_loss: 0.0000e+00 - sigma_val: 0.1217 - kaehler_val: 0.0043 - transition_val: 0.0077 - volk_val: 4.7940 - ricci_val: 1.7911\n",
      "\n",
      "Epoch  4/5\n",
      "\u001b[1m  1/704\u001b[0m \u001b[37m━━━━━━━━━━━━━━━━━━━━\u001b[0m \u001b[1m8s\u001b[0m 12ms/step - kaehler_loss: 0.0051 - loss: 0.1452 - ricci_loss: 0.0000e+00 - sigma_loss: 0.1323 - transition_loss: 0.0078 - volk_loss: 0.0000e+00\n",
      "Epoch  4/5\n",
      "\u001b[1m 34/704\u001b[0m \u001b[37m━━━━━━━━━━━━━━━━━━━━\u001b[0m \u001b[1m3s\u001b[0m 5ms/step - kaehler_loss: 0.0041 - loss: 0.1352 - ricci_loss: 0.0000e+00 - sigma_loss: 0.1236 - transition_loss: 0.0075 - volk_loss: 0.0000e+00"
     ]
    },
    {
     "name": "stderr",
     "output_type": "stream",
     "text": [
      "2025-07-17 18:21:17.077606: I tensorflow/core/framework/local_rendezvous.cc:407] Local rendezvous is aborting with status: OUT_OF_RANGE: End of sequence\n"
     ]
    },
    {
     "name": "stdout",
     "output_type": "stream",
     "text": [
      "\u001b[1m704/704\u001b[0m \u001b[32m━━━━━━━━━━━━━━━━━━━━\u001b[0m\u001b[37m\u001b[0m \u001b[1m3s\u001b[0m 4ms/step - kaehler_loss: 0.0047 - loss: 0.1329 - ricci_loss: 0.0000e+00 - sigma_loss: 0.1223 - transition_loss: 0.0059 - volk_loss: 0.0000e+00\n",
      "\u001b[1m704/704\u001b[0m \u001b[32m━━━━━━━━━━━━━━━━━━━━\u001b[0m\u001b[37m\u001b[0m \u001b[1m3s\u001b[0m 4ms/step - kaehler_loss: 0.0047 - loss: 0.1329 - ricci_loss: 0.0000e+00 - sigma_loss: 0.1223 - transition_loss: 0.0059 - volk_loss: 0.0000e+00\n",
      "\u001b[1m5/5\u001b[0m \u001b[32m━━━━━━━━━━━━━━━━━━━━\u001b[0m\u001b[37m\u001b[0m \u001b[1m0s\u001b[0m 162ms/step - kaehler_loss: 0.0049 - loss: 0.1272 - ricci_loss: 0.0000e+00 - sigma_loss: 0.1180 - transition_loss: 0.0043 - volk_loss: 0.0000e+00 - Sigma measure val:      0.1174\n",
      " - Kaehler measure val:    0.0049\n",
      " - Sigma measure val:      0.1174\n",
      " - Kaehler measure val:    0.0049\n",
      " - Transition measure val: 0.0043\n",
      " - Volk val:               4.7018\n",
      " - Transition measure val: 0.0043\n",
      " - Volk val:               4.7018\n",
      " - Ricci measure val:      1.4790\n",
      "\u001b[1m5/5\u001b[0m \u001b[32m━━━━━━━━━━━━━━━━━━━━\u001b[0m\u001b[37m\u001b[0m \u001b[1m1s\u001b[0m 225ms/step - kaehler_loss: 0.0049 - loss: 0.1269 - ricci_loss: 0.0000e+00 - sigma_loss: 0.1177 - transition_loss: 0.0043 - volk_loss: 0.0000e+00 - sigma_val: 0.1174 - kaehler_val: 0.0049 - transition_val: 0.0043 - volk_val: 4.7018 - ricci_val: 1.4790\n",
      " - Ricci measure val:      1.4790\n",
      "\u001b[1m5/5\u001b[0m \u001b[32m━━━━━━━━━━━━━━━━━━━━\u001b[0m\u001b[37m\u001b[0m \u001b[1m1s\u001b[0m 225ms/step - kaehler_loss: 0.0049 - loss: 0.1269 - ricci_loss: 0.0000e+00 - sigma_loss: 0.1177 - transition_loss: 0.0043 - volk_loss: 0.0000e+00 - sigma_val: 0.1174 - kaehler_val: 0.0049 - transition_val: 0.0043 - volk_val: 4.7018 - ricci_val: 1.4790\n",
      "\n",
      "Epoch  5/5\n",
      "\u001b[1m  1/704\u001b[0m \u001b[37m━━━━━━━━━━━━━━━━━━━━\u001b[0m \u001b[1m8s\u001b[0m 12ms/step - kaehler_loss: 0.0059 - loss: 0.1276 - ricci_loss: 0.0000e+00 - sigma_loss: 0.1171 - transition_loss: 0.0046 - volk_loss: 0.0000e+00\n",
      "Epoch  5/5\n",
      "\u001b[1m704/704\u001b[0m \u001b[32m━━━━━━━━━━━━━━━━━━━━\u001b[0m\u001b[37m\u001b[0m \u001b[1m3s\u001b[0m 4ms/step - kaehler_loss: 0.0059 - loss: 0.1239 - ricci_loss: 0.0000e+00 - sigma_loss: 0.1143 - transition_loss: 0.0037 - volk_loss: 0.0000e+00\n",
      "\u001b[1m704/704\u001b[0m \u001b[32m━━━━━━━━━━━━━━━━━━━━\u001b[0m\u001b[37m\u001b[0m \u001b[1m3s\u001b[0m 4ms/step - kaehler_loss: 0.0059 - loss: 0.1239 - ricci_loss: 0.0000e+00 - sigma_loss: 0.1143 - transition_loss: 0.0037 - volk_loss: 0.0000e+00\n",
      "\u001b[1m5/5\u001b[0m \u001b[32m━━━━━━━━━━━━━━━━━━━━\u001b[0m\u001b[37m\u001b[0m \u001b[1m0s\u001b[0m 162ms/step - kaehler_loss: 0.0063 - loss: 0.1213 - ricci_loss: 0.0000e+00 - sigma_loss: 0.1116 - transition_loss: 0.0033 - volk_loss: 0.0000e+00 - Sigma measure val:      0.1125\n",
      " - Kaehler measure val:    0.0062\n",
      " - Transition measure val: 0.0033\n",
      " - Sigma measure val:      0.1125\n",
      " - Kaehler measure val:    0.0062\n",
      " - Transition measure val: 0.0033\n",
      " - Volk val:               4.8185\n",
      " - Volk val:               4.8185\n",
      " - Ricci measure val:      1.2883\n",
      "\u001b[1m5/5\u001b[0m \u001b[32m━━━━━━━━━━━━━━━━━━━━\u001b[0m\u001b[37m\u001b[0m \u001b[1m1s\u001b[0m 220ms/step - kaehler_loss: 0.0063 - loss: 0.1204 - ricci_loss: 0.0000e+00 - sigma_loss: 0.1108 - transition_loss: 0.0033 - volk_loss: 0.0000e+00 - sigma_val: 0.1125 - kaehler_val: 0.0062 - transition_val: 0.0033 - volk_val: 4.8185 - ricci_val: 1.2883\n",
      " - Ricci measure val:      1.2883\n",
      "\u001b[1m5/5\u001b[0m \u001b[32m━━━━━━━━━━━━━━━━━━━━\u001b[0m\u001b[37m\u001b[0m \u001b[1m1s\u001b[0m 220ms/step - kaehler_loss: 0.0063 - loss: 0.1204 - ricci_loss: 0.0000e+00 - sigma_loss: 0.1108 - transition_loss: 0.0033 - volk_loss: 0.0000e+00 - sigma_val: 0.1125 - kaehler_val: 0.0062 - transition_val: 0.0033 - volk_val: 4.8185 - ricci_val: 1.2883\n"
     ]
    },
    {
     "data": {
      "image/png": "[encoded data removed]",
      "text/plain": [
       "<Figure size 640x480 with 1 Axes>"
      ]
     },
     "metadata": {},
     "output_type": "display_data"
    }
   ],
   "source": [
    "# train the model\n",
    "trained_model, history = train_model(\n",
    "        model, data, optimizer=optimizer, epochs=5, callbacks=cb_list\n",
    "    )\n",
    "\n",
    "# Plot the results\n",
    "for k, v in history.items():\n",
    "    if k != 'epochs':\n",
    "        sns.lineplot(history, x='epochs', y=v, label=k)"
   ]
  }
 ],
 "metadata": {
  "kernelspec": {
   "display_name": ".venv",
   "language": "python",
   "name": "python3"
  },
  "language_info": {
   "codemirror_mode": {
    "name": "ipython",
    "version": 3
   },
   "file_extension": ".py",
   "mimetype": "text/x-python",
   "name": "python",
   "nbconvert_exporter": "python",
   "pygments_lexer": "ipython3",
   "version": "3.11.12"
  }
 },
 "nbformat": 4,
 "nbformat_minor": 5
}
