{
 "cells": [
  {
   "cell_type": "markdown",
   "metadata": {},
   "source": [
    "# Example: Random KS model (we just take any with Picard Rank 2)"
   ]
  },
  {
   "cell_type": "code",
   "execution_count": null,
   "metadata": {},
   "outputs": [],
   "source": [
    "# some general packages\n",
    "import numpy as np\n",
    "import os\n",
    "import pickle\n",
    "\n",
    "# ML packages\n",
    "import tensorflow as tf\n",
    "\n",
    "# data generation\n",
    "from cymetric.pointgen.pointgen_mathematica import ToricPointGeneratorMathematica\n",
    "from cymetric.pointgen.nphelper import prepare_dataset, prepare_basis_pickle\n",
    "from cymetric.models.helper import prepare_basis, train_model\n",
    "\n",
    "# training\n",
    "from cymetric.models.models import PhiFSModelToric\n",
    "from cymetric.models.callbacks import SigmaCallback, TransitionCallback, RicciCallback, VolkCallback\n",
    "from cymetric.models.measures import sigma_measure, transition_measure_loss, ricci_measure"
   ]
  },
  {
   "cell_type": "markdown",
   "metadata": {},
   "source": [
    "## Compute toric information"
   ]
  },
  {
   "cell_type": "code",
   "execution_count": 2,
   "metadata": {},
   "outputs": [
    {
     "data": {
      "text/plain": [
       "['dim_cy',\n",
       " 'vol_j_norm',\n",
       " 'coeff_aK',\n",
       " 'exp_aK',\n",
       " 'exps_sections',\n",
       " 'patch_masks',\n",
       " 'glsm_charges',\n",
       " 'non_ci_coeffs',\n",
       " 'non_ci_exps',\n",
       " 'int_nums']"
      ]
     },
     "execution_count": 2,
     "metadata": {},
     "output_type": "execute_result"
    }
   ],
   "source": [
    "from cymetric.sage.sagelib import prepare_toric_cy_data\n",
    "\n",
    "work_dir = \"./ToricModel\"\n",
    "vertices = [[1, 0, 0, 0], [0, 1, 0, 0], [0, 0, 1, 0], [0, 0, 0, 1], [-1, -1, -1, 0], [2, 0, 0, -1]]  # P1 fibered over P3\n",
    "polytope = LatticePolytope(vertices)\n",
    "pConfig = PointConfiguration(polytope.points(), star=[0 for _ in range(len(vertices[0]))])\n",
    "try:  # fails if TOPCOM is not installed. In that case, we omit the (actually important) regularity check\n",
    "    triangs = pConfig.restrict_to_connected_triangulations().restrict_to_fine_triangulations().restrict_to_regular_triangulations().restrict_to_star_triangulations([0 for _ in range(len(vertices[0]))]).triangulations_list()\n",
    "except:\n",
    "    triangs = pConfig.restrict_to_connected_triangulations().restrict_to_fine_triangulations().restrict_to_star_triangulations([0 for _ in range(len(vertices[0]))]).triangulations_list()\n",
    "triang = triangs[0]\n",
    "tv_fan = triang.fan()\n",
    "tv = ToricVariety(tv_fan)\n",
    "\n",
    "toric_data = prepare_toric_cy_data(tv, os.path.join(work_dir, \"toric_data.pickle\"))\n",
    "list(toric_data.keys())"
   ]
  },
  {
   "cell_type": "code",
   "execution_count": 4,
   "metadata": {},
   "outputs": [
    {
     "data": {
      "text/plain": [
       "(P(-1, -1, -1, 0),\n",
       " P(0, 0, 0, 1),\n",
       " P(0, 0, 1, 0),\n",
       " P(0, 1, 0, 0),\n",
       " P(2, 0, 0, -1),\n",
       " P(1, 0, 0, 0),\n",
       " P(0, 0, 0, 0))"
      ]
     },
     "execution_count": 4,
     "metadata": {},
     "output_type": "execute_result"
    }
   ],
   "source": [
    "pConfig.points()"
   ]
  },
  {
   "cell_type": "code",
   "execution_count": 3,
   "metadata": {},
   "outputs": [
    {
     "data": {
      "text/plain": [
       "Ideal (z1*z4, z0*z2*z3*z5) of Multivariate Polynomial Ring in z0, z1, z2, z3, z4, z5 over Rational Field"
      ]
     },
     "execution_count": 3,
     "metadata": {},
     "output_type": "execute_result"
    }
   ],
   "source": [
    "tv.Stanley_Reisner_ideal()"
   ]
  },
  {
   "cell_type": "markdown",
   "metadata": {},
   "source": [
    "## Generate points"
   ]
  },
  {
   "cell_type": "code",
   "execution_count": 4,
   "metadata": {},
   "outputs": [],
   "source": [
    "work_dir = \"./ToricModel\"\n",
    "with open(os.path.join(work_dir, 'toric_data.pickle'), 'rb') as f:\n",
    "    toric_data = pickle.load(f)\n",
    "num_pts       = int(50000)\n",
    "precision     = int(10)\n",
    "verbose       = int(1)\n",
    "kmoduli       = np.ones(len(toric_data['exps_sections']))"
   ]
  },
  {
   "cell_type": "code",
   "execution_count": 5,
   "metadata": {},
   "outputs": [],
   "source": [
    "mathematica_pointgen = ToricPointGeneratorMathematica(toric_data, kmoduli, precision=precision, verbose=verbose)"
   ]
  },
  {
   "cell_type": "code",
   "execution_count": 5,
   "metadata": {},
   "outputs": [
    {
     "name": "stderr",
     "output_type": "stream",
     "text": [
      "WolframKernel-<tcp://127.0.0.1:51037>:INFO:Connected to logging socket: tcp://127.0.0.1:51037\n",
      "WolframKernel-<tcp://127.0.0.1:51037>:DEBUG:Evaluating a new expression.\n",
      "pointgenMathematica:DEBUG:Running with 10 Mathematica kernels.\n",
      "pointgenMathematica:DEBUG:Initializing generation of 50000 points...\n",
      "WolframKernel-<tcp://127.0.0.1:51037>:INFO:Number of points on CY from one ambient space intersection: 3\n",
      "WolframKernel-<tcp://127.0.0.1:51037>:INFO:Now generating 50000 points...\n",
      "WolframKernel-<tcp://127.0.0.1:51037>:INFO:Generated 0% of points\n",
      "WolframKernel-<tcp://127.0.0.1:51037>:INFO:Generated 5% of points\n",
      "WolframKernel-<tcp://127.0.0.1:51037>:INFO:Generated 10% of points\n",
      "WolframKernel-<tcp://127.0.0.1:51037>:INFO:Generated 15% of points\n",
      "WolframKernel-<tcp://127.0.0.1:51037>:INFO:Generated 20% of points\n",
      "WolframKernel-<tcp://127.0.0.1:51037>:INFO:Generated 25% of points\n",
      "WolframKernel-<tcp://127.0.0.1:51037>:INFO:Generated 30% of points\n",
      "WolframKernel-<tcp://127.0.0.1:51037>:INFO:Generated 35% of points\n",
      "WolframKernel-<tcp://127.0.0.1:51037>:INFO:Generated 40% of points\n",
      "WolframKernel-<tcp://127.0.0.1:51037>:INFO:Generated 45% of points\n",
      "WolframKernel-<tcp://127.0.0.1:51037>:INFO:Generated 50% of points\n",
      "WolframKernel-<tcp://127.0.0.1:51037>:INFO:Generated 55% of points\n",
      "WolframKernel-<tcp://127.0.0.1:51037>:INFO:Generated 60% of points\n",
      "WolframKernel-<tcp://127.0.0.1:51037>:INFO:Generated 65% of points\n",
      "WolframKernel-<tcp://127.0.0.1:51037>:INFO:Generated 70% of points\n",
      "WolframKernel-<tcp://127.0.0.1:51037>:INFO:Generated 75% of points\n",
      "WolframKernel-<tcp://127.0.0.1:51037>:INFO:Generated 80% of points\n",
      "WolframKernel-<tcp://127.0.0.1:51037>:INFO:Generated 85% of points\n",
      "WolframKernel-<tcp://127.0.0.1:51037>:INFO:Generated 90% of points\n",
      "WolframKernel-<tcp://127.0.0.1:51037>:INFO:Generated 95% of points\n",
      "WolframKernel-<tcp://127.0.0.1:51037>:INFO:done.\n",
      "/Users/ruehle/venv-ml/lib/python3.8/site-packages/numpy/linalg/linalg.py:2146: RuntimeWarning: divide by zero encountered in det\n",
      "  r = _umath_linalg.det(a, signature=signature)\n",
      "/Users/ruehle/venv-ml/lib/python3.8/site-packages/numpy/linalg/linalg.py:2146: RuntimeWarning: invalid value encountered in det\n",
      "  r = _umath_linalg.det(a, signature=signature)\n"
     ]
    }
   ],
   "source": [
    "kappa = mathematica_pointgen.prepare_dataset(num_pts, work_dir)\n",
    "prepare_basis_pickle(mathematica_pointgen, work_dir, kappa);"
   ]
  },
  {
   "cell_type": "markdown",
   "metadata": {},
   "source": [
    "## set up NN"
   ]
  },
  {
   "cell_type": "markdown",
   "metadata": {},
   "source": [
    "load in data"
   ]
  },
  {
   "cell_type": "code",
   "execution_count": 6,
   "metadata": {},
   "outputs": [],
   "source": [
    "tf.get_logger().setLevel('ERROR')\n",
    "data = np.load(os.path.join(work_dir, 'dataset.npz'))\n",
    "toric_data = np.load(os.path.join(work_dir, 'toric_data.pickle'), allow_pickle=True)\n",
    "BASIS = prepare_tf_basis(np.load(os.path.join(work_dir, 'basis.pickle'), allow_pickle=True))"
   ]
  },
  {
   "cell_type": "markdown",
   "metadata": {},
   "source": [
    "set up NN callbacks (info on training process)"
   ]
  },
  {
   "cell_type": "code",
   "execution_count": null,
   "metadata": {},
   "outputs": [],
   "source": [
    "scb = SigmaCallback((data['X_val'], data['y_val']))\n",
    "rcb = RicciCallback((data['X_val'], data['y_val']), data['val_pullbacks'])\n",
    "volkck = VolkCallback((data['X_val'], data['y_val']))\n",
    "cb_list = [scb, volkck, rcb]"
   ]
  },
  {
   "cell_type": "markdown",
   "metadata": {},
   "source": [
    "define the NN hyperparameters (wrapping everything in int() and float() is necessary in sage)"
   ]
  },
  {
   "cell_type": "code",
   "execution_count": 8,
   "metadata": {},
   "outputs": [],
   "source": [
    "nfold       = int(BASIS['NFOLD'].numpy().real)\n",
    "amb         = [int(6)]\n",
    "n_in        = int(12)\n",
    "n_out       = int(1)\n",
    "n_hiddens   = [int(128), int(128), int(128)]\n",
    "acts        = ['gelu', 'gelu', 'gelu']\n",
    "n_epochs    = int(30)\n",
    "batch_sizes = [int(128), int(50000)]\n",
    "alpha       = [float(1.), float(1.), float(0.), float(1.), float(1.)]"
   ]
  },
  {
   "cell_type": "markdown",
   "metadata": {},
   "source": [
    "initialize the NN and the Toric Phi Model"
   ]
  },
  {
   "cell_type": "code",
   "execution_count": 9,
   "metadata": {},
   "outputs": [],
   "source": [
    "model = tf.keras.Sequential()\n",
    "model.add(tf.keras.Input(shape=(int(n_in))))\n",
    "for n_hidden, act in zip(n_hiddens, acts):\n",
    "    model.add(tf.keras.layers.Dense(n_hidden, activation=act))\n",
    "model.add(tf.keras.layers.Dense(n_out, use_bias=False))\n",
    "\n",
    "fs_model = PhiFSModelToric(model, BASIS, alpha=alpha, toric_data=toric_data)\n",
    "fs_model.learn_transition = tf.cast(False, dtype=tf.bool)"
   ]
  },
  {
   "cell_type": "code",
   "execution_count": 22,
   "metadata": {},
   "outputs": [
    {
     "name": "stdout",
     "output_type": "stream",
     "text": [
      "(19.985407-4.122946e-10j)\n"
     ]
    }
   ],
   "source": [
    "pts = tf.cast(data['X_train'], dtype=tf.float32)\n",
    "gfs = fs_model.fubini_study_pb(pts)\n",
    "vol = tf.reduce_mean(tf.linalg.det(gfs) * data['y_train'][:,0]/data['y_train'][:,1]).numpy()\n",
    "print(vol)"
   ]
  },
  {
   "cell_type": "markdown",
   "metadata": {},
   "source": [
    "## train NN"
   ]
  },
  {
   "cell_type": "code",
   "execution_count": null,
   "metadata": {
    "scrolled": true
   },
   "outputs": [
    {
     "name": "stdout",
     "output_type": "stream",
     "text": [
      "\n",
      "Epoch  1/30\n"
     ]
    },
    {
     "name": "stderr",
     "output_type": "stream",
     "text": [
      "2022-05-10 16:21:28.944752: W tensorflow/core/platform/profile_utils/cpu_utils.cc:128] Failed to get CPU frequency: 0 Hz\n"
     ]
    },
    {
     "name": "stdout",
     "output_type": "stream",
     "text": [
      " - Sigma measure val:      0.4367\n",
      " - Volk val:               18.9440\n",
      " - Ricci measure val:      6.7685\n",
      "351/352 [============================>.] - ETA: 0s - sigma_loss: 0.3576 - volk_loss: 0.0000e+00 - Sigma measure val:      0.3950\n",
      " - Volk val:               13.6917\n",
      " - Ricci measure val:      16.2023\n",
      "352/352 [==============================] - 31s 78ms/step - sigma_loss: 0.3576 - volk_loss: 0.0000e+00 - sigma_val: 0.3950 - volk_val: 13.6917 - ricci_val: 16.2023\n",
      " - Sigma measure val:      0.3950\n",
      " - Volk val:               13.6917\n",
      " - Ricci measure val:      16.2023\n",
      "1/1 [==============================] - ETA: 0s - sigma_loss: 0.3304 - volk_loss: 2.2017 - Sigma measure val:      0.3931\n",
      " - Volk val:               13.9533\n",
      " - Ricci measure val:      8.1131\n",
      "1/1 [==============================] - 22s 22s/step - sigma_loss: 0.3304 - volk_loss: 2.2017 - sigma_val: 0.3931 - volk_val: 13.9533 - ricci_val: 8.1131\n",
      "\n",
      "Epoch  2/30\n",
      " - Sigma measure val:      0.3931\n",
      " - Volk val:               13.9533\n",
      " - Ricci measure val:      8.1131\n",
      "351/352 [============================>.] - ETA: 0s - sigma_loss: 0.3175 - volk_loss: 0.0000e+00 - Sigma measure val:      0.3694\n",
      " - Volk val:               14.7111\n",
      " - Ricci measure val:      15.5551\n",
      "352/352 [==============================] - 21s 50ms/step - sigma_loss: 0.3174 - volk_loss: 0.0000e+00 - sigma_val: 0.3694 - volk_val: 14.7111 - ricci_val: 15.5551\n",
      " - Sigma measure val:      0.3694\n",
      " - Volk val:               14.7111\n",
      " - Ricci measure val:      15.5551\n",
      "1/1 [==============================] - ETA: 0s - sigma_loss: 0.3018 - volk_loss: 1.8068 - Sigma measure val:      0.3701\n",
      " - Volk val:               15.3472\n",
      " - Ricci measure val:      9.1207\n",
      "1/1 [==============================] - 20s 20s/step - sigma_loss: 0.3018 - volk_loss: 1.8068 - sigma_val: 0.3701 - volk_val: 15.3472 - ricci_val: 9.1207\n",
      "\n",
      "Epoch  3/30\n",
      " - Sigma measure val:      0.3701\n",
      " - Volk val:               15.3472\n",
      " - Ricci measure val:      9.1207\n",
      "352/352 [==============================] - ETA: 0s - sigma_loss: 0.3003 - volk_loss: 0.0000e+00 - Sigma measure val:      0.3529\n",
      " - Volk val:               15.7669\n",
      " - Ricci measure val:      395.0015\n",
      "352/352 [==============================] - 19s 50ms/step - sigma_loss: 0.3003 - volk_loss: 0.0000e+00 - sigma_val: 0.3529 - volk_val: 15.7669 - ricci_val: 395.0015\n",
      " - Sigma measure val:      0.3529\n",
      " - Volk val:               15.7669\n",
      " - Ricci measure val:      395.0015\n",
      "1/1 [==============================] - ETA: 0s - sigma_loss: 0.2880 - volk_loss: 1.4551 - Sigma measure val:      0.3533\n",
      " - Volk val:               16.2097\n",
      " - Ricci measure val:      -1.3031e+04\n",
      "1/1 [==============================] - 20s 20s/step - sigma_loss: 0.2880 - volk_loss: 1.4551 - sigma_val: 0.3533 - volk_val: 16.2097 - ricci_val: -13030.8252\n",
      "\n",
      "Epoch  4/30\n",
      " - Sigma measure val:      0.3533\n",
      " - Volk val:               16.2097\n",
      " - Ricci measure val:      -1.3031e+04\n",
      "352/352 [==============================] - ETA: 0s - sigma_loss: 0.2886 - volk_loss: 0.0000e+00 - Sigma measure val:      0.3472\n",
      " - Volk val:               15.7219\n",
      " - Ricci measure val:      136.2056\n",
      "352/352 [==============================] - 18s 47ms/step - sigma_loss: 0.2886 - volk_loss: 0.0000e+00 - sigma_val: 0.3472 - volk_val: 15.7219 - ricci_val: 136.2056\n",
      " - Sigma measure val:      0.3472\n",
      " - Volk val:               15.7219\n",
      " - Ricci measure val:      136.2056\n",
      "1/1 [==============================] - ETA: 0s - sigma_loss: 0.2778 - volk_loss: 1.4344 - Sigma measure val:      0.3466\n",
      " - Volk val:               16.1348\n",
      " - Ricci measure val:      46.6966\n",
      "1/1 [==============================] - 21s 21s/step - sigma_loss: 0.2778 - volk_loss: 1.4344 - sigma_val: 0.3466 - volk_val: 16.1348 - ricci_val: 46.6966\n",
      "\n",
      "Epoch  5/30\n",
      " - Sigma measure val:      0.3466\n",
      " - Volk val:               16.1348\n",
      " - Ricci measure val:      46.6967\n",
      "351/352 [============================>.] - ETA: 0s - sigma_loss: 0.2765 - volk_loss: 0.0000e+00 - Sigma measure val:      0.3323\n",
      " - Volk val:               16.7674\n",
      " - Ricci measure val:      -7.1641e+01\n",
      "352/352 [==============================] - 18s 45ms/step - sigma_loss: 0.2765 - volk_loss: 0.0000e+00 - sigma_val: 0.3323 - volk_val: 16.7674 - ricci_val: -71.6412\n",
      " - Sigma measure val:      0.3323\n",
      " - Volk val:               16.7674\n",
      " - Ricci measure val:      -7.1641e+01\n",
      "1/1 [==============================] - ETA: 0s - sigma_loss: 0.2704 - volk_loss: 1.1170 - Sigma measure val:      0.3323\n",
      " - Volk val:               16.9709\n",
      " - Ricci measure val:      23.6216\n",
      "1/1 [==============================] - 20s 20s/step - sigma_loss: 0.2704 - volk_loss: 1.1170 - sigma_val: 0.3323 - volk_val: 16.9709 - ricci_val: 23.6216\n",
      "\n",
      "Epoch  6/30\n",
      " - Sigma measure val:      0.3323\n",
      " - Volk val:               16.9709\n",
      " - Ricci measure val:      23.6216\n",
      "351/352 [============================>.] - ETA: 0s - sigma_loss: 0.2616 - volk_loss: 0.0000e+00 - Sigma measure val:      0.3248\n",
      " - Volk val:               16.4337\n",
      " - Ricci measure val:      4.6352\n",
      "352/352 [==============================] - 19s 49ms/step - sigma_loss: 0.2616 - volk_loss: 0.0000e+00 - sigma_val: 0.3248 - volk_val: 16.4337 - ricci_val: 4.6352\n",
      " - Sigma measure val:      0.3248\n",
      " - Volk val:               16.4337\n",
      " - Ricci measure val:      4.6352\n",
      "1/1 [==============================] - ETA: 0s - sigma_loss: 0.2543 - volk_loss: 1.2250 - Sigma measure val:      0.3251\n",
      " - Volk val:               16.7401\n",
      " - Ricci measure val:      3.6257\n",
      "1/1 [==============================] - 20s 20s/step - sigma_loss: 0.2543 - volk_loss: 1.2250 - sigma_val: 0.3251 - volk_val: 16.7401 - ricci_val: 3.6257\n",
      "\n",
      "Epoch  7/30\n",
      " - Sigma measure val:      0.3251\n",
      " - Volk val:               16.7401\n",
      " - Ricci measure val:      3.6257\n",
      "351/352 [============================>.] - ETA: 0s - sigma_loss: 0.2501 - volk_loss: 0.0000e+00 - Sigma measure val:      0.3065\n",
      " - Volk val:               16.8366\n",
      " - Ricci measure val:      -1.0434e+00\n",
      "352/352 [==============================] - 20s 50ms/step - sigma_loss: 0.2501 - volk_loss: 0.0000e+00 - sigma_val: 0.3065 - volk_val: 16.8366 - ricci_val: -1.0434\n",
      " - Sigma measure val:      0.3065\n",
      " - Volk val:               16.8366\n",
      " - Ricci measure val:      -1.0434e+00\n",
      "1/1 [==============================] - ETA: 0s - sigma_loss: 0.2460 - volk_loss: 1.0781 - Sigma measure val:      0.3077\n",
      " - Volk val:               17.1623\n",
      " - Ricci measure val:      7.5996\n",
      "1/1 [==============================] - 21s 21s/step - sigma_loss: 0.2460 - volk_loss: 1.0781 - sigma_val: 0.3077 - volk_val: 17.1623 - ricci_val: 7.5996\n",
      "\n",
      "Epoch  8/30\n",
      " - Sigma measure val:      0.3077\n",
      " - Volk val:               17.1623\n",
      " - Ricci measure val:      7.5996\n",
      "352/352 [==============================] - ETA: 0s - sigma_loss: 0.2384 - volk_loss: 0.0000e+00 - Sigma measure val:      0.3002\n",
      " - Volk val:               16.9582\n",
      " - Ricci measure val:      42.1847\n",
      "352/352 [==============================] - 23s 55ms/step - sigma_loss: 0.2384 - volk_loss: 0.0000e+00 - sigma_val: 0.3002 - volk_val: 16.9582 - ricci_val: 42.1847\n",
      " - Sigma measure val:      0.3002\n",
      " - Volk val:               16.9582\n",
      " - Ricci measure val:      42.1846\n",
      "1/1 [==============================] - ETA: 0s - sigma_loss: 0.2328 - volk_loss: 1.0291 - Sigma measure val:      0.3005\n",
      " - Volk val:               17.2294\n",
      " - Ricci measure val:      10.1329\n",
      "1/1 [==============================] - 22s 22s/step - sigma_loss: 0.2328 - volk_loss: 1.0291 - sigma_val: 0.3005 - volk_val: 17.2294 - ricci_val: 10.1329\n",
      "\n",
      "Epoch  9/30\n",
      " - Sigma measure val:      0.3005\n",
      " - Volk val:               17.2294\n",
      " - Ricci measure val:      10.1329\n",
      "351/352 [============================>.] - ETA: 0s - sigma_loss: 0.2293 - volk_loss: 0.0000e+00 - Sigma measure val:      0.2851\n",
      " - Volk val:               16.5495\n",
      " - Ricci measure val:      7.6744\n",
      "352/352 [==============================] - 17s 43ms/step - sigma_loss: 0.2292 - volk_loss: 0.0000e+00 - sigma_val: 0.2851 - volk_val: 16.5495 - ricci_val: 7.6744\n",
      " - Sigma measure val:      0.2851\n",
      " - Volk val:               16.5495\n",
      " - Ricci measure val:      7.6744\n",
      "1/1 [==============================] - ETA: 0s - sigma_loss: 0.2210 - volk_loss: 1.1795 - Sigma measure val:      0.2861\n",
      " - Volk val:               17.0216\n",
      " - Ricci measure val:      7.4431\n",
      "1/1 [==============================] - 22s 22s/step - sigma_loss: 0.2210 - volk_loss: 1.1795 - sigma_val: 0.2861 - volk_val: 17.0216 - ricci_val: 7.4431\n"
     ]
    },
    {
     "name": "stdout",
     "output_type": "stream",
     "text": [
      "\n",
      "Epoch 10/30\n",
      " - Sigma measure val:      0.2861\n",
      " - Volk val:               17.0216\n",
      " - Ricci measure val:      7.4431\n",
      "351/352 [============================>.] - ETA: 0s - sigma_loss: 0.2213 - volk_loss: 0.0000e+00 - Sigma measure val:      0.2737\n",
      " - Volk val:               17.4905\n",
      " - Ricci measure val:      -3.9543e+02\n",
      "352/352 [==============================] - 21s 48ms/step - sigma_loss: 0.2212 - volk_loss: 0.0000e+00 - sigma_val: 0.2737 - volk_val: 17.4905 - ricci_val: -395.4341\n",
      " - Sigma measure val:      0.2737\n",
      " - Volk val:               17.4905\n",
      " - Ricci measure val:      -3.9543e+02\n",
      "1/1 [==============================] - ETA: 0s - sigma_loss: 0.2174 - volk_loss: 0.8739 - Sigma measure val:      0.2745\n",
      " - Volk val:               17.8296\n",
      " - Ricci measure val:      37.5302\n",
      "1/1 [==============================] - 21s 21s/step - sigma_loss: 0.2174 - volk_loss: 0.8739 - sigma_val: 0.2745 - volk_val: 17.8296 - ricci_val: 37.5302\n",
      "\n",
      "Epoch 11/30\n",
      " - Sigma measure val:      0.2745\n",
      " - Volk val:               17.8296\n",
      " - Ricci measure val:      37.5302\n",
      "352/352 [==============================] - ETA: 0s - sigma_loss: 0.2131 - volk_loss: 0.0000e+00 - Sigma measure val:      0.2677\n",
      " - Volk val:               16.6347\n",
      " - Ricci measure val:      -2.7577e+01\n",
      "352/352 [==============================] - 18s 45ms/step - sigma_loss: 0.2131 - volk_loss: 0.0000e+00 - sigma_val: 0.2677 - volk_val: 16.6347 - ricci_val: -27.5767\n",
      " - Sigma measure val:      0.2677\n",
      " - Volk val:               16.6347\n",
      " - Ricci measure val:      -2.7577e+01\n",
      "1/1 [==============================] - ETA: 0s - sigma_loss: 0.2105 - volk_loss: 1.1423 - Sigma measure val:      0.2676\n",
      " - Volk val:               16.9607\n",
      " - Ricci measure val:      -6.8183e+00\n",
      "1/1 [==============================] - 21s 21s/step - sigma_loss: 0.2105 - volk_loss: 1.1423 - sigma_val: 0.2676 - volk_val: 16.9607 - ricci_val: -6.8183\n",
      "\n",
      "Epoch 12/30\n",
      " - Sigma measure val:      0.2676\n",
      " - Volk val:               16.9607\n",
      " - Ricci measure val:      -6.8183e+00\n",
      "350/352 [============================>.] - ETA: 0s - sigma_loss: 0.2049 - volk_loss: 0.0000e+00 - Sigma measure val:      0.2572\n",
      " - Volk val:               17.5347\n",
      " - Ricci measure val:      8.6483\n",
      "352/352 [==============================] - 21s 53ms/step - sigma_loss: 0.2050 - volk_loss: 0.0000e+00 - sigma_val: 0.2572 - volk_val: 17.5347 - ricci_val: 8.6483\n",
      " - Sigma measure val:      0.2572\n",
      " - Volk val:               17.5347\n",
      " - Ricci measure val:      8.6483\n",
      "1/1 [==============================] - ETA: 0s - sigma_loss: 0.1986 - volk_loss: 0.8322 - Sigma measure val:      0.2572\n",
      " - Volk val:               17.8837\n",
      " - Ricci measure val:      8.1866\n",
      "1/1 [==============================] - 20s 20s/step - sigma_loss: 0.1986 - volk_loss: 0.8322 - sigma_val: 0.2572 - volk_val: 17.8837 - ricci_val: 8.1866\n",
      "\n",
      "Epoch 13/30\n",
      " - Sigma measure val:      0.2572\n",
      " - Volk val:               17.8837\n",
      " - Ricci measure val:      8.1866\n",
      "351/352 [============================>.] - ETA: 0s - sigma_loss: 0.1983 - volk_loss: 0.0000e+00 - Sigma measure val:      0.2495\n",
      " - Volk val:               17.0857\n",
      " - Ricci measure val:      7.4637\n",
      "352/352 [==============================] - 19s 47ms/step - sigma_loss: 0.1982 - volk_loss: 0.0000e+00 - sigma_val: 0.2495 - volk_val: 17.0857 - ricci_val: 7.4637\n",
      " - Sigma measure val:      0.2495\n",
      " - Volk val:               17.0857\n",
      " - Ricci measure val:      7.4637\n",
      "1/1 [==============================] - ETA: 0s - sigma_loss: 0.1895 - volk_loss: 1.0006 - Sigma measure val:      0.2493\n",
      " - Volk val:               17.4102\n",
      " - Ricci measure val:      7.3494\n",
      "1/1 [==============================] - 21s 21s/step - sigma_loss: 0.1895 - volk_loss: 1.0006 - sigma_val: 0.2493 - volk_val: 17.4102 - ricci_val: 7.3494\n",
      "\n",
      "Epoch 14/30\n",
      " - Sigma measure val:      0.2493\n",
      " - Volk val:               17.4102\n",
      " - Ricci measure val:      7.3494\n",
      "351/352 [============================>.] - ETA: 0s - sigma_loss: 0.1917 - volk_loss: 0.0000e+00 - Sigma measure val:      0.2444\n",
      " - Volk val:               17.3426\n",
      " - Ricci measure val:      7.5373\n",
      "352/352 [==============================] - 20s 50ms/step - sigma_loss: 0.1917 - volk_loss: 0.0000e+00 - sigma_val: 0.2444 - volk_val: 17.3426 - ricci_val: 7.5373\n",
      " - Sigma measure val:      0.2444\n",
      " - Volk val:               17.3426\n",
      " - Ricci measure val:      7.5373\n",
      "1/1 [==============================] - ETA: 0s - sigma_loss: 0.1859 - volk_loss: 0.8910 - Sigma measure val:      0.2454\n",
      " - Volk val:               17.5878\n",
      " - Ricci measure val:      7.4042\n",
      "1/1 [==============================] - 21s 21s/step - sigma_loss: 0.1859 - volk_loss: 0.8910 - sigma_val: 0.2454 - volk_val: 17.5878 - ricci_val: 7.4042\n",
      "\n",
      "Epoch 15/30\n",
      " - Sigma measure val:      0.2454\n",
      " - Volk val:               17.5878\n",
      " - Ricci measure val:      7.4042\n",
      "351/352 [============================>.] - ETA: 0s - sigma_loss: 0.1861 - volk_loss: 0.0000e+00 - Sigma measure val:      0.2360\n",
      " - Volk val:               18.0364\n",
      " - Ricci measure val:      8.4721\n",
      "352/352 [==============================] - 19s 49ms/step - sigma_loss: 0.1861 - volk_loss: 0.0000e+00 - sigma_val: 0.2360 - volk_val: 18.0364 - ricci_val: 8.4721\n",
      " - Sigma measure val:      0.2360\n",
      " - Volk val:               18.0364\n",
      " - Ricci measure val:      8.4721\n",
      "1/1 [==============================] - ETA: 0s - sigma_loss: 0.1815 - volk_loss: 0.6857 - Sigma measure val:      0.2367\n",
      " - Volk val:               18.2295\n",
      " - Ricci measure val:      26.3142\n",
      "1/1 [==============================] - 22s 22s/step - sigma_loss: 0.1815 - volk_loss: 0.6857 - sigma_val: 0.2367 - volk_val: 18.2295 - ricci_val: 26.3142\n",
      "\n",
      "Epoch 16/30\n",
      " - Sigma measure val:      0.2367\n",
      " - Volk val:               18.2295\n",
      " - Ricci measure val:      26.3142\n",
      "350/352 [============================>.] - ETA: 0s - sigma_loss: 0.1798 - volk_loss: 0.0000e+00 - Sigma measure val:      0.2264\n",
      " - Volk val:               18.1035\n",
      " - Ricci measure val:      7.9622\n",
      "352/352 [==============================] - 19s 48ms/step - sigma_loss: 0.1797 - volk_loss: 0.0000e+00 - sigma_val: 0.2264 - volk_val: 18.1035 - ricci_val: 7.9622\n",
      " - Sigma measure val:      0.2264\n",
      " - Volk val:               18.1035\n",
      " - Ricci measure val:      7.9622\n",
      "1/1 [==============================] - ETA: 0s - sigma_loss: 0.1717 - volk_loss: 0.6777 - Sigma measure val:      0.2264\n",
      " - Volk val:               18.4777\n",
      " - Ricci measure val:      6.8106\n",
      "1/1 [==============================] - 21s 21s/step - sigma_loss: 0.1717 - volk_loss: 0.6777 - sigma_val: 0.2264 - volk_val: 18.4777 - ricci_val: 6.8106\n",
      "\n",
      "Epoch 17/30\n",
      " - Sigma measure val:      0.2264\n",
      " - Volk val:               18.4777\n",
      " - Ricci measure val:      6.8106\n",
      "351/352 [============================>.] - ETA: 0s - sigma_loss: 0.1745 - volk_loss: 0.0000e+00 - Sigma measure val:      0.2218\n",
      " - Volk val:               17.4084\n",
      " - Ricci measure val:      5.7037\n",
      "352/352 [==============================] - 18s 45ms/step - sigma_loss: 0.1746 - volk_loss: 0.0000e+00 - sigma_val: 0.2218 - volk_val: 17.4084 - ricci_val: 5.7037\n",
      " - Sigma measure val:      0.2218\n",
      " - Volk val:               17.4084\n",
      " - Ricci measure val:      5.7037\n",
      "1/1 [==============================] - ETA: 0s - sigma_loss: 0.1709 - volk_loss: 0.8938 - Sigma measure val:      0.2218\n",
      " - Volk val:               17.6405\n",
      " - Ricci measure val:      5.3612\n",
      "1/1 [==============================] - 25s 25s/step - sigma_loss: 0.1709 - volk_loss: 0.8938 - sigma_val: 0.2218 - volk_val: 17.6405 - ricci_val: 5.3612\n",
      "\n",
      "Epoch 18/30\n",
      " - Sigma measure val:      0.2218\n",
      " - Volk val:               17.6405\n",
      " - Ricci measure val:      5.3612\n",
      "350/352 [============================>.] - ETA: 0s - sigma_loss: 0.1688 - volk_loss: 0.0000e+00 - Sigma measure val:      0.2164\n",
      " - Volk val:               17.5805\n",
      " - Ricci measure val:      6.3593\n",
      "352/352 [==============================] - 21s 54ms/step - sigma_loss: 0.1687 - volk_loss: 0.0000e+00 - sigma_val: 0.2164 - volk_val: 17.5805 - ricci_val: 6.3593\n",
      " - Sigma measure val:      0.2164\n",
      " - Volk val:               17.5805\n",
      " - Ricci measure val:      6.3593\n",
      "1/1 [==============================] - ETA: 0s - sigma_loss: 0.1636 - volk_loss: 0.8533 - Sigma measure val:      0.2162\n",
      " - Volk val:               17.8153\n",
      " - Ricci measure val:      5.9617\n",
      "1/1 [==============================] - 22s 22s/step - sigma_loss: 0.1636 - volk_loss: 0.8533 - sigma_val: 0.2162 - volk_val: 17.8153 - ricci_val: 5.9617\n"
     ]
    },
    {
     "name": "stdout",
     "output_type": "stream",
     "text": [
      "\n",
      "Epoch 19/30\n",
      " - Sigma measure val:      0.2162\n",
      " - Volk val:               17.8153\n",
      " - Ricci measure val:      5.9617\n",
      "350/352 [============================>.] - ETA: 0s - sigma_loss: 0.1645 - volk_loss: 0.0000e+00 - Sigma measure val:      0.2158\n",
      " - Volk val:               18.0631\n",
      " - Ricci measure val:      8.3452\n",
      "352/352 [==============================] - 19s 49ms/step - sigma_loss: 0.1645 - volk_loss: 0.0000e+00 - sigma_val: 0.2158 - volk_val: 18.0631 - ricci_val: 8.3452\n",
      " - Sigma measure val:      0.2158\n",
      " - Volk val:               18.0631\n",
      " - Ricci measure val:      8.3452\n",
      "1/1 [==============================] - ETA: 0s - sigma_loss: 0.1584 - volk_loss: 0.6597 - Sigma measure val:      0.2170\n",
      " - Volk val:               18.2085\n",
      " - Ricci measure val:      8.2441\n",
      "1/1 [==============================] - 21s 21s/step - sigma_loss: 0.1584 - volk_loss: 0.6597 - sigma_val: 0.2170 - volk_val: 18.2085 - ricci_val: 8.2441\n",
      "\n",
      "Epoch 20/30\n",
      " - Sigma measure val:      0.2170\n",
      " - Volk val:               18.2085\n",
      " - Ricci measure val:      8.2441\n",
      "351/352 [============================>.] - ETA: 0s - sigma_loss: 0.1595 - volk_loss: 0.0000e+00 - Sigma measure val:      0.2080\n",
      " - Volk val:               18.3069\n",
      " - Ricci measure val:      6.4817\n",
      "352/352 [==============================] - 18s 45ms/step - sigma_loss: 0.1595 - volk_loss: 0.0000e+00 - sigma_val: 0.2080 - volk_val: 18.3069 - ricci_val: 6.4817\n",
      " - Sigma measure val:      0.2080\n",
      " - Volk val:               18.3069\n",
      " - Ricci measure val:      6.4817\n",
      "1/1 [==============================] - ETA: 0s - sigma_loss: 0.1538 - volk_loss: 0.6166 - Sigma measure val:      0.2079\n",
      " - Volk val:               18.5386\n",
      " - Ricci measure val:      6.5133\n",
      "1/1 [==============================] - 23s 23s/step - sigma_loss: 0.1538 - volk_loss: 0.6166 - sigma_val: 0.2079 - volk_val: 18.5386 - ricci_val: 6.5133\n",
      "\n",
      "Epoch 21/30\n",
      " - Sigma measure val:      0.2079\n",
      " - Volk val:               18.5386\n",
      " - Ricci measure val:      6.5133\n",
      "352/352 [==============================] - ETA: 0s - sigma_loss: 0.1554 - volk_loss: 0.0000e+00 - Sigma measure val:      0.2032\n",
      " - Volk val:               18.4217\n",
      " - Ricci measure val:      6.4988\n",
      "352/352 [==============================] - 25s 54ms/step - sigma_loss: 0.1554 - volk_loss: 0.0000e+00 - sigma_val: 0.2032 - volk_val: 18.4217 - ricci_val: 6.4988\n",
      " - Sigma measure val:      0.2032\n",
      " - Volk val:               18.4217\n",
      " - Ricci measure val:      6.4988\n",
      "1/1 [==============================] - ETA: 0s - sigma_loss: 0.1507 - volk_loss: 0.5528 - Sigma measure val:      0.2034\n",
      " - Volk val:               18.5500\n",
      " - Ricci measure val:      6.5218\n",
      "1/1 [==============================] - 23s 23s/step - sigma_loss: 0.1507 - volk_loss: 0.5528 - sigma_val: 0.2034 - volk_val: 18.5500 - ricci_val: 6.5218\n",
      "\n",
      "Epoch 22/30\n",
      " - Sigma measure val:      0.2034\n",
      " - Volk val:               18.5500\n",
      " - Ricci measure val:      6.5218\n",
      "352/352 [==============================] - ETA: 0s - sigma_loss: 0.1520 - volk_loss: 0.0000e+00 - Sigma measure val:      0.2045\n",
      " - Volk val:               18.2067\n",
      " - Ricci measure val:      6.8984\n",
      "352/352 [==============================] - 20s 49ms/step - sigma_loss: 0.1520 - volk_loss: 0.0000e+00 - sigma_val: 0.2045 - volk_val: 18.2067 - ricci_val: 6.8984\n",
      " - Sigma measure val:      0.2045\n",
      " - Volk val:               18.2067\n",
      " - Ricci measure val:      6.8984\n",
      "1/1 [==============================] - ETA: 0s - sigma_loss: 0.1501 - volk_loss: 0.6343 - Sigma measure val:      0.2045\n",
      " - Volk val:               18.3100\n",
      " - Ricci measure val:      6.8742\n",
      "1/1 [==============================] - 22s 22s/step - sigma_loss: 0.1501 - volk_loss: 0.6343 - sigma_val: 0.2045 - volk_val: 18.3100 - ricci_val: 6.8742\n",
      "\n",
      "Epoch 23/30\n",
      " - Sigma measure val:      0.2045\n",
      " - Volk val:               18.3100\n",
      " - Ricci measure val:      6.8742\n",
      "351/352 [============================>.] - ETA: 0s - sigma_loss: 0.1497 - volk_loss: 0.0000e+00 - Sigma measure val:      0.1990\n",
      " - Volk val:               17.9683\n",
      " - Ricci measure val:      6.6105\n",
      "352/352 [==============================] - 19s 49ms/step - sigma_loss: 0.1497 - volk_loss: 0.0000e+00 - sigma_val: 0.1990 - volk_val: 17.9683 - ricci_val: 6.6105\n",
      " - Sigma measure val:      0.1990\n",
      " - Volk val:               17.9683\n",
      " - Ricci measure val:      6.6105\n",
      "1/1 [==============================] - ETA: 0s - sigma_loss: 0.1455 - volk_loss: 0.7170 - Sigma measure val:      0.1987\n",
      " - Volk val:               18.1604\n",
      " - Ricci measure val:      6.5431\n",
      "1/1 [==============================] - 21s 21s/step - sigma_loss: 0.1455 - volk_loss: 0.7170 - sigma_val: 0.1987 - volk_val: 18.1604 - ricci_val: 6.5431\n",
      "\n",
      "Epoch 24/30\n",
      " - Sigma measure val:      0.1987\n",
      " - Volk val:               18.1604\n",
      " - Ricci measure val:      6.5431\n",
      "352/352 [==============================] - ETA: 0s - sigma_loss: 0.1453 - volk_loss: 0.0000e+00 - Sigma measure val:      0.1959\n",
      " - Volk val:               18.2881\n",
      " - Ricci measure val:      7.4793\n",
      "352/352 [==============================] - 18s 46ms/step - sigma_loss: 0.1453 - volk_loss: 0.0000e+00 - sigma_val: 0.1959 - volk_val: 18.2881 - ricci_val: 7.4793\n",
      " - Sigma measure val:      0.1959\n",
      " - Volk val:               18.2881\n",
      " - Ricci measure val:      7.4793\n",
      "1/1 [==============================] - ETA: 0s - sigma_loss: 0.1391 - volk_loss: 0.5948 - Sigma measure val:      0.1967\n",
      " - Volk val:               18.4072\n",
      " - Ricci measure val:      7.2482\n",
      "1/1 [==============================] - 29s 29s/step - sigma_loss: 0.1391 - volk_loss: 0.5948 - sigma_val: 0.1967 - volk_val: 18.4072 - ricci_val: 7.2482\n",
      "\n",
      "Epoch 25/30\n",
      " - Sigma measure val:      0.1967\n",
      " - Volk val:               18.4072\n",
      " - Ricci measure val:      7.2482\n",
      "351/352 [============================>.] - ETA: 0s - sigma_loss: 0.1431 - volk_loss: 0.0000e+00 - Sigma measure val:      0.1901\n",
      " - Volk val:               18.1312\n",
      " - Ricci measure val:      6.1375\n",
      "352/352 [==============================] - 22s 55ms/step - sigma_loss: 0.1431 - volk_loss: 0.0000e+00 - sigma_val: 0.1901 - volk_val: 18.1312 - ricci_val: 6.1375\n",
      " - Sigma measure val:      0.1901\n",
      " - Volk val:               18.1312\n",
      " - Ricci measure val:      6.1375\n",
      "1/1 [==============================] - ETA: 0s - sigma_loss: 0.1401 - volk_loss: 0.6609 - Sigma measure val:      0.1903\n",
      " - Volk val:               18.1894\n",
      " - Ricci measure val:      6.1675\n",
      "1/1 [==============================] - 22s 22s/step - sigma_loss: 0.1401 - volk_loss: 0.6609 - sigma_val: 0.1903 - volk_val: 18.1894 - ricci_val: 6.1675\n",
      "\n",
      "Epoch 26/30\n",
      " - Sigma measure val:      0.1903\n",
      " - Volk val:               18.1894\n",
      " - Ricci measure val:      6.1675\n",
      "351/352 [============================>.] - ETA: 0s - sigma_loss: 0.1399 - volk_loss: 0.0000e+00 - Sigma measure val:      0.1890\n",
      " - Volk val:               18.3546\n",
      " - Ricci measure val:      6.0576\n",
      "352/352 [==============================] - 19s 47ms/step - sigma_loss: 0.1399 - volk_loss: 0.0000e+00 - sigma_val: 0.1890 - volk_val: 18.3546 - ricci_val: 6.0576\n",
      " - Sigma measure val:      0.1890\n",
      " - Volk val:               18.3546\n",
      " - Ricci measure val:      6.0576\n",
      "1/1 [==============================] - ETA: 0s - sigma_loss: 0.1341 - volk_loss: 0.5857 - Sigma measure val:      0.1895\n",
      " - Volk val:               18.5521\n",
      " - Ricci measure val:      6.0735\n",
      "1/1 [==============================] - 22s 22s/step - sigma_loss: 0.1341 - volk_loss: 0.5857 - sigma_val: 0.1895 - volk_val: 18.5521 - ricci_val: 6.0735\n",
      "\n",
      "Epoch 27/30\n",
      " - Sigma measure val:      0.1895\n",
      " - Volk val:               18.5521\n",
      " - Ricci measure val:      6.0735\n",
      "350/352 [============================>.] - ETA: 0s - sigma_loss: 0.1373 - volk_loss: 0.0000e+00 - Sigma measure val:      0.1888\n",
      " - Volk val:               18.5597\n",
      " - Ricci measure val:      6.3668\n",
      "352/352 [==============================] - 18s 46ms/step - sigma_loss: 0.1373 - volk_loss: 0.0000e+00 - sigma_val: 0.1888 - volk_val: 18.5597 - ricci_val: 6.3668\n",
      " - Sigma measure val:      0.1888\n",
      " - Volk val:               18.5597\n",
      " - Ricci measure val:      6.3668\n",
      "1/1 [==============================] - ETA: 0s - sigma_loss: 0.1341 - volk_loss: 0.5333 - Sigma measure val:      0.1885\n",
      " - Volk val:               18.7434\n",
      " - Ricci measure val:      6.3648\n",
      "1/1 [==============================] - 21s 21s/step - sigma_loss: 0.1341 - volk_loss: 0.5333 - sigma_val: 0.1885 - volk_val: 18.7434 - ricci_val: 6.3648\n"
     ]
    },
    {
     "name": "stdout",
     "output_type": "stream",
     "text": [
      "\n",
      "Epoch 28/30\n",
      " - Sigma measure val:      0.1885\n",
      " - Volk val:               18.7434\n",
      " - Ricci measure val:      6.3648\n",
      "350/352 [============================>.] - ETA: 0s - sigma_loss: 0.1340 - volk_loss: 0.0000e+00 - Sigma measure val:      0.1836\n",
      " - Volk val:               18.7233\n",
      " - Ricci measure val:      6.1996\n",
      "352/352 [==============================] - 18s 44ms/step - sigma_loss: 0.1339 - volk_loss: 0.0000e+00 - sigma_val: 0.1836 - volk_val: 18.7233 - ricci_val: 6.1996\n",
      " - Sigma measure val:      0.1836\n",
      " - Volk val:               18.7233\n",
      " - Ricci measure val:      6.1996\n",
      "1/1 [==============================] - ETA: 0s - sigma_loss: 0.1321 - volk_loss: 0.4719 - Sigma measure val:      0.1838\n",
      " - Volk val:               18.8234\n",
      " - Ricci measure val:      6.2144\n",
      "1/1 [==============================] - 22s 22s/step - sigma_loss: 0.1321 - volk_loss: 0.4719 - sigma_val: 0.1838 - volk_val: 18.8234 - ricci_val: 6.2144\n",
      "\n",
      "Epoch 29/30\n",
      " - Sigma measure val:      0.1838\n",
      " - Volk val:               18.8234\n",
      " - Ricci measure val:      6.2144\n",
      "352/352 [==============================] - ETA: 0s - sigma_loss: 0.1320 - volk_loss: 0.0000e+00 - Sigma measure val:      0.1793\n",
      " - Volk val:               18.4695\n",
      " - Ricci measure val:      5.9755\n",
      "352/352 [==============================] - 28s 57ms/step - sigma_loss: 0.1320 - volk_loss: 0.0000e+00 - sigma_val: 0.1793 - volk_val: 18.4695 - ricci_val: 5.9755\n",
      " - Sigma measure val:      0.1793\n",
      " - Volk val:               18.4695\n",
      " - Ricci measure val:      5.9755\n",
      "1/1 [==============================] - ETA: 0s - sigma_loss: 0.1287 - volk_loss: 0.5465 - Sigma measure val:      0.1794\n",
      " - Volk val:               18.4905\n",
      " - Ricci measure val:      6.0181\n",
      "1/1 [==============================] - 22s 22s/step - sigma_loss: 0.1287 - volk_loss: 0.5465 - sigma_val: 0.1794 - volk_val: 18.4905 - ricci_val: 6.0181\n",
      "\n",
      "Epoch 30/30\n",
      " - Sigma measure val:      0.1794\n",
      " - Volk val:               18.4905\n",
      " - Ricci measure val:      6.0181\n",
      "351/352 [============================>.] - ETA: 0s - sigma_loss: 0.1302 - volk_loss: 0.0000e+00 - Sigma measure val:      0.1788\n",
      " - Volk val:               18.6655\n",
      " - Ricci measure val:      5.9002\n",
      "352/352 [==============================] - 20s 51ms/step - sigma_loss: 0.1302 - volk_loss: 0.0000e+00 - sigma_val: 0.1788 - volk_val: 18.6655 - ricci_val: 5.9002\n",
      " - Sigma measure val:      0.1788\n",
      " - Volk val:               18.6655\n",
      " - Ricci measure val:      5.9002\n",
      "1/1 [==============================] - ETA: 0s - sigma_loss: 0.1236 - volk_loss: 0.4824 - Sigma measure val:      0.1795\n",
      " - Volk val:               18.7711\n",
      " - Ricci measure val:      5.9160\n",
      "1/1 [==============================] - 23s 23s/step - sigma_loss: 0.1236 - volk_loss: 0.4824 - sigma_val: 0.1795 - volk_val: 18.7711 - ricci_val: 5.9160\n"
     ]
    }
   ],
   "source": [
    "os.environ['TF_CPP_MIN_LOG_LEVEL'] = '0'  # mostly silences TF logger\n",
    "fs_model, training_history = train_model(fs_model, data, epochs=n_epochs, batch_sizes=batch_sizes, verbose=1, callbacks=cb_list)"
   ]
  },
  {
   "cell_type": "markdown",
   "metadata": {},
   "source": [
    "Check the volume normailzation of our data"
   ]
  },
  {
   "cell_type": "code",
   "execution_count": 11,
   "metadata": {},
   "outputs": [
    {
     "name": "stdout",
     "output_type": "stream",
     "text": [
      "Vol_K from triple intersection numbers at t1=t2=1:                 20\n",
      "Vol_K from MC integration over FS metric in Kahler class t1=t2=1:  19.99\n",
      "Vol_K from MC integration over CY metric in Kahler class t1=t2=1:  18.72\n"
     ]
    }
   ],
   "source": [
    "dets_fs = np.real(tf.linalg.det(fs_model.fubini_study_pb(tf.cast(data['X_train'], tf.float32))).numpy())\n",
    "dets_cy = np.real(tf.linalg.det(fs_model(tf.cast(data['X_train'], tf.float32))).numpy())\n",
    "weights, omegas = data['y_train'][:,-2], data['y_train'][:,-1]\n",
    "vol_k_fs = np.mean(weights * dets_fs / omegas)\n",
    "vol_k_cy = np.mean(weights * dets_cy / omegas)\n",
    "print(\"Vol_K from triple intersection numbers at t1=t2=1:                \", toric_data['vol_j_norm'])\n",
    "print(\"Vol_K from MC integration over FS metric in Kahler class t1=t2=1: \", np.round(vol_k_fs, 2))\n",
    "print(\"Vol_K from MC integration over CY metric in Kahler class t1=t2=1: \", np.round(vol_k_cy, 2))"
   ]
  },
  {
   "cell_type": "markdown",
   "metadata": {},
   "source": [
    "... and look at the value of the Kahler potential"
   ]
  },
  {
   "cell_type": "code",
   "execution_count": 12,
   "metadata": {},
   "outputs": [
    {
     "data": {
      "text/plain": [
       "<tf.Tensor: shape=(10,), dtype=float32, numpy=\n",
       "array([0.24540266, 0.23927866, 0.34966105, 0.29731768, 0.34548414,\n",
       "       0.47277343, 0.3835945 , 0.44547233, 0.0607785 , 0.1606723 ],\n",
       "      dtype=float32)>"
      ]
     },
     "execution_count": 12,
     "metadata": {},
     "output_type": "execute_result"
    }
   ],
   "source": [
    "fs_model.get_kahler_potential(data['X_train'][:10])"
   ]
  },
  {
   "cell_type": "markdown",
   "metadata": {},
   "source": [
    "## Plot the results"
   ]
  },
  {
   "cell_type": "code",
   "execution_count": 13,
   "metadata": {},
   "outputs": [],
   "source": [
    "import matplotlib.pyplot as plt\n",
    "import seaborn as sns\n",
    "import pandas as pd\n",
    "sns.set_style(\"darkgrid\")"
   ]
  },
  {
   "cell_type": "markdown",
   "metadata": {},
   "source": [
    "Note that vol_k val should be constant (and equal to 20.0). So in this case, it is off by 15%)"
   ]
  },
  {
   "cell_type": "code",
   "execution_count": 14,
   "metadata": {
    "scrolled": false
   },
   "outputs": [
    {
     "data": {
      "image/png": "[encoded data removed]",
      "text/plain": [
       "<Figure size 720x360 with 2 Axes>"
      ]
     },
     "metadata": {},
     "output_type": "display_data"
    }
   ],
   "source": [
    "hist = training_history\n",
    "hist['epochs'] = list(range(n_epochs))\n",
    "hist_data = pd.DataFrame(hist)\n",
    "fig, [ax1, ax2] = plt.subplots(1, 2, figsize=(10,5));\n",
    "ax1.set_title(\"Monge-Ampere loss\")\n",
    "sns.scatterplot(x='epochs', y='sigma_loss', data=hist_data, alpha=0.75, ax=ax1, label=\"train\")\n",
    "sns.scatterplot(x='epochs', y='sigma_val', data=hist_data, alpha=0.75, ax=ax1, label=\"val\")\n",
    "\n",
    "ax2.set_title(\"Vol_K value of validation set\")\n",
    "sns.scatterplot(x='epochs', y='volk_val', data=hist_data, alpha=0.75, ax=ax2, label=\"val\");"
   ]
  },
  {
   "cell_type": "code",
   "execution_count": null,
   "metadata": {},
   "outputs": [],
   "source": []
  }
 ],
 "metadata": {
  "kernelspec": {
   "display_name": "SageMath 9.5",
   "language": "sage",
   "name": "sagemath-9.5"
  },
  "language": "python",
  "language_info": {
   "codemirror_mode": {
    "name": "ipython",
    "version": 3
   },
   "file_extension": ".py",
   "mimetype": "text/x-python",
   "name": "python",
   "nbconvert_exporter": "python",
   "pygments_lexer": "ipython3",
   "version": "3.9.9"
  }
 },
 "nbformat": 4,
 "nbformat_minor": 2
}
